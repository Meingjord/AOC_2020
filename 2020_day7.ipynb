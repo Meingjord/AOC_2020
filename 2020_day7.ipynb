{
 "metadata": {
  "language_info": {
   "codemirror_mode": {
    "name": "ipython",
    "version": 3
   },
   "file_extension": ".py",
   "mimetype": "text/x-python",
   "name": "python",
   "nbconvert_exporter": "python",
   "pygments_lexer": "ipython3",
   "version": "3.6.2-final"
  },
  "orig_nbformat": 2,
  "kernelspec": {
   "name": "python3",
   "display_name": "Python 3",
   "language": "python"
  }
 },
 "nbformat": 4,
 "nbformat_minor": 2,
 "cells": [
  {
   "source": [
    "import pandas as pd\n",
    "import os\n",
    "import unittest\n",
    "import string\n",
    "import re\n",
    "pd.set_option('display.max_rows', 10)"
   ],
   "cell_type": "code",
   "metadata": {},
   "execution_count": 1,
   "outputs": []
  },
  {
   "cell_type": "code",
   "execution_count": 2,
   "metadata": {},
   "outputs": [
    {
     "output_type": "execute_result",
     "data": {
      "text/plain": [
       "0      dark olive bags contain 2 muted brown bags, 1 ...\n",
       "1      faded coral bags contain 3 drab cyan bags, 1 l...\n",
       "2          plaid plum bags contain 2 mirrored cyan bags.\n",
       "3      clear maroon bags contain 1 dotted turquoise b...\n",
       "4      plaid coral bags contain 3 posh fuchsia bags, ...\n",
       "                             ...                        \n",
       "589          bright plum bags contain 5 wavy brown bags.\n",
       "590         pale coral bags contain 3 bright olive bags.\n",
       "591    dim fuchsia bags contain 2 bright chartreuse b...\n",
       "592    dim cyan bags contain 2 faded tan bags, 4 mirr...\n",
       "593    faded cyan bags contain 1 dotted black bag, 1 ...\n",
       "Length: 594, dtype: object"
      ]
     },
     "metadata": {},
     "execution_count": 2
    }
   ],
   "source": [
    "trainFile = \"F:/Code/AOC/2020/inputs/2020_day7_input.txt\"\n",
    "pwd = os.getcwd()\n",
    "os.chdir(os.path.dirname(trainFile))\n",
    "file1 = open(trainFile, 'r') \n",
    "s = file1.read().splitlines()\n",
    "pd.Series(s)"
   ]
  },
  {
   "cell_type": "code",
   "execution_count": 3,
   "metadata": {},
   "outputs": [
    {
     "output_type": "execute_result",
     "data": {
      "text/plain": [
       "0    light red bags contain 1 bright white bag, 2 m...\n",
       "1    dark orange bags contain 3 bright white bags, ...\n",
       "2          bright white bags contain 1 shiny gold bag.\n",
       "3    muted yellow bags contain 2 shiny gold bags, 9...\n",
       "4    shiny gold bags contain 1 dark olive bag, 2 vi...\n",
       "5    dark olive bags contain 3 faded blue bags, 4 d...\n",
       "6    vibrant plum bags contain 5 faded blue bags, 6...\n",
       "7               faded blue bags contain no other bags.\n",
       "8             dotted black bags contain no other bags.\n",
       "dtype: object"
      ]
     },
     "metadata": {},
     "execution_count": 3
    }
   ],
   "source": [
    "trainFile = \"F:/Code/AOC/2020/inputs/2020_day7_example1.txt\"\n",
    "pwd = os.getcwd()\n",
    "os.chdir(os.path.dirname(trainFile))\n",
    "file1 = open(trainFile, 'r') \n",
    "s_ex1 = file1.read().splitlines()\n",
    "pd.Series(s_ex1)"
   ]
  },
  {
   "cell_type": "code",
   "execution_count": 4,
   "metadata": {},
   "outputs": [
    {
     "output_type": "execute_result",
     "data": {
      "text/plain": [
       "0    light red bags contain 1 bright white bag, 2 m...\n",
       "1    dark orange bags contain 3 bright white bags, ...\n",
       "2          bright white bags contain 1 shiny gold bag.\n",
       "3    muted yellow bags contain 2 shiny gold bags, 9...\n",
       "4    shiny gold bags contain 1 dark olive bag, 2 vi...\n",
       "5    dark olive bags contain 3 faded blue bags, 4 d...\n",
       "6    vibrant plum bags contain 5 faded blue bags, 6...\n",
       "7               faded blue bags contain no other bags.\n",
       "8             dotted black bags contain no other bags.\n",
       "dtype: object"
      ]
     },
     "metadata": {},
     "execution_count": 4
    }
   ],
   "source": [
    "trainFile = \"F:/Code/AOC/2020/inputs/2020_day7_example2.txt\"\n",
    "pwd = os.getcwd()\n",
    "os.chdir(os.path.dirname(trainFile))\n",
    "file2 = open(trainFile, 'r') \n",
    "s_ex2 = file2.read().splitlines()\n",
    "pd.Series(s_ex1)"
   ]
  },
  {
   "cell_type": "code",
   "execution_count": 5,
   "metadata": {},
   "outputs": [],
   "source": [
    "def splitPart(part):\n",
    "    subparts = part.split(\" \")\n",
    "    count = int(subparts[0])\n",
    "    rest = \"\".join(subparts[1:])\n",
    "    return (rest, count)\n",
    "\n",
    "def parseRule(line):\n",
    "    line = line.replace(\"bag.\",\"bags\")\n",
    "    line = line.replace(\".\",\"\")\n",
    "    line = line.replace(\"bag,\",\"bags,\")    \n",
    "    line = line.replace(\" contain\",\",\")\n",
    "    line = line.replace(\", no other bags\",\"\")\n",
    "    line = \"1 \" + line\n",
    "    parts = line.split(\", \")\n",
    "    key = splitPart(parts[0])\n",
    "    values = dict(map(splitPart, parts[1:]))\n",
    "    return (key[0],values)"
   ]
  },
  {
   "cell_type": "code",
   "execution_count": 6,
   "metadata": {},
   "outputs": [
    {
     "output_type": "execute_result",
     "data": {
      "text/plain": [
       "{'brightwhitebags': {'shinygoldbags': 1},\n",
       " 'darkolivebags': {'dottedblackbags': 4, 'fadedbluebags': 3},\n",
       " 'darkorangebags': {'brightwhitebags': 3, 'mutedyellowbags': 4},\n",
       " 'dottedblackbags': {},\n",
       " 'fadedbluebags': {},\n",
       " 'lightredbags': {'brightwhitebags': 1, 'mutedyellowbags': 2},\n",
       " 'mutedyellowbags': {'fadedbluebags': 9, 'shinygoldbags': 2},\n",
       " 'shinygoldbags': {'darkolivebags': 1, 'vibrantplumbags': 2},\n",
       " 'vibrantplumbags': {'dottedblackbags': 6, 'fadedbluebags': 5}}"
      ]
     },
     "metadata": {},
     "execution_count": 6
    }
   ],
   "source": [
    "rules_ex1 = dict(map(parseRule, s_ex1))\n",
    "rules_ex1"
   ]
  },
  {
   "cell_type": "code",
   "execution_count": 7,
   "metadata": {},
   "outputs": [
    {
     "output_type": "execute_result",
     "data": {
      "text/plain": [
       "{'darkbluebags': {'darkvioletbags': 2},\n",
       " 'darkgreenbags': {'darkbluebags': 2},\n",
       " 'darkorangebags': {'darkyellowbags': 2},\n",
       " 'darkredbags': {'darkorangebags': 2},\n",
       " 'darkvioletbags': {},\n",
       " 'darkyellowbags': {'darkgreenbags': 2},\n",
       " 'shinygoldbags': {'darkredbags': 2}}"
      ]
     },
     "metadata": {},
     "execution_count": 7
    }
   ],
   "source": [
    "rules_ex2 = dict(map(parseRule, s_ex2))\n",
    "rules_ex2"
   ]
  },
  {
   "cell_type": "code",
   "execution_count": 8,
   "metadata": {},
   "outputs": [
    {
     "output_type": "execute_result",
     "data": {
      "text/plain": [
       "brightaquabags             {'fadedsilverbags': 2, 'dimfuchsiabags': 5}\n",
       "brightbeigebags      {'mutedbrownbags': 5, 'wavyredbags': 4, 'clear...\n",
       "brightblackbags      {'lightmaroonbags': 3, 'shinylimebags': 5, 'vi...\n",
       "brightbluebags                                  {'vibrantplumbags': 4}\n",
       "brightbronzebags                                {'shinymaroonbags': 3}\n",
       "                                           ...                        \n",
       "wavytomatobags                                  {'wavyfuchsiabags': 4}\n",
       "wavyturquoisebags    {'shinyredbags': 5, 'mirroredyellowbags': 3, '...\n",
       "wavyvioletbags                                {'dottedfuchsiabags': 5}\n",
       "wavywhitebags        {'darkbrownbags': 2, 'drabyellowbags': 5, 'dot...\n",
       "wavyyellowbags              {'dimyellowbags': 2, 'dimlavenderbags': 5}\n",
       "Length: 594, dtype: object"
      ]
     },
     "metadata": {},
     "execution_count": 8
    }
   ],
   "source": [
    "rules = dict(map(parseRule, s))\n",
    "pd.Series(rules)"
   ]
  },
  {
   "cell_type": "code",
   "execution_count": 9,
   "metadata": {},
   "outputs": [],
   "source": [
    "def containsGoldReference(input, key):\n",
    "    values = input.get(key)\n",
    "    for v in values:\n",
    "        if v == \"shinygoldbags\":\n",
    "            return 1\n",
    "        elif containsGoldReference(input, v):\n",
    "            return 1\n",
    "    return 0\n",
    "\n",
    "def countGoldReferences(input):\n",
    "    count = 0\n",
    "    for key in input:\n",
    "        if containsGoldReference(input,key):\n",
    "            count += 1\n",
    "    return count"
   ]
  },
  {
   "cell_type": "code",
   "execution_count": 10,
   "metadata": {},
   "outputs": [],
   "source": [
    "class PartOneTests(unittest.TestCase):\n",
    "    def setUp(self):\n",
    "        pass\n",
    "    def tearDown(self):\n",
    "        pass\n",
    "    def test_examples(self):\n",
    "        self.assertEqual(4, countGoldReferences(rules_ex1))     "
   ]
  },
  {
   "cell_type": "code",
   "execution_count": 11,
   "metadata": {},
   "outputs": [
    {
     "output_type": "execute_result",
     "data": {
      "text/plain": [
       "4"
      ]
     },
     "metadata": {},
     "execution_count": 11
    }
   ],
   "source": [
    "countGoldReferences(rules_ex1)"
   ]
  },
  {
   "cell_type": "code",
   "execution_count": 12,
   "metadata": {},
   "outputs": [
    {
     "output_type": "execute_result",
     "data": {
      "text/plain": [
       "246"
      ]
     },
     "metadata": {},
     "execution_count": 12
    }
   ],
   "source": [
    "countGoldReferences(rules)"
   ]
  },
  {
   "cell_type": "code",
   "execution_count": 13,
   "metadata": {},
   "outputs": [],
   "source": [
    "def countBags(input, key):\n",
    "    values = input.get(key)\n",
    "    count = 0\n",
    "    for v in values:\n",
    "        itemCount = values[v]\n",
    "        count += itemCount * countBags(input, v)\n",
    "    return count + 1\n",
    "\n",
    "def countGoldBags(input):\n",
    "    return countBags(input, \"shinygoldbags\") - 1"
   ]
  },
  {
   "cell_type": "code",
   "execution_count": 14,
   "metadata": {},
   "outputs": [],
   "source": [
    "class PartTwoTests(unittest.TestCase):\n",
    "    def setUp(self):\n",
    "        pass\n",
    "    def tearDown(self):\n",
    "        pass\n",
    "    def test_examples(self):\n",
    "        self.assertEqual(32, countGoldBags(rules_ex1))     \n",
    "        self.assertEqual(126, countGoldBags(rules_ex2))     "
   ]
  },
  {
   "cell_type": "code",
   "execution_count": 15,
   "metadata": {},
   "outputs": [
    {
     "output_type": "stream",
     "name": "stderr",
     "text": [
      "test_examples (__main__.PartOneTests) ... ok\n",
      "test_examples (__main__.PartTwoTests) ... ok\n",
      "\n",
      "----------------------------------------------------------------------\n",
      "Ran 2 tests in 0.004s\n",
      "\n",
      "OK\n"
     ]
    },
    {
     "output_type": "execute_result",
     "data": {
      "text/plain": [
       "<unittest.main.TestProgram at 0x22f06dff048>"
      ]
     },
     "metadata": {},
     "execution_count": 15
    }
   ],
   "source": [
    "unittest.main(argv=[''], verbosity=3, exit=False)"
   ]
  },
  {
   "cell_type": "code",
   "execution_count": 16,
   "metadata": {},
   "outputs": [
    {
     "output_type": "execute_result",
     "data": {
      "text/plain": [
       "2976"
      ]
     },
     "metadata": {},
     "execution_count": 16
    }
   ],
   "source": [
    "countGoldBags(rules)"
   ]
  }
 ]
}