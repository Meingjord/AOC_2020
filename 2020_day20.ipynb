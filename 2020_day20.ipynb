{
 "metadata": {
  "language_info": {
   "codemirror_mode": {
    "name": "ipython",
    "version": 3
   },
   "file_extension": ".py",
   "mimetype": "text/x-python",
   "name": "python",
   "nbconvert_exporter": "python",
   "pygments_lexer": "ipython3",
   "version": "3.6.2-final"
  },
  "orig_nbformat": 2,
  "kernelspec": {
   "name": "python3",
   "display_name": "Python 3",
   "language": "python"
  }
 },
 "nbformat": 4,
 "nbformat_minor": 2,
 "cells": [
  {
   "source": [
    "import pandas as pd\n",
    "import os\n",
    "import unittest\n",
    "import string\n",
    "import re\n",
    "import copy\n",
    "pd.set_option('display.max_rows', 10)"
   ],
   "cell_type": "code",
   "metadata": {},
   "execution_count": 1,
   "outputs": []
  },
  {
   "cell_type": "code",
   "execution_count": 4,
   "metadata": {},
   "outputs": [
    {
     "output_type": "execute_result",
     "data": {
      "text/plain": [
       "0       Tile 3187:\n",
       "1       .........#\n",
       "2       ....##...#\n",
       "3       ##..#.#..#\n",
       "4       #.##....##\n",
       "           ...    \n",
       "1722    ..#.......\n",
       "1723    ...##.#...\n",
       "1724    .##.#.....\n",
       "1725    ##.##....#\n",
       "1726    ####.#.###\n",
       "Length: 1727, dtype: object"
      ]
     },
     "metadata": {},
     "execution_count": 4
    }
   ],
   "source": [
    "trainFile = \"F:/Code/AOC/2020/inputs/2020_day20_input.txt\"\n",
    "pwd = os.getcwd()\n",
    "os.chdir(os.path.dirname(trainFile))\n",
    "file1 = open(trainFile, 'r') \n",
    "s = file1.read().splitlines()\n",
    "pd.Series(s)"
   ]
  },
  {
   "cell_type": "code",
   "execution_count": 5,
   "metadata": {},
   "outputs": [
    {
     "output_type": "execute_result",
     "data": {
      "text/plain": [
       "0      Tile 2311:\n",
       "1      ..##.#..#.\n",
       "2      ##..#.....\n",
       "3      #...##..#.\n",
       "4      ####.#...#\n",
       "          ...    \n",
       "102    .#...#.##.\n",
       "103    #.#####.##\n",
       "104    ..#.###...\n",
       "105    ..#.......\n",
       "106    ..#.###...\n",
       "Length: 107, dtype: object"
      ]
     },
     "metadata": {},
     "execution_count": 5
    }
   ],
   "source": [
    "trainFile = \"F:/Code/AOC/2020/inputs/2020_day20_example1.txt\"\n",
    "pwd = os.getcwd()\n",
    "os.chdir(os.path.dirname(trainFile))\n",
    "file1 = open(trainFile, 'r') \n",
    "s_ex1 = file1.read().splitlines()\n",
    "pd.Series(s_ex1)"
   ]
  },
  {
   "cell_type": "code",
   "execution_count": 379,
   "metadata": {},
   "outputs": [],
   "source": [
    "orientations = range(0,8)"
   ]
  },
  {
   "cell_type": "code",
   "execution_count": 380,
   "metadata": {},
   "outputs": [],
   "source": [
    "class Tile:\n",
    "    \"\"\"A simple tile class\"\"\"\n",
    "    borders = []\n",
    "    header = \"\"\n",
    "    lines = []\n",
    "    number = 0\n",
    "    bordersForOrientation = []\n",
    "    borderText = []\n",
    "\n",
    "    def __init__(self, header, lines):\n",
    "        self.header = header\n",
    "        self.lines = lines\n",
    "        self.initialize()\n",
    "\n",
    "    def initialize(self):\n",
    "        pattern = 'Tile (.*):'\n",
    "        matches = re.match(pattern, self.header)\n",
    "        self.number = int(matches.group(1))\n",
    "        borderText = self.getBorderText(self.lines)\n",
    "        self.borderText = borderText\n",
    "        borders = []\n",
    "        for text in borderText:\n",
    "            borderValue = self.textToInt(text)            \n",
    "            borders.append(borderValue)\n",
    "        self.borders = borders\n",
    "        bordersForOrientation = []\n",
    "        for o in orientations:\n",
    "            rotated = self.getBordersForOrientation(o)\n",
    "            bordersForOrientation.append(rotated)\n",
    "        self.bordersForOrientation = bordersForOrientation\n",
    "    \n",
    "    def textToInt(self, text):\n",
    "        result = 0\n",
    "        for c in text:\n",
    "            result = (result << 1)\n",
    "            if c == \"#\":\n",
    "                result += 1\n",
    "        return result\n",
    "\n",
    "    def getBorderText(self, lines):        \n",
    "        result = []                \n",
    "        right = \"\"\n",
    "        left = \"\"\n",
    "        for row in lines:\n",
    "            right = right + row[-1]\n",
    "            left = row[0] + left\n",
    "        result.append(lines[0])\n",
    "        result.append(right)\n",
    "        result.append(lines[-1][::-1])\n",
    "        result.append(left)\n",
    "        result.append(lines[0][::-1])\n",
    "        result.append(right[::-1])\n",
    "        result.append(lines[-1])\n",
    "        result.append(left[::-1])        \n",
    "        return result\n",
    "\n",
    "    def getBordersForOrientation(self, orientation):        \n",
    "        result = []\n",
    "        #minorOffset = orientation % 4\n",
    "        #offset = orientation - minorOffset\n",
    "        #print(self.borders, orientation, minorOffset, offset)\n",
    "        #result.extend(self.borders[minorOffset+offset:offset+4])\n",
    "        #result.extend(self.borders[offset:offset+minorOffset])\n",
    "        #return result\n",
    "        if orientation == 0:\n",
    "            return [self.borders[0],self.borders[1],self.borders[6],self.borders[7]]\n",
    "        if orientation == 1:\n",
    "            return [self.borders[1],self.borders[2],self.borders[7],self.borders[4]]\n",
    "        if orientation == 2:\n",
    "            return [self.borders[2],self.borders[3],self.borders[4],self.borders[5]]\n",
    "        if orientation == 3:\n",
    "            return [self.borders[3],self.borders[0],self.borders[5],self.borders[6]]\n",
    "        if orientation == 4:\n",
    "            return [self.borders[4],self.borders[7],self.borders[2],self.borders[1]]\n",
    "        if orientation == 5:\n",
    "            return [self.borders[7],self.borders[6],self.borders[1],self.borders[0]]\n",
    "        if orientation == 6:\n",
    "            return [self.borders[6],self.borders[5],self.borders[0],self.borders[3]]\n",
    "        if orientation == 7:\n",
    "            return [self.borders[5],self.borders[4],self.borders[3],self.borders[2]]\n",
    "        return None\n",
    "\n",
    "    def f(self):\n",
    "        print(\"TILE\",self.number)\n",
    "        print(self.borders)\n",
    "        for o in orientations:\n",
    "            print(\"borders for orientation\",o,self.getBordersForOrientation(o), self.bordersForOrientation[o])\n",
    "        print(\"End\")"
   ]
  },
  {
   "cell_type": "code",
   "execution_count": 381,
   "metadata": {},
   "outputs": [],
   "source": [
    "def parse(input):\n",
    "    result = {}\n",
    "    header = \"\"\n",
    "    lines = []\n",
    "    for line in input:\n",
    "        if line.count(\":\") > 0:\n",
    "            header = line\n",
    "        elif len(line) > 0:\n",
    "            lines.append(line)\n",
    "        else:\n",
    "            tile = Tile(header, lines)\n",
    "            result[tile.number] = tile\n",
    "            lines = []\n",
    "    if len(lines)>0:\n",
    "        tile = Tile(header, lines)\n",
    "        result[tile.number] = tile\n",
    "    return result"
   ]
  },
  {
   "cell_type": "code",
   "execution_count": 382,
   "metadata": {},
   "outputs": [
    {
     "output_type": "stream",
     "name": "stdout",
     "text": [
      "TILE 2311\n[210, 89, 924, 318, 300, 616, 231, 498]\nborders for orientation 0 [210, 89, 231, 498] [210, 89, 231, 498]\nborders for orientation 1 [89, 924, 498, 300] [89, 924, 498, 300]\nborders for orientation 2 [924, 318, 300, 616] [924, 318, 300, 616]\nborders for orientation 3 [318, 210, 616, 231] [318, 210, 616, 231]\nborders for orientation 4 [300, 498, 924, 89] [300, 498, 924, 89]\nborders for orientation 5 [498, 231, 89, 210] [498, 231, 89, 210]\nborders for orientation 6 [231, 616, 210, 318] [231, 616, 210, 318]\nborders for orientation 7 [616, 300, 318, 924] [616, 300, 318, 924]\nEnd\nTILE 1951\n[710, 498, 177, 587, 397, 318, 564, 841]\nborders for orientation 0 [710, 498, 564, 841] [710, 498, 564, 841]\nborders for orientation 1 [498, 177, 841, 397] [498, 177, 841, 397]\nborders for orientation 2 [177, 587, 397, 318] [177, 587, 397, 318]\nborders for orientation 3 [587, 710, 318, 564] [587, 710, 318, 564]\nborders for orientation 4 [397, 841, 177, 498] [397, 841, 177, 498]\nborders for orientation 5 [841, 564, 498, 710] [841, 564, 498, 710]\nborders for orientation 6 [564, 318, 710, 587] [564, 318, 710, 587]\nborders for orientation 7 [318, 397, 587, 177] [318, 397, 587, 177]\nEnd\nTILE 1171\n[966, 288, 96, 391, 399, 18, 24, 902]\nborders for orientation 0 [966, 288, 24, 902] [966, 288, 24, 902]\nborders for orientation 1 [288, 96, 902, 399] [288, 96, 902, 399]\nborders for orientation 2 [96, 391, 399, 18] [96, 391, 399, 18]\nborders for orientation 3 [391, 966, 18, 24] [391, 966, 18, 24]\nborders for orientation 4 [399, 902, 96, 288] [399, 902, 96, 288]\nborders for orientation 5 [902, 24, 288, 966] [902, 24, 288, 966]\nborders for orientation 6 [24, 18, 966, 391] [24, 18, 966, 391]\nborders for orientation 7 [18, 399, 391, 96] [18, 399, 391, 96]\nEnd\nTILE 1427\n[948, 234, 300, 9, 183, 348, 210, 576]\nborders for orientation 0 [948, 234, 210, 576] [948, 234, 210, 576]\nborders for orientation 1 [234, 300, 576, 183] [234, 300, 576, 183]\nborders for orientation 2 [300, 9, 183, 348] [300, 9, 183, 348]\nborders for orientation 3 [9, 948, 348, 210] [9, 948, 348, 210]\nborders for orientation 4 [183, 576, 300, 234] [183, 576, 300, 234]\nborders for orientation 5 [576, 210, 234, 948] [576, 210, 234, 948]\nborders for orientation 6 [210, 348, 948, 9] [210, 348, 948, 9]\nborders for orientation 7 [348, 183, 9, 300] [348, 183, 9, 300]\nEnd\nTILE 1489\n[848, 18, 183, 689, 43, 288, 948, 565]\nborders for orientation 0 [848, 18, 948, 565] [848, 18, 948, 565]\nborders for orientation 1 [18, 183, 565, 43] [18, 183, 565, 43]\nborders for orientation 2 [183, 689, 43, 288] [183, 689, 43, 288]\nborders for orientation 3 [689, 848, 288, 948] [689, 848, 288, 948]\nborders for orientation 4 [43, 565, 183, 18] [43, 565, 183, 18]\nborders for orientation 5 [565, 948, 18, 848] [565, 948, 18, 848]\nborders for orientation 6 [948, 288, 848, 689] [948, 288, 848, 689]\nborders for orientation 7 [288, 43, 689, 183] [288, 43, 689, 183]\nEnd\nTILE 2473\n[542, 116, 348, 399, 481, 184, 234, 966]\nborders for orientation 0 [542, 116, 234, 966] [542, 116, 234, 966]\nborders for orientation 1 [116, 348, 966, 481] [116, 348, 966, 481]\nborders for orientation 2 [348, 399, 481, 184] [348, 399, 481, 184]\nborders for orientation 3 [399, 542, 184, 234] [399, 542, 184, 234]\nborders for orientation 4 [481, 966, 348, 116] [481, 966, 348, 116]\nborders for orientation 5 [966, 234, 116, 542] [966, 234, 116, 542]\nborders for orientation 6 [234, 184, 542, 399] [234, 184, 542, 399]\nborders for orientation 7 [184, 481, 399, 348] [184, 481, 399, 348]\nEnd\nTILE 2971\n[161, 565, 680, 78, 532, 689, 85, 456]\nborders for orientation 0 [161, 565, 85, 456] [161, 565, 85, 456]\nborders for orientation 1 [565, 680, 456, 532] [565, 680, 456, 532]\nborders for orientation 2 [680, 78, 532, 689] [680, 78, 532, 689]\nborders for orientation 3 [78, 161, 689, 85] [78, 161, 689, 85]\nborders for orientation 4 [532, 456, 680, 565] [532, 456, 680, 565]\nborders for orientation 5 [456, 85, 565, 161] [456, 85, 565, 161]\nborders for orientation 6 [85, 689, 161, 78] [85, 689, 161, 78]\nborders for orientation 7 [689, 532, 78, 680] [689, 532, 78, 680]\nEnd\nTILE 2729\n[85, 576, 397, 962, 680, 9, 710, 271]\nborders for orientation 0 [85, 576, 710, 271] [85, 576, 710, 271]\nborders for orientation 1 [576, 397, 271, 680] [576, 397, 271, 680]\nborders for orientation 2 [397, 962, 680, 9] [397, 962, 680, 9]\nborders for orientation 3 [962, 85, 9, 710] [962, 85, 9, 710]\nborders for orientation 4 [680, 271, 397, 576] [680, 271, 397, 576]\nborders for orientation 5 [271, 710, 576, 85] [271, 710, 576, 85]\nborders for orientation 6 [710, 9, 85, 962] [710, 9, 85, 962]\nborders for orientation 7 [9, 680, 962, 397] [9, 680, 962, 397]\nEnd\nTILE 3079\n[702, 264, 116, 89, 501, 66, 184, 616]\nborders for orientation 0 [702, 264, 184, 616] [702, 264, 184, 616]\nborders for orientation 1 [264, 116, 616, 501] [264, 116, 616, 501]\nborders for orientation 2 [116, 89, 501, 66] [116, 89, 501, 66]\nborders for orientation 3 [89, 702, 66, 184] [89, 702, 66, 184]\nborders for orientation 4 [501, 616, 116, 264] [501, 616, 116, 264]\nborders for orientation 5 [616, 184, 264, 702] [616, 184, 264, 702]\nborders for orientation 6 [184, 66, 702, 89] [184, 66, 702, 89]\nborders for orientation 7 [66, 501, 89, 116] [66, 501, 89, 116]\nEnd\n"
     ]
    }
   ],
   "source": [
    "p_ex1 = parse(s_ex1)\n",
    "for t in p_ex1.values():\n",
    "    t.f()\n",
    "p = parse(s)"
   ]
  },
  {
   "cell_type": "code",
   "execution_count": 383,
   "metadata": {},
   "outputs": [],
   "source": [
    "def testNeighbors(data, details, x, y, direction):\n",
    "    secondTileDetails = None\n",
    "    if direction == 0:\n",
    "        if x < len(details[0]) - 1:\n",
    "            # check with right neighbor\n",
    "            secondTileDetails = details[y][x+1]\n",
    "        else:\n",
    "            return True\n",
    "    else:\n",
    "        if y < len(details) - 1:\n",
    "            # check with bottom neighbor\n",
    "            secondTileDetails = details[y+1][x]\n",
    "        else:\n",
    "            return True    \n",
    "\n",
    "    firstTileDetails = details[y][x]    \n",
    "    firstTile = data[firstTileDetails[0]]\n",
    "    secondTile = data[secondTileDetails[0]]    \n",
    "    #secondTile.f()\n",
    "    firstTileBorders = firstTile.bordersForOrientation[firstTileDetails[1]] \n",
    "    secondTileBorders = secondTile.bordersForOrientation[secondTileDetails[1]]    \n",
    "    if direction == 0:\n",
    "        print(\"TEST\",x,y,direction, firstTileDetails, secondTileDetails, firstTileBorders, secondTileBorders, firstTileBorders[1], secondTileBorders[3])\n",
    "        return firstTileBorders[1] == secondTileBorders[3]\n",
    "    else:\n",
    "        print(\"TEST\",x,y,direction, firstTileDetails, secondTileDetails, firstTileBorders, secondTileBorders, firstTileBorders[2], secondTileBorders[0])\n",
    "        return firstTileBorders[2] == secondTileBorders[0]\n",
    "\n",
    "def testSolution(data, details):\n",
    "    for x in range(0,len(details[0])):\n",
    "        for y in range(0, len(details)):\n",
    "            for d in range(0,2):\n",
    "                testResult = testNeighbors(data, details, x, y, d)                \n",
    "                if not testResult:\n",
    "                    return False\n",
    "    return True"
   ]
  },
  {
   "cell_type": "code",
   "execution_count": 446,
   "metadata": {},
   "outputs": [],
   "source": [
    "details_ex1 = [[(1951,6),(2311,6),(3079,0)],[(2729,6),(1427,6),(2473,7)],[(2971,6),(1489,6),(1171,4)]]\n",
    "details_ex1_list = [(1951,6),(2311,6),(3079,0),(2729,6),(1427,6),(2473,7),(2971,6),(1489,6),(1171,4)]"
   ]
  },
  {
   "cell_type": "code",
   "execution_count": 385,
   "metadata": {},
   "outputs": [
    {
     "output_type": "stream",
     "name": "stdout",
     "text": [
      "TEST 0 0 0 (1951, 6) (2311, 6) [564, 318, 710, 587] [231, 616, 210, 318] 318 318\n",
      "TEST 0 0 1 (1951, 6) (2729, 6) [564, 318, 710, 587] [710, 9, 85, 962] 710 710\n",
      "TEST 0 1 0 (2729, 6) (1427, 6) [710, 9, 85, 962] [210, 348, 948, 9] 9 9\n",
      "TEST 0 1 1 (2729, 6) (2971, 6) [710, 9, 85, 962] [85, 689, 161, 78] 85 85\n",
      "TEST 0 2 0 (2971, 6) (1489, 6) [85, 689, 161, 78] [948, 288, 848, 689] 689 689\n",
      "TEST 1 0 0 (2311, 6) (3079, 0) [231, 616, 210, 318] [702, 264, 184, 616] 616 616\n",
      "TEST 1 0 1 (2311, 6) (1427, 6) [231, 616, 210, 318] [210, 348, 948, 9] 210 210\n",
      "TEST 1 1 0 (1427, 6) (2473, 7) [210, 348, 948, 9] [184, 481, 399, 348] 348 348\n",
      "TEST 1 1 1 (1427, 6) (1489, 6) [210, 348, 948, 9] [948, 288, 848, 689] 948 948\n",
      "TEST 1 2 0 (1489, 6) (1171, 4) [948, 288, 848, 689] [399, 902, 96, 288] 288 288\n",
      "TEST 2 0 1 (3079, 0) (2473, 7) [702, 264, 184, 616] [184, 481, 399, 348] 184 184\n",
      "TEST 2 1 1 (2473, 7) (1171, 4) [184, 481, 399, 348] [399, 902, 96, 288] 399 399\n"
     ]
    },
    {
     "output_type": "execute_result",
     "data": {
      "text/plain": [
       "True"
      ]
     },
     "metadata": {},
     "execution_count": 385
    }
   ],
   "source": [
    "testSolution(p_ex1, details_ex1)"
   ]
  },
  {
   "cell_type": "code",
   "execution_count": 386,
   "metadata": {},
   "outputs": [
    {
     "output_type": "stream",
     "name": "stdout",
     "text": [
      "564\n318\n397\n841\n710\n587\n"
     ]
    }
   ],
   "source": [
    "print(int(\"#...##.#..\".replace(\".\",\"0\").replace(\"#\",\"1\"),2))\r\n",
    "print(int(\".#..#####.\".replace(\".\",\"0\").replace(\"#\",\"1\"),2))\r\n",
    "print(int(\".##...##.#\".replace(\".\",\"0\").replace(\"#\",\"1\"),2))\r\n",
    "print(int(\"##.#..#..#\".replace(\".\",\"0\").replace(\"#\",\"1\"),2))\r\n",
    "print(int(\"#.##...##.\".replace(\".\",\"0\").replace(\"#\",\"1\"),2))\r\n",
    "print(int(\"#..#..#.##\".replace(\".\",\"0\").replace(\"#\",\"1\"),2))"
   ]
  },
  {
   "cell_type": "code",
   "execution_count": 387,
   "metadata": {},
   "outputs": [
    {
     "output_type": "stream",
     "name": "stdout",
     "text": [
      "231\n616\n300\n498\n210\n318\n"
     ]
    }
   ],
   "source": [
    "print(int(\"..###..###\".replace(\".\",\"0\").replace(\"#\",\"1\"),2))\n",
    "print(int(\"#..##.#...\".replace(\".\",\"0\").replace(\"#\",\"1\"),2))\n",
    "print(int(\".#..#.##..\".replace(\".\",\"0\").replace(\"#\",\"1\"),2))\n",
    "print(int(\".#####..#.\".replace(\".\",\"0\").replace(\"#\",\"1\"),2))\n",
    "print(int(\"..##.#..#.\".replace(\".\",\"0\").replace(\"#\",\"1\"),2))\n",
    "print(int(\".#..#####.\".replace(\".\",\"0\").replace(\"#\",\"1\"),2))"
   ]
  },
  {
   "cell_type": "code",
   "execution_count": 388,
   "metadata": {},
   "outputs": [
    {
     "output_type": "stream",
     "name": "stdout",
     "text": [
      ".##...#### 399\n####...##. 966\n###....##. 902\n.##....### 391\n.....##... 24\n...##..... 96\n.....#..#. 18\n.#..#..... 288\n"
     ]
    }
   ],
   "source": [
    "# 1171,4\n",
    "print(\".##...####\", int(\".##...####\".replace(\".\",\"0\").replace(\"#\",\"1\"),2))\n",
    "print(\"####...##.\", int(\"####...##.\".replace(\".\",\"0\").replace(\"#\",\"1\"),2))\n",
    "\n",
    "print(\"###....##.\", int(\"###....##.\".replace(\".\",\"0\").replace(\"#\",\"1\"),2))\n",
    "print(\".##....###\", int(\".##....###\".replace(\".\",\"0\").replace(\"#\",\"1\"),2))\n",
    "\n",
    "print(\".....##...\", int(\".....##...\".replace(\".\",\"0\").replace(\"#\",\"1\"),2))\n",
    "print(\"...##.....\", int(\"...##.....\".replace(\".\",\"0\").replace(\"#\",\"1\"),2))\n",
    "\n",
    "print(\".....#..#.\", int(\".....#..#.\".replace(\".\",\"0\").replace(\"#\",\"1\"),2))\n",
    "print(\".#..#.....\", int(\".#..#.....\".replace(\".\",\"0\").replace(\"#\",\"1\"),2))"
   ]
  },
  {
   "cell_type": "code",
   "execution_count": 389,
   "metadata": {},
   "outputs": [
    {
     "output_type": "stream",
     "name": "stdout",
     "text": [
      "..##.#..#. 210\n.#..#.##.. 300\n...#.##..# 89\n#..##.#... 616\n###..###.. 924\n..###..### 231\n.#..#####. 318\n.#####..#. 498\n"
     ]
    }
   ],
   "source": [
    "# 2311:\n",
    "print(\"..##.#..#.\", int(\"..##.#..#.\".replace(\".\",\"0\").replace(\"#\",\"1\"),2))\n",
    "print(\".#..#.##..\", int(\".#..#.##..\".replace(\".\",\"0\").replace(\"#\",\"1\"),2))\n",
    "\n",
    "print(\"...#.##..#\", int(\"...#.##..#\".replace(\".\",\"0\").replace(\"#\",\"1\"),2))\n",
    "print(\"#..##.#...\", int(\"#..##.#...\".replace(\".\",\"0\").replace(\"#\",\"1\"),2))\n",
    "\n",
    "print(\"###..###..\", int(\"###..###..\".replace(\".\",\"0\").replace(\"#\",\"1\"),2))\n",
    "print(\"..###..###\", int(\"..###..###\".replace(\".\",\"0\").replace(\"#\",\"1\"),2))\n",
    "\n",
    "print(\".#..#####.\", int(\".#..#####.\".replace(\".\",\"0\").replace(\"#\",\"1\"),2))\n",
    "print(\".#####..#.\", int(\".#####..#.\".replace(\".\",\"0\").replace(\"#\",\"1\"),2))"
   ]
  },
  {
   "cell_type": "code",
   "execution_count": 390,
   "metadata": {},
   "outputs": [],
   "source": [
    "class PartOneTests(unittest.TestCase):\r\n",
    "    def setUp(self):\r\n",
    "        pass\r\n",
    "    def tearDown(self):\r\n",
    "        pass\r\n",
    "    def test_tile_1171(self):\r\n",
    "        tile = Tile(\"Tile 1171:\",[\"####...##.\", \"#..##.#..#\", \"##.#..#.#.\", \".###.####.\", \"..###.####\", \".##....##.\", \".#...####.\", \"#.##.####.\", \"####..#...\",\".....##...\"])\r\n",
    "        print(tile.borderText)\r\n",
    "        self.assertEqual([966,288,24,902],tile.bordersForOrientation[0])\r\n",
    "        self.assertEqual([288,96,902,399],tile.bordersForOrientation[1])\r\n",
    "        self.assertEqual([96,391,399,18],tile.bordersForOrientation[2])\r\n",
    "        self.assertEqual([391,966,18,24],tile.bordersForOrientation[3])\r\n",
    "        self.assertEqual([399,902,96,288],tile.bordersForOrientation[4])\r\n",
    "        self.assertEqual([902,24,288,966],tile.bordersForOrientation[5])\r\n",
    "        self.assertEqual([24,18,966,391],tile.bordersForOrientation[6])\r\n",
    "        self.assertEqual([18,399,391,96],tile.bordersForOrientation[7])\r\n",
    "    def test_tile_2311(self):\r\n",
    "        tile = Tile(\"Tile 2311:\",[\"..##.#..#.\",\"##..#.....\",\"#...##..#.\",\"####.#...#\",\"##.##.###.\",\"##...#.###\",\".#.#.#..##\",\"..#....#..\",\"###...#.#.\",\"..###..###\"])\r\n",
    "        print(tile.borderText)\r\n",
    "        self.assertEqual([210,89,231,498],tile.bordersForOrientation[0])\r\n",
    "        self.assertEqual([89,924,498,300],tile.bordersForOrientation[1])\r\n",
    "        self.assertEqual([924,318,300,616],tile.bordersForOrientation[2])\r\n",
    "        self.assertEqual([318,210,616,231],tile.bordersForOrientation[3])\r\n",
    "        self.assertEqual([300,498,924,89],tile.bordersForOrientation[4])\r\n",
    "        self.assertEqual([498,231,89,210],tile.bordersForOrientation[5])\r\n",
    "        self.assertEqual([231,616,210,318],tile.bordersForOrientation[6])\r\n",
    "        self.assertEqual([616,300,318,924],tile.bordersForOrientation[7])\r\n",
    "        for o in orientations:\r\n",
    "            self.assertEqual(tile.bordersForOrientation[o], p_ex1[2311].bordersForOrientation[o] )\r\n",
    "            self.assertEqual(tile.lines, p_ex1[2311].lines)\r\n"
   ]
  },
  {
   "cell_type": "code",
   "execution_count": 391,
   "metadata": {},
   "outputs": [
    {
     "output_type": "stream",
     "name": "stderr",
     "text": [
      "..['####...##.', '.#..#.....', '...##.....', '.##....###', '.##...####', '.....#..#.', '.....##...', '###....##.']\n",
      "['..##.#..#.', '...#.##..#', '###..###..', '.#..#####.', '.#..#.##..', '#..##.#...', '..###..###', '.#####..#.']\n",
      "\n",
      "----------------------------------------------------------------------\n",
      "Ran 2 tests in 0.003s\n",
      "\n",
      "OK\n"
     ]
    },
    {
     "output_type": "execute_result",
     "data": {
      "text/plain": [
       "<unittest.main.TestProgram at 0x17f84fc6518>"
      ]
     },
     "metadata": {},
     "execution_count": 391
    }
   ],
   "source": [
    "unittest.main(argv=[''], verbosity=1, exit=False)"
   ]
  },
  {
   "cell_type": "code",
   "execution_count": 392,
   "metadata": {},
   "outputs": [
    {
     "output_type": "stream",
     "name": "stdout",
     "text": [
      "TILE 2311\n[210, 89, 924, 318, 300, 616, 231, 498]\nborders for orientation 0 [210, 89, 231, 498] [210, 89, 231, 498]\nborders for orientation 1 [89, 924, 498, 300] [89, 924, 498, 300]\nborders for orientation 2 [924, 318, 300, 616] [924, 318, 300, 616]\nborders for orientation 3 [318, 210, 616, 231] [318, 210, 616, 231]\nborders for orientation 4 [300, 498, 924, 89] [300, 498, 924, 89]\nborders for orientation 5 [498, 231, 89, 210] [498, 231, 89, 210]\nborders for orientation 6 [231, 616, 210, 318] [231, 616, 210, 318]\nborders for orientation 7 [616, 300, 318, 924] [616, 300, 318, 924]\nEnd\n"
     ]
    }
   ],
   "source": [
    "p_ex1[2311].f()"
   ]
  },
  {
   "cell_type": "code",
   "execution_count": 434,
   "metadata": {},
   "outputs": [],
   "source": [
    "def findChoices(input, keys, leftDetails, topDetails):\n",
    "    result = []\n",
    "    for k in keys:\n",
    "        tile = input[k]\n",
    "        for o in orientations:\n",
    "            borders = tile.bordersForOrientation[o]            \n",
    "            if leftDetails != None:\n",
    "                otherTile = input[leftDetails[0]]\n",
    "                otherTileBorders = otherTile.bordersForOrientation[leftDetails[1]]\n",
    "                if otherTileBorders[1] != borders[3]:\n",
    "                    continue\n",
    "            if topDetails != None:\n",
    "                otherTile = input[topDetails[0]]\n",
    "                otherTileBorders = otherTile.bordersForOrientation[topDetails[1]]\n",
    "                if otherTileBorders[2] != borders[0]:\n",
    "                    continue\n",
    "            result.append( (k,o) )\n",
    "    return result\n",
    "\n",
    "def solveSubPuzzle(input, n, keys, solutionSoFar):\n",
    "    if len(keys) == 0:\n",
    "        return solutionSoFar\n",
    "    newPosition = len(solutionSoFar)\n",
    "    x = newPosition % n\n",
    "    y = (newPosition - x)//n\n",
    "    newIndex = (x,y)\n",
    "    #print(solutionSoFar, keys, newIndex)\n",
    "    leftDetails = None\n",
    "    topDetails = None\n",
    "    if x > 0:\n",
    "        leftDetails = solutionSoFar[(y*n)+(x-1)]\n",
    "    if y > 0:\n",
    "        topDetails = solutionSoFar[((y-1)*n)+x]\n",
    "    choices = findChoices(input, keys, leftDetails, topDetails)   \n",
    "    currentSolution = solutionSoFar\n",
    "    for c in choices:\n",
    "        candidate = currentSolution[:]\n",
    "        candidate.append(c)\n",
    "        remainingKeys = keys[:]\n",
    "        remainingKeys.remove(c[0])\n",
    "        answer = solveSubPuzzle(input, n, remainingKeys, candidate)\n",
    "        if answer != None:\n",
    "            return answer\n",
    "    return None\n",
    "\n",
    "def solvePuzzle(input, n):\n",
    "    keys = list(input.keys())\n",
    "    print(keys)    \n",
    "    choices = findChoices(input, keys, None, None)   \n",
    "    print(choices)   \n",
    "    currentSolution = []\n",
    "    for c in choices:\n",
    "        candidate = currentSolution[:]\n",
    "        candidate.append(c)\n",
    "        remainingKeys = keys[:]\n",
    "        remainingKeys.remove(c[0])\n",
    "        answer = solveSubPuzzle(input, n, remainingKeys, candidate)\n",
    "        if answer != None:            \n",
    "            corners = [answer[0][0],answer[n-1][0], answer[(n-1)*n][0], answer[n*n-1][0]]\n",
    "            print(corners)\n",
    "            product = 1\n",
    "            for corner in corners:\n",
    "                product *= corner\n",
    "            print(\"Product is\",product)\n",
    "            return answer"
   ]
  },
  {
   "cell_type": "code",
   "execution_count": 435,
   "metadata": {
    "tags": []
   },
   "outputs": [
    {
     "output_type": "stream",
     "name": "stdout",
     "text": [
      "[2311, 1951, 1171, 1427, 1489, 2473, 2971, 2729, 3079]\n[(2311, 0), (2311, 1), (2311, 2), (2311, 3), (2311, 4), (2311, 5), (2311, 6), (2311, 7), (1951, 0), (1951, 1), (1951, 2), (1951, 3), (1951, 4), (1951, 5), (1951, 6), (1951, 7), (1171, 0), (1171, 1), (1171, 2), (1171, 3), (1171, 4), (1171, 5), (1171, 6), (1171, 7), (1427, 0), (1427, 1), (1427, 2), (1427, 3), (1427, 4), (1427, 5), (1427, 6), (1427, 7), (1489, 0), (1489, 1), (1489, 2), (1489, 3), (1489, 4), (1489, 5), (1489, 6), (1489, 7), (2473, 0), (2473, 1), (2473, 2), (2473, 3), (2473, 4), (2473, 5), (2473, 6), (2473, 7), (2971, 0), (2971, 1), (2971, 2), (2971, 3), (2971, 4), (2971, 5), (2971, 6), (2971, 7), (2729, 0), (2729, 1), (2729, 2), (2729, 3), (2729, 4), (2729, 5), (2729, 6), (2729, 7), (3079, 0), (3079, 1), (3079, 2), (3079, 3), (3079, 4), (3079, 5), (3079, 6), (3079, 7)]\n[1951, 2971, 3079, 1171]\nProduct is 20899048083289\n"
     ]
    },
    {
     "output_type": "execute_result",
     "data": {
      "text/plain": [
       "[(1951, 3),\n",
       " (2729, 3),\n",
       " (2971, 3),\n",
       " (2311, 3),\n",
       " (1427, 3),\n",
       " (1489, 3),\n",
       " (3079, 5),\n",
       " (2473, 2),\n",
       " (1171, 1)]"
      ]
     },
     "metadata": {},
     "execution_count": 435
    }
   ],
   "source": [
    "solvePuzzle(p_ex1, 3)"
   ]
  },
  {
   "cell_type": "code",
   "execution_count": 428,
   "metadata": {},
   "outputs": [
    {
     "output_type": "execute_result",
     "data": {
      "text/plain": [
       "144"
      ]
     },
     "metadata": {},
     "execution_count": 428
    }
   ],
   "source": [
    "len(p)"
   ]
  },
  {
   "cell_type": "code",
   "execution_count": 483,
   "metadata": {},
   "outputs": [
    {
     "output_type": "stream",
     "name": "stdout",
     "text": [
      "[3187, 1223, 1913, 1301, 3943, 3023, 3299, 3677, 2803, 3343, 1987, 1609, 2221, 2297, 2269, 2287, 2399, 1423, 2621, 2003, 3889, 1667, 1877, 2657, 1669, 2843, 2243, 1543, 1777, 2161, 3167, 1279, 2711, 1087, 3947, 1571, 2521, 3533, 2339, 1493, 1637, 2153, 1129, 3581, 1303, 3209, 3613, 3833, 2089, 1553, 2213, 3347, 3203, 1811, 1531, 3191, 3259, 1579, 1861, 2857, 3853, 3917, 1999, 3719, 3491, 3499, 2311, 1459, 1447, 2579, 2531, 1019, 1151, 3767, 1871, 2953, 1153, 3359, 3257, 2557, 2851, 1103, 1801, 2731, 2111, 1613, 3739, 1297, 2029, 1093, 2357, 1231, 2671, 3137, 1229, 1979, 2341, 1373, 1483, 3109, 3449, 2969, 3877, 3539, 3547, 3863, 2437, 2267, 3671, 3041, 2467, 3593, 3061, 1409, 2207, 1069, 1187, 2549, 2593, 1277, 2251, 1061, 3037, 3823, 2087, 1321, 1951, 3847, 3851, 3407, 1709, 1097, 3301, 3517, 2137, 3623, 1867, 1787, 2591, 1607, 3271, 2063, 1289, 1213]\n[(3187, 0), (3187, 1), (3187, 2), (3187, 3), (3187, 4), (3187, 5), (3187, 6), (3187, 7), (1223, 0), (1223, 1), (1223, 2), (1223, 3), (1223, 4), (1223, 5), (1223, 6), (1223, 7), (1913, 0), (1913, 1), (1913, 2), (1913, 3), (1913, 4), (1913, 5), (1913, 6), (1913, 7), (1301, 0), (1301, 1), (1301, 2), (1301, 3), (1301, 4), (1301, 5), (1301, 6), (1301, 7), (3943, 0), (3943, 1), (3943, 2), (3943, 3), (3943, 4), (3943, 5), (3943, 6), (3943, 7), (3023, 0), (3023, 1), (3023, 2), (3023, 3), (3023, 4), (3023, 5), (3023, 6), (3023, 7), (3299, 0), (3299, 1), (3299, 2), (3299, 3), (3299, 4), (3299, 5), (3299, 6), (3299, 7), (3677, 0), (3677, 1), (3677, 2), (3677, 3), (3677, 4), (3677, 5), (3677, 6), (3677, 7), (2803, 0), (2803, 1), (2803, 2), (2803, 3), (2803, 4), (2803, 5), (2803, 6), (2803, 7), (3343, 0), (3343, 1), (3343, 2), (3343, 3), (3343, 4), (3343, 5), (3343, 6), (3343, 7), (1987, 0), (1987, 1), (1987, 2), (1987, 3), (1987, 4), (1987, 5), (1987, 6), (1987, 7), (1609, 0), (1609, 1), (1609, 2), (1609, 3), (1609, 4), (1609, 5), (1609, 6), (1609, 7), (2221, 0), (2221, 1), (2221, 2), (2221, 3), (2221, 4), (2221, 5), (2221, 6), (2221, 7), (2297, 0), (2297, 1), (2297, 2), (2297, 3), (2297, 4), (2297, 5), (2297, 6), (2297, 7), (2269, 0), (2269, 1), (2269, 2), (2269, 3), (2269, 4), (2269, 5), (2269, 6), (2269, 7), (2287, 0), (2287, 1), (2287, 2), (2287, 3), (2287, 4), (2287, 5), (2287, 6), (2287, 7), (2399, 0), (2399, 1), (2399, 2), (2399, 3), (2399, 4), (2399, 5), (2399, 6), (2399, 7), (1423, 0), (1423, 1), (1423, 2), (1423, 3), (1423, 4), (1423, 5), (1423, 6), (1423, 7), (2621, 0), (2621, 1), (2621, 2), (2621, 3), (2621, 4), (2621, 5), (2621, 6), (2621, 7), (2003, 0), (2003, 1), (2003, 2), (2003, 3), (2003, 4), (2003, 5), (2003, 6), (2003, 7), (3889, 0), (3889, 1), (3889, 2), (3889, 3), (3889, 4), (3889, 5), (3889, 6), (3889, 7), (1667, 0), (1667, 1), (1667, 2), (1667, 3), (1667, 4), (1667, 5), (1667, 6), (1667, 7), (1877, 0), (1877, 1), (1877, 2), (1877, 3), (1877, 4), (1877, 5), (1877, 6), (1877, 7), (2657, 0), (2657, 1), (2657, 2), (2657, 3), (2657, 4), (2657, 5), (2657, 6), (2657, 7), (1669, 0), (1669, 1), (1669, 2), (1669, 3), (1669, 4), (1669, 5), (1669, 6), (1669, 7), (2843, 0), (2843, 1), (2843, 2), (2843, 3), (2843, 4), (2843, 5), (2843, 6), (2843, 7), (2243, 0), (2243, 1), (2243, 2), (2243, 3), (2243, 4), (2243, 5), (2243, 6), (2243, 7), (1543, 0), (1543, 1), (1543, 2), (1543, 3), (1543, 4), (1543, 5), (1543, 6), (1543, 7), (1777, 0), (1777, 1), (1777, 2), (1777, 3), (1777, 4), (1777, 5), (1777, 6), (1777, 7), (2161, 0), (2161, 1), (2161, 2), (2161, 3), (2161, 4), (2161, 5), (2161, 6), (2161, 7), (3167, 0), (3167, 1), (3167, 2), (3167, 3), (3167, 4), (3167, 5), (3167, 6), (3167, 7), (1279, 0), (1279, 1), (1279, 2), (1279, 3), (1279, 4), (1279, 5), (1279, 6), (1279, 7), (2711, 0), (2711, 1), (2711, 2), (2711, 3), (2711, 4), (2711, 5), (2711, 6), (2711, 7), (1087, 0), (1087, 1), (1087, 2), (1087, 3), (1087, 4), (1087, 5), (1087, 6), (1087, 7), (3947, 0), (3947, 1), (3947, 2), (3947, 3), (3947, 4), (3947, 5), (3947, 6), (3947, 7), (1571, 0), (1571, 1), (1571, 2), (1571, 3), (1571, 4), (1571, 5), (1571, 6), (1571, 7), (2521, 0), (2521, 1), (2521, 2), (2521, 3), (2521, 4), (2521, 5), (2521, 6), (2521, 7), (3533, 0), (3533, 1), (3533, 2), (3533, 3), (3533, 4), (3533, 5), (3533, 6), (3533, 7), (2339, 0), (2339, 1), (2339, 2), (2339, 3), (2339, 4), (2339, 5), (2339, 6), (2339, 7), (1493, 0), (1493, 1), (1493, 2), (1493, 3), (1493, 4), (1493, 5), (1493, 6), (1493, 7), (1637, 0), (1637, 1), (1637, 2), (1637, 3), (1637, 4), (1637, 5), (1637, 6), (1637, 7), (2153, 0), (2153, 1), (2153, 2), (2153, 3), (2153, 4), (2153, 5), (2153, 6), (2153, 7), (1129, 0), (1129, 1), (1129, 2), (1129, 3), (1129, 4), (1129, 5), (1129, 6), (1129, 7), (3581, 0), (3581, 1), (3581, 2), (3581, 3), (3581, 4), (3581, 5), (3581, 6), (3581, 7), (1303, 0), (1303, 1), (1303, 2), (1303, 3), (1303, 4), (1303, 5), (1303, 6), (1303, 7), (3209, 0), (3209, 1), (3209, 2), (3209, 3), (3209, 4), (3209, 5), (3209, 6), (3209, 7), (3613, 0), (3613, 1), (3613, 2), (3613, 3), (3613, 4), (3613, 5), (3613, 6), (3613, 7), (3833, 0), (3833, 1), (3833, 2), (3833, 3), (3833, 4), (3833, 5), (3833, 6), (3833, 7), (2089, 0), (2089, 1), (2089, 2), (2089, 3), (2089, 4), (2089, 5), (2089, 6), (2089, 7), (1553, 0), (1553, 1), (1553, 2), (1553, 3), (1553, 4), (1553, 5), (1553, 6), (1553, 7), (2213, 0), (2213, 1), (2213, 2), (2213, 3), (2213, 4), (2213, 5), (2213, 6), (2213, 7), (3347, 0), (3347, 1), (3347, 2), (3347, 3), (3347, 4), (3347, 5), (3347, 6), (3347, 7), (3203, 0), (3203, 1), (3203, 2), (3203, 3), (3203, 4), (3203, 5), (3203, 6), (3203, 7), (1811, 0), (1811, 1), (1811, 2), (1811, 3), (1811, 4), (1811, 5), (1811, 6), (1811, 7), (1531, 0), (1531, 1), (1531, 2), (1531, 3), (1531, 4), (1531, 5), (1531, 6), (1531, 7), (3191, 0), (3191, 1), (3191, 2), (3191, 3), (3191, 4), (3191, 5), (3191, 6), (3191, 7), (3259, 0), (3259, 1), (3259, 2), (3259, 3), (3259, 4), (3259, 5), (3259, 6), (3259, 7), (1579, 0), (1579, 1), (1579, 2), (1579, 3), (1579, 4), (1579, 5), (1579, 6), (1579, 7), (1861, 0), (1861, 1), (1861, 2), (1861, 3), (1861, 4), (1861, 5), (1861, 6), (1861, 7), (2857, 0), (2857, 1), (2857, 2), (2857, 3), (2857, 4), (2857, 5), (2857, 6), (2857, 7), (3853, 0), (3853, 1), (3853, 2), (3853, 3), (3853, 4), (3853, 5), (3853, 6), (3853, 7), (3917, 0), (3917, 1), (3917, 2), (3917, 3), (3917, 4), (3917, 5), (3917, 6), (3917, 7), (1999, 0), (1999, 1), (1999, 2), (1999, 3), (1999, 4), (1999, 5), (1999, 6), (1999, 7), (3719, 0), (3719, 1), (3719, 2), (3719, 3), (3719, 4), (3719, 5), (3719, 6), (3719, 7), (3491, 0), (3491, 1), (3491, 2), (3491, 3), (3491, 4), (3491, 5), (3491, 6), (3491, 7), (3499, 0), (3499, 1), (3499, 2), (3499, 3), (3499, 4), (3499, 5), (3499, 6), (3499, 7), (2311, 0), (2311, 1), (2311, 2), (2311, 3), (2311, 4), (2311, 5), (2311, 6), (2311, 7), (1459, 0), (1459, 1), (1459, 2), (1459, 3), (1459, 4), (1459, 5), (1459, 6), (1459, 7), (1447, 0), (1447, 1), (1447, 2), (1447, 3), (1447, 4), (1447, 5), (1447, 6), (1447, 7), (2579, 0), (2579, 1), (2579, 2), (2579, 3), (2579, 4), (2579, 5), (2579, 6), (2579, 7), (2531, 0), (2531, 1), (2531, 2), (2531, 3), (2531, 4), (2531, 5), (2531, 6), (2531, 7), (1019, 0), (1019, 1), (1019, 2), (1019, 3), (1019, 4), (1019, 5), (1019, 6), (1019, 7), (1151, 0), (1151, 1), (1151, 2), (1151, 3), (1151, 4), (1151, 5), (1151, 6), (1151, 7), (3767, 0), (3767, 1), (3767, 2), (3767, 3), (3767, 4), (3767, 5), (3767, 6), (3767, 7), (1871, 0), (1871, 1), (1871, 2), (1871, 3), (1871, 4), (1871, 5), (1871, 6), (1871, 7), (2953, 0), (2953, 1), (2953, 2), (2953, 3), (2953, 4), (2953, 5), (2953, 6), (2953, 7), (1153, 0), (1153, 1), (1153, 2), (1153, 3), (1153, 4), (1153, 5), (1153, 6), (1153, 7), (3359, 0), (3359, 1), (3359, 2), (3359, 3), (3359, 4), (3359, 5), (3359, 6), (3359, 7), (3257, 0), (3257, 1), (3257, 2), (3257, 3), (3257, 4), (3257, 5), (3257, 6), (3257, 7), (2557, 0), (2557, 1), (2557, 2), (2557, 3), (2557, 4), (2557, 5), (2557, 6), (2557, 7), (2851, 0), (2851, 1), (2851, 2), (2851, 3), (2851, 4), (2851, 5), (2851, 6), (2851, 7), (1103, 0), (1103, 1), (1103, 2), (1103, 3), (1103, 4), (1103, 5), (1103, 6), (1103, 7), (1801, 0), (1801, 1), (1801, 2), (1801, 3), (1801, 4), (1801, 5), (1801, 6), (1801, 7), (2731, 0), (2731, 1), (2731, 2), (2731, 3), (2731, 4), (2731, 5), (2731, 6), (2731, 7), (2111, 0), (2111, 1), (2111, 2), (2111, 3), (2111, 4), (2111, 5), (2111, 6), (2111, 7), (1613, 0), (1613, 1), (1613, 2), (1613, 3), (1613, 4), (1613, 5), (1613, 6), (1613, 7), (3739, 0), (3739, 1), (3739, 2), (3739, 3), (3739, 4), (3739, 5), (3739, 6), (3739, 7), (1297, 0), (1297, 1), (1297, 2), (1297, 3), (1297, 4), (1297, 5), (1297, 6), (1297, 7), (2029, 0), (2029, 1), (2029, 2), (2029, 3), (2029, 4), (2029, 5), (2029, 6), (2029, 7), (1093, 0), (1093, 1), (1093, 2), (1093, 3), (1093, 4), (1093, 5), (1093, 6), (1093, 7), (2357, 0), (2357, 1), (2357, 2), (2357, 3), (2357, 4), (2357, 5), (2357, 6), (2357, 7), (1231, 0), (1231, 1), (1231, 2), (1231, 3), (1231, 4), (1231, 5), (1231, 6), (1231, 7), (2671, 0), (2671, 1), (2671, 2), (2671, 3), (2671, 4), (2671, 5), (2671, 6), (2671, 7), (3137, 0), (3137, 1), (3137, 2), (3137, 3), (3137, 4), (3137, 5), (3137, 6), (3137, 7), (1229, 0), (1229, 1), (1229, 2), (1229, 3), (1229, 4), (1229, 5), (1229, 6), (1229, 7), (1979, 0), (1979, 1), (1979, 2), (1979, 3), (1979, 4), (1979, 5), (1979, 6), (1979, 7), (2341, 0), (2341, 1), (2341, 2), (2341, 3), (2341, 4), (2341, 5), (2341, 6), (2341, 7), (1373, 0), (1373, 1), (1373, 2), (1373, 3), (1373, 4), (1373, 5), (1373, 6), (1373, 7), (1483, 0), (1483, 1), (1483, 2), (1483, 3), (1483, 4), (1483, 5), (1483, 6), (1483, 7), (3109, 0), (3109, 1), (3109, 2), (3109, 3), (3109, 4), (3109, 5), (3109, 6), (3109, 7), (3449, 0), (3449, 1), (3449, 2), (3449, 3), (3449, 4), (3449, 5), (3449, 6), (3449, 7), (2969, 0), (2969, 1), (2969, 2), (2969, 3), (2969, 4), (2969, 5), (2969, 6), (2969, 7), (3877, 0), (3877, 1), (3877, 2), (3877, 3), (3877, 4), (3877, 5), (3877, 6), (3877, 7), (3539, 0), (3539, 1), (3539, 2), (3539, 3), (3539, 4), (3539, 5), (3539, 6), (3539, 7), (3547, 0), (3547, 1), (3547, 2), (3547, 3), (3547, 4), (3547, 5), (3547, 6), (3547, 7), (3863, 0), (3863, 1), (3863, 2), (3863, 3), (3863, 4), (3863, 5), (3863, 6), (3863, 7), (2437, 0), (2437, 1), (2437, 2), (2437, 3), (2437, 4), (2437, 5), (2437, 6), (2437, 7), (2267, 0), (2267, 1), (2267, 2), (2267, 3), (2267, 4), (2267, 5), (2267, 6), (2267, 7), (3671, 0), (3671, 1), (3671, 2), (3671, 3), (3671, 4), (3671, 5), (3671, 6), (3671, 7), (3041, 0), (3041, 1), (3041, 2), (3041, 3), (3041, 4), (3041, 5), (3041, 6), (3041, 7), (2467, 0), (2467, 1), (2467, 2), (2467, 3), (2467, 4), (2467, 5), (2467, 6), (2467, 7), (3593, 0), (3593, 1), (3593, 2), (3593, 3), (3593, 4), (3593, 5), (3593, 6), (3593, 7), (3061, 0), (3061, 1), (3061, 2), (3061, 3), (3061, 4), (3061, 5), (3061, 6), (3061, 7), (1409, 0), (1409, 1), (1409, 2), (1409, 3), (1409, 4), (1409, 5), (1409, 6), (1409, 7), (2207, 0), (2207, 1), (2207, 2), (2207, 3), (2207, 4), (2207, 5), (2207, 6), (2207, 7), (1069, 0), (1069, 1), (1069, 2), (1069, 3), (1069, 4), (1069, 5), (1069, 6), (1069, 7), (1187, 0), (1187, 1), (1187, 2), (1187, 3), (1187, 4), (1187, 5), (1187, 6), (1187, 7), (2549, 0), (2549, 1), (2549, 2), (2549, 3), (2549, 4), (2549, 5), (2549, 6), (2549, 7), (2593, 0), (2593, 1), (2593, 2), (2593, 3), (2593, 4), (2593, 5), (2593, 6), (2593, 7), (1277, 0), (1277, 1), (1277, 2), (1277, 3), (1277, 4), (1277, 5), (1277, 6), (1277, 7), (2251, 0), (2251, 1), (2251, 2), (2251, 3), (2251, 4), (2251, 5), (2251, 6), (2251, 7), (1061, 0), (1061, 1), (1061, 2), (1061, 3), (1061, 4), (1061, 5), (1061, 6), (1061, 7), (3037, 0), (3037, 1), (3037, 2), (3037, 3), (3037, 4), (3037, 5), (3037, 6), (3037, 7), (3823, 0), (3823, 1), (3823, 2), (3823, 3), (3823, 4), (3823, 5), (3823, 6), (3823, 7), (2087, 0), (2087, 1), (2087, 2), (2087, 3), (2087, 4), (2087, 5), (2087, 6), (2087, 7), (1321, 0), (1321, 1), (1321, 2), (1321, 3), (1321, 4), (1321, 5), (1321, 6), (1321, 7), (1951, 0), (1951, 1), (1951, 2), (1951, 3), (1951, 4), (1951, 5), (1951, 6), (1951, 7), (3847, 0), (3847, 1), (3847, 2), (3847, 3), (3847, 4), (3847, 5), (3847, 6), (3847, 7), (3851, 0), (3851, 1), (3851, 2), (3851, 3), (3851, 4), (3851, 5), (3851, 6), (3851, 7), (3407, 0), (3407, 1), (3407, 2), (3407, 3), (3407, 4), (3407, 5), (3407, 6), (3407, 7), (1709, 0), (1709, 1), (1709, 2), (1709, 3), (1709, 4), (1709, 5), (1709, 6), (1709, 7), (1097, 0), (1097, 1), (1097, 2), (1097, 3), (1097, 4), (1097, 5), (1097, 6), (1097, 7), (3301, 0), (3301, 1), (3301, 2), (3301, 3), (3301, 4), (3301, 5), (3301, 6), (3301, 7), (3517, 0), (3517, 1), (3517, 2), (3517, 3), (3517, 4), (3517, 5), (3517, 6), (3517, 7), (2137, 0), (2137, 1), (2137, 2), (2137, 3), (2137, 4), (2137, 5), (2137, 6), (2137, 7), (3623, 0), (3623, 1), (3623, 2), (3623, 3), (3623, 4), (3623, 5), (3623, 6), (3623, 7), (1867, 0), (1867, 1), (1867, 2), (1867, 3), (1867, 4), (1867, 5), (1867, 6), (1867, 7), (1787, 0), (1787, 1), (1787, 2), (1787, 3), (1787, 4), (1787, 5), (1787, 6), (1787, 7), (2591, 0), (2591, 1), (2591, 2), (2591, 3), (2591, 4), (2591, 5), (2591, 6), (2591, 7), (1607, 0), (1607, 1), (1607, 2), (1607, 3), (1607, 4), (1607, 5), (1607, 6), (1607, 7), (3271, 0), (3271, 1), (3271, 2), (3271, 3), (3271, 4), (3271, 5), (3271, 6), (3271, 7), (2063, 0), (2063, 1), (2063, 2), (2063, 3), (2063, 4), (2063, 5), (2063, 6), (2063, 7), (1289, 0), (1289, 1), (1289, 2), (1289, 3), (1289, 4), (1289, 5), (1289, 6), (1289, 7), (1213, 0), (1213, 1), (1213, 2), (1213, 3), (1213, 4), (1213, 5), (1213, 6), (1213, 7)]\n[1301, 1373, 1289, 3593]\nProduct is 8272903687921\n"
     ]
    }
   ],
   "source": [
    "solution_first_part = solvePuzzle(p, 12)"
   ]
  },
  {
   "cell_type": "code",
   "execution_count": 464,
   "metadata": {},
   "outputs": [],
   "source": [
    "def applyMirror(lines):\n",
    "    result = []\n",
    "    for line in lines:\n",
    "        result.append(line[::-1])\n",
    "    return result\n",
    "\n",
    "def applyAntiClockwise(lines):\n",
    "    n = len(lines)\n",
    "    result = []\n",
    "    for y in range(0,n):\n",
    "        newLine = \"\"\n",
    "        for x in range(0,n):\n",
    "            newLine = newLine + lines[x][n-y-1]\n",
    "        result.append(newLine)\n",
    "    return result\n",
    "\n",
    "def applyRotation(lines, o):\n",
    "    result = []\n",
    "    if o == 1:\n",
    "        return applyAntiClockwise(lines)\n",
    "    elif o == 2:\n",
    "        return applyMirror(lines)[::-1]\n",
    "    elif o == 3:\n",
    "        return applyMirror(applyAntiClockwise(lines))[::-1]\n",
    "    else:\n",
    "        return lines[:]\n",
    "\n",
    "def applyOrientation(lines, o):\n",
    "    if o >= 4:\n",
    "        return applyRotation(applyMirror(lines), o%4)\n",
    "    else:\n",
    "        return applyRotation(lines, o)\n",
    "\n",
    "def trimLeft(lines):\n",
    "    result = []\n",
    "    for line in lines:\n",
    "        result.append[line[1:]]\n",
    "    return result\n",
    "\n",
    "def trimTop(lines):\n",
    "    result = []\n",
    "    for line in lines[1:]:\n",
    "        result.append(line)\n",
    "    return result\n",
    "\n",
    "def trimBorders(lines):\n",
    "    result = []\n",
    "    for line in lines[1:-1]:\n",
    "        result.append(line[1:-1])\n",
    "    return result\n",
    "\n",
    "def printLines(lines):\n",
    "    for line in lines:\n",
    "        print(line)"
   ]
  },
  {
   "cell_type": "code",
   "execution_count": 445,
   "metadata": {},
   "outputs": [
    {
     "output_type": "stream",
     "name": "stdout",
     "text": [
      "ORIENTATION 0\n..##.#..#.\n##..#.....\n#...##..#.\n####.#...#\n##.##.###.\n##...#.###\n.#.#.#..##\n..#....#..\n###...#.#.\n..###..###\nORIENTATION 1\n...#.##..#\n#.#.###.##\n....##.#.#\n....#...#.\n#.##.##...\n.##.#....#\n#..##.#..#\n#..#...###\n.#.####.#.\n.#####..#.\nORIENTATION 2\n###..###..\n.#.#...###\n..#....#..\n##..#.#.#.\n###.#...##\n.###.##.##\n#...#.####\n.#..##...#\n.....#..##\n.#..#.##..\nORIENTATION 3\n.#..#####.\n.#.####.#.\n###...#..#\n#..#.##..#\n#....#.##.\n...##.##.#\n.#...#....\n#.#.##....\n##.###.#.#\n#..##.#...\nORIENTATION 4\n.#..#.##..\n.....#..##\n.#..##...#\n#...#.####\n.###.##.##\n###.#...##\n##..#.#.#.\n..#....#..\n.#.#...###\n###..###..\nORIENTATION 5\n.#####..#.\n.#.####.#.\n#..#...###\n#..##.#..#\n.##.#....#\n#.##.##...\n....#...#.\n....##.#.#\n#.#.###.##\n...#.##..#\nORIENTATION 6\n..###..###\n###...#.#.\n..#....#..\n.#.#.#..##\n##...#.###\n##.##.###.\n####.#...#\n#...##..#.\n##..#.....\n..##.#..#.\nORIENTATION 7\n#..##.#...\n##.###.#.#\n#.#.##....\n.#...#....\n...##.##.#\n#....#.##.\n#..#.##..#\n###...#..#\n.#.####.#.\n.#..#####.\n"
     ]
    }
   ],
   "source": [
    "for o in orientations:\n",
    "    print (\"ORIENTATION\", o)\n",
    "    tile = p_ex1[2311]\n",
    "    printLines(applyOrientation(tile.lines,o))"
   ]
  },
  {
   "cell_type": "code",
   "execution_count": 467,
   "metadata": {},
   "outputs": [],
   "source": [
    "def mergeTiles(input, solution, n):\n",
    "    result = []\n",
    "    for y in range(0,n):\n",
    "        mergedLines = []\n",
    "        for x in range(0,n):\n",
    "            details = solution[x+y*n]\n",
    "            tile = input[details[0]]\n",
    "            part = trimBorders(applyOrientation(tile.lines, details[1]))\n",
    "\n",
    "            #print (\"GOT A PART\" , details)\n",
    "            #printLines(part)\n",
    "\n",
    "            newLines = []\n",
    "            if x == 0:\n",
    "                for line in part:\n",
    "                     newLines.append(line)\n",
    "            else:\n",
    "                for i in range(0,len(mergedLines)):\n",
    "                    newLines.append(mergedLines[i] + part[i])\n",
    "\n",
    "            mergedLines = newLines\n",
    "        result.extend(mergedLines)\n",
    "    return result"
   ]
  },
  {
   "cell_type": "code",
   "execution_count": 468,
   "metadata": {},
   "outputs": [
    {
     "output_type": "stream",
     "name": "stdout",
     "text": [
      ".#.#..#.##...#.##..#####\n###....#.#....#..#......\n##.##.###.#.#..######...\n###.#####...#.#####.#..#\n##.#....#.##.####...#.##\n...########.#....#####.#\n....#..#...##..#.#.###..\n.####...#..#.....#......\n#..#.##..#..###.#.##....\n#.####..#.####.#.#.###..\n###.#.#...#.######.#..##\n#.####....##..########.#\n##..##.#...#...#.#.#.#..\n...#..#..#.#.##..###.###\n.#.#....#.##.#...###.##.\n###.#...#..#.##.######..\n.#.#.###.##.##.#..#.##..\n.####.###.#...###.#..#.#\n..#.#..#..#.#.#.####.###\n#..####...#.#.#.###.###.\n#####..#####...###....##\n#.##..#..#...#..####...#\n.#.###..##..##..####.##.\n...###...##...#...#..###\n"
     ]
    }
   ],
   "source": [
    "merged_ex1_solution = mergeTiles(p_ex1,details_ex1_list,3)\n",
    "printLines(merged_ex1_solution)"
   ]
  },
  {
   "cell_type": "code",
   "execution_count": 469,
   "metadata": {},
   "outputs": [
    {
     "output_type": "execute_result",
     "data": {
      "text/plain": [
       "[(18, 0),\n",
       " (0, 1),\n",
       " (5, 1),\n",
       " (6, 1),\n",
       " (11, 1),\n",
       " (12, 1),\n",
       " (17, 1),\n",
       " (18, 1),\n",
       " (19, 1),\n",
       " (1, 2),\n",
       " (4, 2),\n",
       " (7, 2),\n",
       " (10, 2),\n",
       " (13, 2),\n",
       " (16, 2)]"
      ]
     },
     "metadata": {},
     "execution_count": 469
    }
   ],
   "source": [
    "seaMonsterLines = [\"                  # \",\"#    ##    ##    ###\",\" #  #  #  #  #  #   \"]\n",
    "\n",
    "def parseSeaMonster(input):\n",
    "    result = []\n",
    "    for y in range(0,len(input)):\n",
    "        line = input[y]\n",
    "        for x in range(0,len(line)):\n",
    "            if line[x] == \"#\":\n",
    "                result.append((x,y))\n",
    "    return result\n",
    "\n",
    "seaMonsterIndexes = parseSeaMonster(seaMonsterLines)\n",
    "seaMonsterIndexes"
   ]
  },
  {
   "cell_type": "code",
   "execution_count": 477,
   "metadata": {},
   "outputs": [],
   "source": [
    "def matchesSeaMonster(input, x, y):\n",
    "    n = len(input)\n",
    "    for i in seaMonsterIndexes:\n",
    "        targetX = x + i[0]\n",
    "        targetY = y + i[1]\n",
    "        if targetX >= n:\n",
    "            return False\n",
    "        if targetY >= n:\n",
    "            return False\n",
    "        if input[targetY][targetX] == \".\":\n",
    "            return False\n",
    "    return True\n",
    "\n",
    "def markSeaMonster(input, x, y):\n",
    "    result = input[:]\n",
    "    for i in seaMonsterIndexes:\n",
    "        targetX = x + i[0]\n",
    "        targetY = y + i[1]\n",
    "        targetLine = result[targetY]\n",
    "        result[targetY] = targetLine[:targetX] + \"O\" + targetLine[targetX + 1:]        \n",
    "    return result\n",
    "\n",
    "def replaceSeaMonsters(input):\n",
    "    result = input[:]\n",
    "    count = 0\n",
    "    for x in range(0,len(input[0])):\n",
    "        for y in range(0,len(input)):\n",
    "            if (matchesSeaMonster(input, x, y)):\n",
    "                result = markSeaMonster(result, x, y)\n",
    "                count += 1\n",
    "    return (result, count)"
   ]
  },
  {
   "cell_type": "code",
   "execution_count": 481,
   "metadata": {},
   "outputs": [],
   "source": [
    "def solvePartTwo(input):\n",
    "    for o in orientations:\n",
    "        orientedImage = applyOrientation(input, o)\n",
    "        orientedImageWithSeaMonsters = replaceSeaMonsters(orientedImage)\n",
    "        if orientedImageWithSeaMonsters[1] > 0:\n",
    "            print (orientedImageWithSeaMonsters[1])\n",
    "            printLines(orientedImageWithSeaMonsters[0])\n",
    "            echoCount = 0\n",
    "            for line in orientedImageWithSeaMonsters[0]:\n",
    "                echoCount += line.count(\"#\")\n",
    "            return echoCount"
   ]
  },
  {
   "cell_type": "code",
   "execution_count": 482,
   "metadata": {},
   "outputs": [
    {
     "output_type": "stream",
     "name": "stdout",
     "text": [
      "2\n.####...#####..#...###..\n#####..#..#.#.####..#.#.\n.#.#...#.###...#.##.O#..\n#.O.##.OO#.#.OO.##.OOO##\n..#O.#O#.O##O..O.#O##.##\n...#.#..##.##...#..#..##\n#.##.#..#.#..#..##.#.#..\n.###.##.....#...###.#...\n#.####.#.#....##.#..#.#.\n##...#..#....#..#...####\n..#.##...###..#.#####..#\n....#.##.#.#####....#...\n..##.##.###.....#.##..#.\n#...#...###..####....##.\n.#.##...#.##.#.#.###...#\n#.###.#..####...##..#...\n#.###...#.##...#.##O###.\n.O##.#OO.###OO##..OOO##.\n..O#.O..O..O.#O##O##.###\n#.#..##.########..#..##.\n#.#####..#.#...##..#....\n#....##..#.#########..##\n#...#.....#..##...###.##\n#..###....##.#...##.##.#\n"
     ]
    },
    {
     "output_type": "execute_result",
     "data": {
      "text/plain": [
       "273"
      ]
     },
     "metadata": {},
     "execution_count": 482
    }
   ],
   "source": [
    "solvePartTwo(merged_ex1_solution)"
   ]
  },
  {
   "cell_type": "code",
   "execution_count": 484,
   "metadata": {},
   "outputs": [],
   "source": [
    "merged_solution = mergeTiles(p,solution_first_part,12)"
   ]
  },
  {
   "cell_type": "code",
   "execution_count": 485,
   "metadata": {},
   "outputs": [
    {
     "output_type": "stream",
     "name": "stdout",
     "text": [
      "19\n###....#..#..#.#.....#......#.#......#.....#....#....#.#...##...........##...##.#.........##..#.\n.##....#.....#..#.#.#.........#....####...#.........#.......##...#...##...#.#........#....#....#\n...#....#.#.......##.....###......#..#..#......#....#....#...#..#..#....##.......#...#.#.#......\n....##.#.##.#..#..........##..##.#.#.#.#..#.#..#....#...#...#..##..#.#..##.........#.#..#...#..#\n#.#.##.#...#......#.........#....##.#.#.#...#..#...#.....#.#....##.....###...#......#...#...##..\n#..#.....##.......#..#.......#......#.#......#.........##..#....#...##.....#....#...........##..\n.....................#...#.......#....#.##.#...#.....##.....##..#...#.#...#.........#.#.....#.##\n..#...#....#..#..##..##..#....#...#.......##...##......#...#......#.#....#..#.......#.#..#.....#\n...##.#......#...#...#.........#...#....##..##...##..#.####..#......##..O....#.#......#...##.#.#\n.......#.#...###....#.O#..#..#...#..........#..#......O#...OO....OO#...OOO............#.#....#..\n#...O...#OO..##OO..#.OOO....#.......#.#.#......#..#....O#.O..O##O#.O#.O.##......##...##......#..\n.##.#O..O#.O#.O#.O#.O......#.#....................#..##.#......#.#......#.......#..#..#...###...\n...........#..#.##....#....#...##.#.#....#.#.#..#..#...#......##.#...#...##.#..#.#....#...##....\n..#..#..#.#......#....#...#......##.......##.##.....#.#.#...#....#.#.#.#.#..........#...#.......\n#..#.........#.....#..#.....#..#...#..#......#..#.#..#..#...........##..##.....###...#..........\n............##.#...#.........#.#..###.#.............#....#.#.....#.....#.#............#...######\n.....#.#..##.#...#..#.O.....#.#........##.#...#....#####..#...##.#..........#.....#.#..#........\n..#.O..##OO.#..OO..#.OOO..#..##....#.#..#..##...##..............#..##...#...........#...#.#....#\n.....O.#O.#O..O.#O##O#........#.....##.###.##..#....##.#...#.....#.##......##........#.##.......\n#.....#.#.#.#.....#.#.......#....#..#.#.....#..............#........##.#.##.#............##.#.##\n.......##...#.#...#..#.#......##.##.#.......#.###.###....#.#...........#............#..#.#....#.\n###..#.#.#.#.#...#....#....#.O...#.....##................#......#..#.#...............#.......#..\n#....#.##.#O#...OO..#.OO....OOO..........#..####..#...............#......#.#####..#.#......#...#\n.#.....#....O..O.#O..O..O#.O......#.#####.....#..##O..#.....##.#..#.#....#....###..........#####\n....#..#......##...##...#.....#..O..#.OO##.#OO.#..OOO..#..#...#...#.....#.....#........#...#....\n...........#.......##...##.#.#..#.O#.O##O..O.#O..O..#...#.....#.##.......#O....#.......#.......#\n...#........##........#.#..............##..#.....##...#.O.##.OO....OO.#.#OOO.#....#..#.##.##...#\n#......##.....#.####.O#..#.#.##....###.......#..#..#....#O..O.#O..O.#O.#O...........#..........#\n...O###.OO....OO..#.OOO#....#....#.....#.#.#.#...#.#.##..####......................#.....#...#.#\n#...O..O..O..O.#O..O#........#..................#.#.......#..##...##.#...#.......##.....#.......\n#.##..#.............#....#.####...#..#.....#....#...#.......O.....#.#.........#.#..#....##...#.#\n....#.####.#####..##......#..........#.#..O....OO#.#.OO..#.OOO...#..........#.##..#....#.#....#.\n##....#...#.#...........#..#....#......##..O#.O..O..O..O..O#....##.##.......##...##.....#...#...\n.#..####..#.....##..#...#.##............#............##..#...#.#..#..............#...#...#.###.#\n....#....#..##.#.#..##.....#...##..#..#.#..####.......##..#..#...#..............##.....#...#..##\n###...#...#..#...####...#..#..###.#............#.#...#..##......##................###..##..##...\n...........##.....#...##....#....#.#.............#.#.#..#....#..........#...#...##..#....#O..#.#\n.#.....##.....##......##......#.......##....##..##.#..#..#..........#.#.O..#.OO.#.#OO....OOO....\n......#........#..#.#..........##......#....#.....##.#.#..##.#...##...#..O#.O..O..O.#O..O..#.#.#\n.#......#.#.###.#.##......###.#.#...##..............###...#.#..#.#...#..#.#.......#..#.......#..\n..##..#..........#...###.##...#.#..#.....#..........##......##.....#...#..#..#..#..##..#....#..#\n#.#......##.#..##.....###.........##..#..#...##..#...##.#..#..#.......##.#..#.......##..###.....\n#..#........#.#.##..#.#......#.#.......#.#.#..#.#......#..#.....#.....#...#...##...##.#..#...#..\n...#..#..#.#.......##....##....##.....#.......#.#.#..##..........##......#.#...#...##.##.##.#...\n....#....###.........##..........#...#.#....#..#....#.......###...#....#..#..##.......##.......#\n.....##..#..#...#...#.#...#.....##.....#..#..##........O.#...###..........#..##........#.#...#..\n.#..#...#..#...#..................#..O....OO....OO....OOO..#....#....#.....#...#..#..##.#..#.#..\n.#..#.###...##........................O..O.#O#.O..O..O#.....#...........#.....###.......#...#...\n##.........##.....#.#......#..##........#......##..................#.........#............#...#.\n.#.#...#.....#.#..#...#..#.#..##....#......#.....#...#.#..#..#.##........#......##.....##..#..#.\n#.#..#.....##.#.#..#.#.#..#.........##.#....#..##...##....#...#......O..#.............#...#.#...\n###.#...##.#..........##..##..#..#...#.##.....##..#O#..#OO..#.OO..#.OOO.#.......#..............#\n.......#..#......##...#..#.#....##.#.........####..#O#.O..O..O..O##O.#.....#...#..#....#.##.....\n..#.......#.#.#..##...#.#..#.#.##.....#..#.....##..##..#.#.#.............#............#.#......#\n.....#.#........#....#.#.#.####..#.##.##..........##....#...#..#...#..##.#..#.........#......#..\n....#.....#.....#.#...#.....#....O...#....##..#...#...................##.#........#...#.#.......\n#.#.#....#....#O....OO#.#.OO...#OOO.#.....#....#...###.......##.#...###.....###..#.#.........#..\n##.....##.#.##..O..O..O..O.#O.#O...#.......#.........##..#.#.#...#....#.#..#....#..#....#.......\n...#.#.....###...##......#...#..#.#.......##......##...##.#..#..##...#.#..#.......#.##....#.....\n....#....#.#...##.#..#.#....#.#........##..#.#......#..##....###......#.#..#.#.....##..#.......#\n.##.......#....#...#.....##...##.#...#.#..#.......#####......#.#...#....#..##.....#....#.....#..\n##.##....#.................#.#.#.##.#.##.#.#.##.#...#..........#.#.......##......#.#..#.##....#.\n.##..........#.....#........#.......#........##...#......#....#..........#.....##.##..#..#......\n#..#....#.##.#...#.............##..#...#...O#..#..#....#.#..#......#.##......#.#...#..........#.\n...#.......#....#....#.##O#.#.OO#...OO....OOO#..#..#.##...............#.#......###.#...#.##.....\n#.................#.......O..O.#O.#O..O#.O#.........#..#...##..........#......#....#.#..#.......\n......#....###.#...#..####.....#....#..#.#.#.......#...###......###......#......###..##.........\n....##......#..####.#...#.#......####.....#.....#.##....#.#.#.........#.#..#.#......#........##.\n..........#...#...#.##..#.....#.#.......#...#....#....#..###...#..#........#.....#.#..........#.\n..#.##.....#......#..........##......###........#.....#..#.....#....#........#....#..........#.#\n.#.#......##....#.#..###.#O..#..#..##....#..##.#...###..#..##.#.....#.##....#.#..#........#...##\n.#......O##..OO#...OO#.#.OOO#.#.#....#....#.###....#......#.##.........#...##.#....##..#...#...#\n#.....#..O..O..O.#O..O#.O............#......#...#..##......#.#....##.......#.........#.#.#..#...\n#..##....#...........#..#....##.#.#.#.#...#.#.......#..##..#.....##...##...#...##.###...#.....##\n#..##...#..#....#................#.......###..#.....#.......#...#.####.#........#...#..#.....##.\n..#...........#.#.#..........#..#.#.#.#.#.#..#.##...#.#.....#.O.#....##.#.#..#.#..#..#..#...#...\n...#.#...#..#......#...#....O.#...##.#.#....O###.OO..##OO.###OOO...#...#.............#.#......#.\n..........O##..OO....OO....OOO.#.###.........O##O..O..O.#O#.O##.#..............#............#...\n#...#...#..O#.O#.O.#O..O..O............#...#...#...#....##...##.#....#.###..#........#....##....\n##.......#..#.#.....###...#..#...........#####...#.#.........##...#.....#..#.#.#..#.##.....#....\n#.....#....#.#....#........#.....#..#.#..........##.#........#....##....##.....#.....#.#........\n.#.....#....#..#...#.........#....##.O#...##...#....#....#...#...#..#.##.......#.#........##..#.\n.#....#..##..#...##O##..OO....OO..#.OOO#...#...###...#.#.#....#.............#.#..........#..##..\n.#.....##...........O..O..O#.O.#O#.O.....##...........#....###..........##.#..#......#...##....#\n#...#..#.........#..###........##..#......#...#..##.###.###........#........#...#..##.#...#.#...\n.#....#.......#....####....##....#..#..#.....#....#......##.#....#.#..#......#..#...............\n...#.#.............#.###.....#....................##.......##....#.#.........#.........#....##..\n........#...#.#.....#.........#...#.#....#.........#....#..#.........#.....#.#.##....#.##.#.#..#\n...............###....#......#.....##...#.#...#.#...#.........##..........###...#.###.....#...#.\n#.....#.#......#...O.#..#.........#....#..#..###.#.....#..............##...#...#....#...........\n.O#.#.OO#...OO....OOO...#..##.#..#.##............##.#.......#.........#.......###.......O#....#.\n..O#.O#.O..O..O..O..#..#.###............#...#.............###.......##O...#OO..##OO..#.OOO....#.\n#.###...#......#........#.#.....#.....#.#.##....#...#......#.#........#O..O#.O.#O##O..O...#...#.\n..............##..#...#..#....##.....#...#.........###.##.......#.#.##........##.#.#...#.#...#..\n#........#.........##....#.#....#..........##..#........#.###..##.##.........#.......##...#..#..\n#.....#.#..####.#.....#.#..#.#.#....##..#......#...#.#..####.......#.##.###.###.###..#.....#..#.\n"
     ]
    },
    {
     "output_type": "execute_result",
     "data": {
      "text/plain": [
       "2304"
      ]
     },
     "metadata": {},
     "execution_count": 485
    }
   ],
   "source": [
    "solvePartTwo(merged_solution)"
   ]
  }
 ]
}