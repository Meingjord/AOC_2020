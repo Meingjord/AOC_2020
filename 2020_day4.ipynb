{
 "metadata": {
  "language_info": {
   "codemirror_mode": {
    "name": "ipython",
    "version": 3
   },
   "file_extension": ".py",
   "mimetype": "text/x-python",
   "name": "python",
   "nbconvert_exporter": "python",
   "pygments_lexer": "ipython3",
   "version": "3.6.2-final"
  },
  "orig_nbformat": 2,
  "kernelspec": {
   "name": "python3",
   "display_name": "Python 3",
   "language": "python"
  }
 },
 "nbformat": 4,
 "nbformat_minor": 2,
 "cells": [
  {
   "source": [
    "import pandas as pd\n",
    "import os\n",
    "import unittest\n",
    "import string\n",
    "pd.set_option('display.max_rows', 10)"
   ],
   "cell_type": "code",
   "metadata": {},
   "execution_count": 1,
   "outputs": []
  },
  {
   "cell_type": "code",
   "execution_count": 2,
   "metadata": {},
   "outputs": [
    {
     "output_type": "execute_result",
     "data": {
      "text/plain": [
       "0                                               byr:1971\n",
       "1                                  ecl:hzl pid:112040163\n",
       "2                                      eyr:2023 iyr:2019\n",
       "3                                  hcl:#b6652a hgt:167cm\n",
       "4                                                       \n",
       "                             ...                        \n",
       "954                                              ecl:lzr\n",
       "955                         hgt:177in eyr:2037 pid:175cm\n",
       "956                         byr:2023 hcl:03b398 iyr:2026\n",
       "957                                                     \n",
       "958    iyr:2017 ecl:blu byr:1942 hcl:#733820 eyr:2023...\n",
       "Length: 959, dtype: object"
      ]
     },
     "metadata": {},
     "execution_count": 2
    }
   ],
   "source": [
    "trainFile = \"F:/Code/AOC/2020/inputs/2020_day4_input.txt\"\n",
    "pwd = os.getcwd()\n",
    "os.chdir(os.path.dirname(trainFile))\n",
    "file1 = open(trainFile, 'r') \n",
    "s = file1.read().splitlines()\n",
    "s\n",
    "pd.Series(s)"
   ]
  },
  {
   "cell_type": "code",
   "execution_count": 3,
   "metadata": {},
   "outputs": [],
   "source": [
    "li = 0\n",
    "input_entry = \"\"\n",
    "input = []\n",
    "while li < len(s):\n",
    "    line=s[li].strip()\n",
    "    li+=1\n",
    "    if len(line) > 0:\n",
    "        if (len(input_entry) > 0):\n",
    "            input_entry = input_entry + \" \" + line\n",
    "        else:\n",
    "            input_entry = line\n",
    "    else:        \n",
    "        input.append(input_entry)\n",
    "        input_entry = \"\"\n",
    "\n",
    "if len(input_entry) > 0:\n",
    "    input.append(input_entry)\n"
   ]
  },
  {
   "cell_type": "code",
   "execution_count": 4,
   "metadata": {},
   "outputs": [],
   "source": [
    "tags = [\"byr\", \"iyr\", \"eyr\" , \"hgt\", \"hcl\", \"ecl\", \"pid\"]\n",
    "optional_tag = \"cid\"\n",
    "eye_colors = [\"amb\", \"blu\", \"brn\", \"gry\", \"grn\", \"hzl\", \"oth\"]"
   ]
  },
  {
   "cell_type": "code",
   "execution_count": 5,
   "metadata": {},
   "outputs": [],
   "source": [
    "def check_passport(data):\n",
    "    parts = data.split(\" \")\n",
    "    for t in tags:\n",
    "        tag_found = False\n",
    "        for p in parts:\n",
    "            if p.startswith(t):\n",
    "                tag_found = True\n",
    "        if not tag_found:\n",
    "            return False\n",
    "    return True"
   ]
  },
  {
   "cell_type": "code",
   "execution_count": 6,
   "metadata": {},
   "outputs": [
    {
     "output_type": "stream",
     "name": "stdout",
     "text": [
      "192\n"
     ]
    }
   ],
   "source": [
    "count = sum(map(check_passport, input))\n",
    "print(count)"
   ]
  },
  {
   "cell_type": "code",
   "execution_count": 7,
   "metadata": {},
   "outputs": [],
   "source": [
    "def check_height(hgt):\n",
    "    if hgt.endswith(\"cm\"):\n",
    "        hgt_cm = int(hgt[0:-2])\n",
    "        return hgt_cm >= 150 and hgt_cm <= 193\n",
    "    if hgt.endswith(\"in\"):\n",
    "        hgt_in = int(hgt[0:-2])\n",
    "        return hgt_in >= 59 and hgt_in <= 76\n",
    "    return False"
   ]
  },
  {
   "cell_type": "code",
   "execution_count": 8,
   "metadata": {},
   "outputs": [],
   "source": [
    "def check_hair(hair):\n",
    "    if len(hair) != 7:\n",
    "        return False\n",
    "    if hair[0] != \"#\":\n",
    "        return False\n",
    "    color_code = hair[-1:]    \n",
    "    return all(c in string.hexdigits for c in color_code)"
   ]
  },
  {
   "cell_type": "code",
   "execution_count": 9,
   "metadata": {},
   "outputs": [],
   "source": [
    "def check_tag(value_with_tag):\n",
    "    value_parts = value_with_tag.split(\":\")\n",
    "    tag = value_parts[0]\n",
    "    value = value_parts[1]\n",
    "    if tag == \"byr\":\n",
    "        year = int(value)\n",
    "        return year >= 1920 and year <= 2002\n",
    "    if tag == \"iyr\":\n",
    "        year = int(value)\n",
    "        return year >= 2010 and year <= 2020\n",
    "    if tag == \"eyr\":\n",
    "        year = int(value)\n",
    "        return year >= 2020 and year <= 2030\n",
    "    if tag == \"hgt\":\n",
    "        return check_height(value)\n",
    "    if tag == \"hcl\":\n",
    "        return check_hair(value)\n",
    "    if tag == \"ecl\":\n",
    "        return value in eye_colors\n",
    "    if tag == \"pid\":        \n",
    "        return len(value) == 9 and value.isdigit()\n",
    "    else:\n",
    "        print(\"invalid tag\", tag, value)\n",
    "    return False"
   ]
  },
  {
   "cell_type": "code",
   "execution_count": 10,
   "metadata": {},
   "outputs": [],
   "source": [
    "def check_passport_values(data):\n",
    "    parts = data.split(\" \")\n",
    "    for t in tags:\n",
    "        tag_valid = False\n",
    "        for p in parts:\n",
    "            if p.startswith(t):\n",
    "                tag_valid = check_tag(p)\n",
    "        if not tag_valid:\n",
    "            return False\n",
    "    return True"
   ]
  },
  {
   "cell_type": "code",
   "execution_count": 11,
   "metadata": {},
   "outputs": [
    {
     "output_type": "stream",
     "name": "stdout",
     "text": [
      "101\n"
     ]
    }
   ],
   "source": [
    "count_values = sum(map(check_passport_values, input))\n",
    "print(count_values)"
   ]
  },
  {
   "cell_type": "code",
   "execution_count": 12,
   "metadata": {},
   "outputs": [],
   "source": [
    "class PartTwoTests(unittest.TestCase):\n",
    "    def setUp(self):\n",
    "        pass\n",
    "    def tearDown(self):\n",
    "        pass\n",
    "    def test_examples(self):\n",
    "        self.assertFalse(check_passport_values(\"eyr:1972 cid:100 hcl:#18171d ecl:amb hgt:170 pid:186cm iyr:2018 byr:1926\"))\n",
    "        self.assertFalse(check_passport_values(\"iyr:2019 hcl:#602927 eyr:1967 hgt:170cm ecl:grn pid:012533040 byr:1946\"))\n",
    "        self.assertFalse(check_passport_values(\"hcl:dab227 iyr:2012 ecl:brn hgt:182cm pid:021572410 eyr:2020 byr:1992 cid:277\"))\n",
    "        self.assertFalse(check_passport_values(\"hgt:59cm ecl:zzz eyr:2038 hcl:74454a iyr:2023 pid:3556412378 byr:2007\"))\n",
    "        self.assertTrue(check_passport_values(\"pid:087499704 hgt:74in ecl:grn iyr:2012 eyr:2030 byr:1980 hcl:#623a2f\"))\n",
    "        self.assertTrue(check_passport_values(\"eyr:2029 ecl:blu cid:129 byr:1989 iyr:2014 pid:896056539 hcl:#a97842 hgt:165cm\"))\n",
    "        self.assertTrue(check_passport_values(\"hcl:#888785 hgt:164cm byr:2001 iyr:2015 cid:88 pid:545766238 ecl:hzl eyr:2022\"))\n",
    "        self.assertTrue(check_passport_values(\"iyr:2010 hgt:158cm hcl:#b6652a ecl:blu byr:1944 eyr:2021 pid:093154719\"))\n",
    "    def test_hcl(self):\n",
    "        self.assertTrue(check_hair(\"#623a2f\"))"
   ]
  },
  {
   "cell_type": "code",
   "execution_count": 13,
   "metadata": {},
   "outputs": [
    {
     "output_type": "stream",
     "name": "stderr",
     "text": [
      "test_examples (__main__.PartTwoTests) ... ok\n",
      "test_hcl (__main__.PartTwoTests) ... ok\n",
      "\n",
      "----------------------------------------------------------------------\n",
      "Ran 2 tests in 0.002s\n",
      "\n",
      "OK\n"
     ]
    },
    {
     "output_type": "execute_result",
     "data": {
      "text/plain": [
       "<unittest.main.TestProgram at 0x27a1aada898>"
      ]
     },
     "metadata": {},
     "execution_count": 13
    }
   ],
   "source": [
    "unittest.main(argv=[''], verbosity=3, exit=False)"
   ]
  }
 ]
}