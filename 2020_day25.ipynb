{
 "metadata": {
  "language_info": {
   "codemirror_mode": {
    "name": "ipython",
    "version": 3
   },
   "file_extension": ".py",
   "mimetype": "text/x-python",
   "name": "python",
   "nbconvert_exporter": "python",
   "pygments_lexer": "ipython3",
   "version": "3.6.2-final"
  },
  "orig_nbformat": 2,
  "kernelspec": {
   "name": "python3",
   "display_name": "Python 3",
   "language": "python"
  }
 },
 "nbformat": 4,
 "nbformat_minor": 2,
 "cells": [
  {
   "source": [
    "import pandas as pd\n",
    "import os\n",
    "import unittest\n",
    "import string\n",
    "import re\n",
    "import copy"
   ],
   "cell_type": "code",
   "metadata": {},
   "execution_count": 1,
   "outputs": []
  },
  {
   "cell_type": "code",
   "execution_count": 2,
   "metadata": {},
   "outputs": [
    {
     "output_type": "execute_result",
     "data": {
      "text/plain": [
       "0    13135480\n",
       "1     8821721\n",
       "dtype: int64"
      ]
     },
     "metadata": {},
     "execution_count": 2
    }
   ],
   "source": [
    "trainFile = \"F:/Code/AOC/2020/inputs/2020_day25_input.txt\"\n",
    "pwd = os.getcwd()\n",
    "os.chdir(os.path.dirname(trainFile))\n",
    "file1 = open(trainFile, 'r') \n",
    "s = list(map(int,file1.read().splitlines()))\n",
    "pd.Series(s)"
   ]
  },
  {
   "cell_type": "code",
   "execution_count": 3,
   "metadata": {},
   "outputs": [
    {
     "output_type": "execute_result",
     "data": {
      "text/plain": [
       "0     5764801\n",
       "1    17807724\n",
       "dtype: int64"
      ]
     },
     "metadata": {},
     "execution_count": 3
    }
   ],
   "source": [
    "trainFile = \"F:/Code/AOC/2020/inputs/2020_day25_example1.txt\"\n",
    "pwd = os.getcwd()\n",
    "os.chdir(os.path.dirname(trainFile))\n",
    "file1 = open(trainFile, 'r') \n",
    "s_ex1 = list(map(int, file1.read().splitlines()))\n",
    "pd.Series(s_ex1)"
   ]
  },
  {
   "cell_type": "code",
   "execution_count": 4,
   "metadata": {},
   "outputs": [],
   "source": [
    "frequency = 20201227\n",
    "\n",
    "def findLoopCount(value):\n",
    "    multiplier = 1\n",
    "    i = 0\n",
    "    while multiplier != value:\n",
    "        multiplier = (multiplier * 7)%frequency\n",
    "        i += 1\n",
    "    return i\n",
    "\n",
    "def executeLoop(start, count, base):\n",
    "    result = start\n",
    "    for i in range(0,count):\n",
    "        result = (result*base)%frequency\n",
    "    return result\n",
    "\n",
    "def getEncryptionKey(input):\n",
    "    loop1 = findLoopCount(input[0])\n",
    "    print(loop1)\n",
    "    loop2 = findLoopCount(input[1])    \n",
    "    print(loop2)\n",
    "    return executeLoop(1,loop1, input[1])"
   ]
  },
  {
   "cell_type": "code",
   "execution_count": 5,
   "metadata": {},
   "outputs": [
    {
     "output_type": "stream",
     "name": "stdout",
     "text": [
      "1591838\n",
      "1770247\n"
     ]
    },
    {
     "output_type": "execute_result",
     "data": {
      "text/plain": [
       "8329514"
      ]
     },
     "metadata": {},
     "execution_count": 5
    }
   ],
   "source": [
    "getEncryptionKey(s)"
   ]
  }
 ]
}