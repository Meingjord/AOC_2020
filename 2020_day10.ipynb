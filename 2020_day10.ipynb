{
 "metadata": {
  "language_info": {
   "codemirror_mode": {
    "name": "ipython",
    "version": 3
   },
   "file_extension": ".py",
   "mimetype": "text/x-python",
   "name": "python",
   "nbconvert_exporter": "python",
   "pygments_lexer": "ipython3",
   "version": "3.6.2-final"
  },
  "orig_nbformat": 2,
  "kernelspec": {
   "name": "python3",
   "display_name": "Python 3",
   "language": "python"
  }
 },
 "nbformat": 4,
 "nbformat_minor": 2,
 "cells": [
  {
   "source": [
    "import pandas as pd\n",
    "import os\n",
    "import unittest\n",
    "import string\n",
    "import re\n",
    "pd.set_option('display.max_rows', 10)"
   ],
   "cell_type": "code",
   "metadata": {},
   "execution_count": 1,
   "outputs": []
  },
  {
   "cell_type": "code",
   "execution_count": 2,
   "metadata": {},
   "outputs": [
    {
     "output_type": "execute_result",
     "data": {
      "text/plain": [
       "0       99\n",
       "1      151\n",
       "2       61\n",
       "3      134\n",
       "4      112\n",
       "      ... \n",
       "96      18\n",
       "97      20\n",
       "98      45\n",
       "99      55\n",
       "100     83\n",
       "Length: 101, dtype: int64"
      ]
     },
     "metadata": {},
     "execution_count": 2
    }
   ],
   "source": [
    "trainFile = \"F:/Code/AOC/2020/inputs/2020_day10_input.txt\"\n",
    "pwd = os.getcwd()\n",
    "os.chdir(os.path.dirname(trainFile))\n",
    "file1 = open(trainFile, 'r') \n",
    "s = list(map(int,file1.read().splitlines()))\n",
    "pd.Series(s)"
   ]
  },
  {
   "cell_type": "code",
   "execution_count": 3,
   "metadata": {},
   "outputs": [
    {
     "output_type": "execute_result",
     "data": {
      "text/plain": [
       "0     16\n",
       "1     10\n",
       "2     15\n",
       "3      5\n",
       "4      1\n",
       "      ..\n",
       "6      7\n",
       "7     19\n",
       "8      6\n",
       "9     12\n",
       "10     4\n",
       "Length: 11, dtype: int64"
      ]
     },
     "metadata": {},
     "execution_count": 3
    }
   ],
   "source": [
    "trainFile = \"F:/Code/AOC/2020/inputs/2020_day10_example1.txt\"\n",
    "pwd = os.getcwd()\n",
    "os.chdir(os.path.dirname(trainFile))\n",
    "file1 = open(trainFile, 'r') \n",
    "s_ex1 = list(map(int,file1.read().splitlines()))\n",
    "pd.Series(s_ex1)"
   ]
  },
  {
   "cell_type": "code",
   "execution_count": 4,
   "metadata": {},
   "outputs": [
    {
     "output_type": "execute_result",
     "data": {
      "text/plain": [
       "0     28\n",
       "1     33\n",
       "2     18\n",
       "3     42\n",
       "4     31\n",
       "      ..\n",
       "26     4\n",
       "27     2\n",
       "28    34\n",
       "29    10\n",
       "30     3\n",
       "Length: 31, dtype: int64"
      ]
     },
     "metadata": {},
     "execution_count": 4
    }
   ],
   "source": [
    "trainFile = \"F:/Code/AOC/2020/inputs/2020_day10_example2.txt\"\n",
    "pwd = os.getcwd()\n",
    "os.chdir(os.path.dirname(trainFile))\n",
    "file2 = open(trainFile, 'r') \n",
    "s_ex2 = list(map(int,file2.read().splitlines()))\n",
    "pd.Series(s_ex2)"
   ]
  },
  {
   "cell_type": "code",
   "execution_count": 5,
   "metadata": {},
   "outputs": [],
   "source": [
    "def solveJoltage(input):\n",
    "    sorted_input = input[:]\n",
    "    sorted_input.append(max(input) + 3)\n",
    "    sorted_input.append(0)\n",
    "    sorted_input.sort()    \n",
    "    jumpCounts = {}\n",
    "    jumpCounts[1] = 0 \n",
    "    jumpCounts[2] = 0 \n",
    "    jumpCounts[3] = 0     \n",
    "    for i in range(0,len(sorted_input)-1):\n",
    "        diff = sorted_input[i+1] - sorted_input[i]\n",
    "        jumpCounts[diff] = jumpCounts[diff] + 1\n",
    "    print(sorted_input)        \n",
    "    print(jumpCounts)\n",
    "    return jumpCounts[1] * jumpCounts[3]"
   ]
  },
  {
   "cell_type": "code",
   "execution_count": 6,
   "metadata": {},
   "outputs": [
    {
     "output_type": "stream",
     "name": "stdout",
     "text": [
      "[0, 1, 4, 5, 6, 7, 10, 11, 12, 15, 16, 19, 22]\n{1: 7, 2: 0, 3: 5}\n"
     ]
    },
    {
     "output_type": "execute_result",
     "data": {
      "text/plain": [
       "35"
      ]
     },
     "metadata": {},
     "execution_count": 6
    }
   ],
   "source": [
    "solveJoltage(s_ex1)"
   ]
  },
  {
   "cell_type": "code",
   "execution_count": 7,
   "metadata": {},
   "outputs": [
    {
     "output_type": "stream",
     "name": "stdout",
     "text": [
      "[0, 1, 2, 3, 4, 7, 8, 9, 10, 11, 14, 17, 18, 19, 20, 23, 24, 25, 28, 31, 32, 33, 34, 35, 38, 39, 42, 45, 46, 47, 48, 49, 52]\n{1: 22, 2: 0, 3: 10}\n"
     ]
    },
    {
     "output_type": "execute_result",
     "data": {
      "text/plain": [
       "220"
      ]
     },
     "metadata": {},
     "execution_count": 7
    }
   ],
   "source": [
    "solveJoltage(s_ex2)"
   ]
  },
  {
   "cell_type": "code",
   "execution_count": 8,
   "metadata": {},
   "outputs": [
    {
     "output_type": "stream",
     "name": "stdout",
     "text": [
      "[0, 1, 2, 3, 4, 7, 8, 11, 12, 13, 14, 17, 18, 19, 20, 21, 24, 27, 28, 29, 30, 31, 34, 37, 40, 41, 42, 45, 48, 49, 50, 51, 54, 55, 56, 57, 60, 61, 62, 63, 66, 69, 70, 71, 72, 75, 76, 77, 78, 79, 82, 83, 84, 85, 88, 91, 94, 95, 98, 99, 100, 101, 104, 107, 108, 109, 112, 115, 116, 117, 118, 119, 122, 125, 126, 127, 130, 133, 134, 135, 136, 137, 140, 141, 142, 143, 146, 147, 148, 151, 152, 153, 154, 155, 158, 159, 160, 161, 162, 165, 166, 167, 170]\n{1: 68, 2: 0, 3: 34}\n"
     ]
    },
    {
     "output_type": "execute_result",
     "data": {
      "text/plain": [
       "2312"
      ]
     },
     "metadata": {},
     "execution_count": 8
    }
   ],
   "source": [
    "solveJoltage(s)"
   ]
  },
  {
   "cell_type": "code",
   "execution_count": 9,
   "metadata": {},
   "outputs": [],
   "source": [
    "def countArrangements(input):\n",
    "    sorted_input = input[:]\n",
    "    sorted_input.append(max(input) + 3)\n",
    "    sorted_input.append(0)\n",
    "    sorted_input.sort()\n",
    "    arrangements = {}\n",
    "    arrangements[0] = 1\n",
    "    for i in range(1,len(sorted_input)):\n",
    "        index = sorted_input[i]\n",
    "        routes = 0\n",
    "        for j in range(1,4):\n",
    "            previous = index - j\n",
    "            if previous in arrangements.keys():\n",
    "                routes += arrangements[previous]\n",
    "        arrangements[index] = routes\n",
    "    print(sorted_input)        \n",
    "    print(arrangements)\n",
    "    return arrangements[max(sorted_input)]"
   ]
  },
  {
   "cell_type": "code",
   "execution_count": 10,
   "metadata": {},
   "outputs": [
    {
     "output_type": "stream",
     "name": "stdout",
     "text": [
      "[0, 1, 4, 5, 6, 7, 10, 11, 12, 15, 16, 19, 22]\n{0: 1, 1: 1, 4: 1, 5: 1, 6: 2, 7: 4, 10: 4, 11: 4, 12: 8, 15: 8, 16: 8, 19: 8, 22: 8}\n"
     ]
    },
    {
     "output_type": "execute_result",
     "data": {
      "text/plain": [
       "8"
      ]
     },
     "metadata": {},
     "execution_count": 10
    }
   ],
   "source": [
    "countArrangements(s_ex1)"
   ]
  },
  {
   "cell_type": "code",
   "execution_count": 11,
   "metadata": {},
   "outputs": [
    {
     "output_type": "stream",
     "name": "stdout",
     "text": [
      "[0, 1, 2, 3, 4, 7, 8, 9, 10, 11, 14, 17, 18, 19, 20, 23, 24, 25, 28, 31, 32, 33, 34, 35, 38, 39, 42, 45, 46, 47, 48, 49, 52]\n{0: 1, 1: 1, 2: 2, 3: 4, 4: 7, 7: 7, 8: 7, 9: 14, 10: 28, 11: 49, 14: 49, 17: 49, 18: 49, 19: 98, 20: 196, 23: 196, 24: 196, 25: 392, 28: 392, 31: 392, 32: 392, 33: 784, 34: 1568, 35: 2744, 38: 2744, 39: 2744, 42: 2744, 45: 2744, 46: 2744, 47: 5488, 48: 10976, 49: 19208, 52: 19208}\n"
     ]
    },
    {
     "output_type": "execute_result",
     "data": {
      "text/plain": [
       "19208"
      ]
     },
     "metadata": {},
     "execution_count": 11
    }
   ],
   "source": [
    "countArrangements(s_ex2)"
   ]
  },
  {
   "cell_type": "code",
   "execution_count": 12,
   "metadata": {},
   "outputs": [
    {
     "output_type": "stream",
     "name": "stdout",
     "text": [
      "[0, 1, 2, 3, 4, 7, 8, 11, 12, 13, 14, 17, 18, 19, 20, 21, 24, 27, 28, 29, 30, 31, 34, 37, 40, 41, 42, 45, 48, 49, 50, 51, 54, 55, 56, 57, 60, 61, 62, 63, 66, 69, 70, 71, 72, 75, 76, 77, 78, 79, 82, 83, 84, 85, 88, 91, 94, 95, 98, 99, 100, 101, 104, 107, 108, 109, 112, 115, 116, 117, 118, 119, 122, 125, 126, 127, 130, 133, 134, 135, 136, 137, 140, 141, 142, 143, 146, 147, 148, 151, 152, 153, 154, 155, 158, 159, 160, 161, 162, 165, 166, 167, 170]\n{0: 1, 1: 1, 2: 2, 3: 4, 4: 7, 7: 7, 8: 7, 11: 7, 12: 7, 13: 14, 14: 28, 17: 28, 18: 28, 19: 56, 20: 112, 21: 196, 24: 196, 27: 196, 28: 196, 29: 392, 30: 784, 31: 1372, 34: 1372, 37: 1372, 40: 1372, 41: 1372, 42: 2744, 45: 2744, 48: 2744, 49: 2744, 50: 5488, 51: 10976, 54: 10976, 55: 10976, 56: 21952, 57: 43904, 60: 43904, 61: 43904, 62: 87808, 63: 175616, 66: 175616, 69: 175616, 70: 175616, 71: 351232, 72: 702464, 75: 702464, 76: 702464, 77: 1404928, 78: 2809856, 79: 4917248, 82: 4917248, 83: 4917248, 84: 9834496, 85: 19668992, 88: 19668992, 91: 19668992, 94: 19668992, 95: 19668992, 98: 19668992, 99: 19668992, 100: 39337984, 101: 78675968, 104: 78675968, 107: 78675968, 108: 78675968, 109: 157351936, 112: 157351936, 115: 157351936, 116: 157351936, 117: 314703872, 118: 629407744, 119: 1101463552, 122: 1101463552, 125: 1101463552, 126: 1101463552, 127: 2202927104, 130: 2202927104, 133: 2202927104, 134: 2202927104, 135: 4405854208, 136: 8811708416, 137: 15420489728, 140: 15420489728, 141: 15420489728, 142: 30840979456, 143: 61681958912, 146: 61681958912, 147: 61681958912, 148: 123363917824, 151: 123363917824, 152: 123363917824, 153: 246727835648, 154: 493455671296, 155: 863547424768, 158: 863547424768, 159: 863547424768, 160: 1727094849536, 161: 3454189699072, 162: 6044831973376, 165: 6044831973376, 166: 6044831973376, 167: 12089663946752, 170: 12089663946752}\n"
     ]
    },
    {
     "output_type": "execute_result",
     "data": {
      "text/plain": [
       "12089663946752"
      ]
     },
     "metadata": {},
     "execution_count": 12
    }
   ],
   "source": [
    "countArrangements(s)"
   ]
  }
 ]
}