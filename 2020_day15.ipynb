{
 "metadata": {
  "language_info": {
   "codemirror_mode": {
    "name": "ipython",
    "version": 3
   },
   "file_extension": ".py",
   "mimetype": "text/x-python",
   "name": "python",
   "nbconvert_exporter": "python",
   "pygments_lexer": "ipython3",
   "version": "3.6.2-final"
  },
  "orig_nbformat": 2,
  "kernelspec": {
   "name": "python3",
   "display_name": "Python 3",
   "language": "python"
  }
 },
 "nbformat": 4,
 "nbformat_minor": 2,
 "cells": [
  {
   "source": [
    "import pandas as pd\n",
    "import os\n",
    "import unittest\n",
    "import string\n",
    "import re"
   ],
   "cell_type": "code",
   "metadata": {},
   "execution_count": 1,
   "outputs": []
  },
  {
   "cell_type": "code",
   "execution_count": 2,
   "metadata": {},
   "outputs": [
    {
     "output_type": "execute_result",
     "data": {
      "text/plain": [
       "0    0\n",
       "1    3\n",
       "2    1\n",
       "3    6\n",
       "4    7\n",
       "5    5\n",
       "dtype: int64"
      ]
     },
     "metadata": {},
     "execution_count": 2
    }
   ],
   "source": [
    "trainFile = \"F:/Code/AOC/2020/inputs/2020_day15_input.txt\"\n",
    "pwd = os.getcwd()\n",
    "os.chdir(os.path.dirname(trainFile))\n",
    "file1 = open(trainFile, 'r') \n",
    "s = list(map(int, file1.read().splitlines()[0].split(\",\")))\n",
    "pd.Series(s)"
   ]
  },
  {
   "cell_type": "code",
   "execution_count": 3,
   "metadata": {},
   "outputs": [
    {
     "output_type": "execute_result",
     "data": {
      "text/plain": [
       "0    0\n",
       "1    3\n",
       "2    6\n",
       "dtype: int64"
      ]
     },
     "metadata": {},
     "execution_count": 3
    }
   ],
   "source": [
    "trainFile = \"F:/Code/AOC/2020/inputs/2020_day15_example1.txt\"\n",
    "pwd = os.getcwd()\n",
    "os.chdir(os.path.dirname(trainFile))\n",
    "file1 = open(trainFile, 'r') \n",
    "s_ex1 = list(map(int, file1.read().splitlines()[0].split(\",\")))\n",
    "pd.Series(s_ex1)"
   ]
  },
  {
   "cell_type": "code",
   "execution_count": 4,
   "metadata": {},
   "outputs": [],
   "source": [
    "def next(input):\n",
    "    last = input[len(input)-1]\n",
    "    count_last = input.count(last)\n",
    "    if count_last == 1:\n",
    "        return 0 # first time a number is seen\n",
    "    \n",
    "    i = len(input)-2\n",
    "    while input[i] != last:\n",
    "        i -= 1\n",
    "  \n",
    "    return len(input) - i - 1"
   ]
  },
  {
   "cell_type": "code",
   "execution_count": 5,
   "metadata": {},
   "outputs": [],
   "source": [
    "def expand(input, spoken):\n",
    "    current = input[:]\n",
    "    while len(current) < spoken:\n",
    "        value = next(current)\n",
    "        current.append(value)\n",
    "    return current"
   ]
  },
  {
   "cell_type": "code",
   "execution_count": 6,
   "metadata": {},
   "outputs": [],
   "source": [
    "def advance(input, spoken):\n",
    "    results = expand(input, spoken)\n",
    "    return results[len(results)-1]"
   ]
  },
  {
   "cell_type": "code",
   "execution_count": 7,
   "metadata": {},
   "outputs": [],
   "source": [
    "class PartOneTests(unittest.TestCase):\n",
    "    def setUp(self):\n",
    "        pass\n",
    "    def tearDown(self):\n",
    "        pass\n",
    "    def test_simple(self):\n",
    "        self.assertEqual([0,3,6,0,3,3,1,0,4,0], expand(s_ex1,10))\n",
    "    def test_first_example(self):\n",
    "        self.assertEqual(436, advance(s_ex1,2020))\n",
    "    def test_example(self):\n",
    "        self.assertEqual(1, advance([1,3,2],2020))\n",
    "        self.assertEqual(10, advance([2,1,3],2020))\n",
    "        self.assertEqual(27, advance([1,2,3],2020))\n",
    "        self.assertEqual(78, advance([2,3,1],2020))\n",
    "        self.assertEqual(438, advance([3,2,1],2020))\n",
    "        self.assertEqual(1836, advance([3,1,2],2020))"
   ]
  },
  {
   "cell_type": "code",
   "execution_count": 8,
   "metadata": {},
   "outputs": [
    {
     "output_type": "stream",
     "name": "stderr",
     "text": [
      "test_example (__main__.PartOneTests) ... ok\n",
      "test_first_example (__main__.PartOneTests) ... ok\n",
      "test_simple (__main__.PartOneTests) ... ok\n",
      "\n",
      "----------------------------------------------------------------------\n",
      "Ran 3 tests in 0.308s\n",
      "\n",
      "OK\n"
     ]
    },
    {
     "output_type": "execute_result",
     "data": {
      "text/plain": [
       "<unittest.main.TestProgram at 0x2218e7d3908>"
      ]
     },
     "metadata": {},
     "execution_count": 8
    }
   ],
   "source": [
    "unittest.main(argv=[''], verbosity=3, exit=False)"
   ]
  },
  {
   "cell_type": "code",
   "execution_count": 9,
   "metadata": {},
   "outputs": [
    {
     "output_type": "execute_result",
     "data": {
      "text/plain": [
       "852"
      ]
     },
     "metadata": {},
     "execution_count": 9
    }
   ],
   "source": [
    "advance(s,2020)"
   ]
  },
  {
   "cell_type": "code",
   "execution_count": 10,
   "metadata": {},
   "outputs": [
    {
     "output_type": "execute_result",
     "data": {
      "text/plain": [
       "[0, 3, 1, 6, 7, 5, 0, 6, 4, 0, 3, 9, 0, 3, 3, 1, 13, 0, 5, 13, 3, 6, 14, 0, 6]"
      ]
     },
     "metadata": {},
     "execution_count": 10
    }
   ],
   "source": [
    "expand(s,25)"
   ]
  },
  {
   "cell_type": "code",
   "execution_count": 11,
   "metadata": {},
   "outputs": [],
   "source": [
    "def expand_fast(data, last, current_count, spoken):\n",
    "    new = True\n",
    "    while current_count < spoken:\n",
    "        previous = data[last]    \n",
    "        current_count += 1\n",
    "        #print(data, last, new)\n",
    "        if new:\n",
    "            # first time seen, say 0\n",
    "            last = 0            \n",
    "        else:            \n",
    "            last = diff            \n",
    "        new = not last in data.keys()\n",
    "        if last in data.keys():    \n",
    "            diff = current_count - data[last]\n",
    "        data[last] = current_count\n",
    "        #print(current_count, last)\n",
    "    return (data, last, current_count)"
   ]
  },
  {
   "cell_type": "code",
   "execution_count": 12,
   "metadata": {},
   "outputs": [],
   "source": [
    "def advance_fast(input, spoken):\n",
    "    data = {}\n",
    "    for i in range(0,len(input)):\n",
    "        data[input[i]] = i+1\n",
    "    last = input[len(input)-1]\n",
    "    current_count = len(input)\n",
    "    results = expand_fast(data, last, current_count, spoken)\n",
    "    return results[1]"
   ]
  },
  {
   "cell_type": "code",
   "execution_count": 13,
   "metadata": {},
   "outputs": [
    {
     "output_type": "execute_result",
     "data": {
      "text/plain": [
       "0"
      ]
     },
     "metadata": {},
     "execution_count": 13
    }
   ],
   "source": [
    "advance_fast(s_ex1,10)"
   ]
  },
  {
   "cell_type": "code",
   "execution_count": 14,
   "metadata": {},
   "outputs": [],
   "source": [
    "class PartTwoTests(unittest.TestCase):\n",
    "    def setUp(self):\n",
    "        pass\n",
    "    def tearDown(self):\n",
    "        pass\n",
    "    def test_first_example(self):\n",
    "        self.assertEqual(436, advance_fast(s_ex1,2020))\n",
    "    def test_example(self):\n",
    "        self.assertEqual(1, advance_fast([1,3,2],2020))\n",
    "        self.assertEqual(10, advance_fast([2,1,3],2020))\n",
    "        self.assertEqual(27, advance_fast([1,2,3],2020))\n",
    "        self.assertEqual(78, advance_fast([2,3,1],2020))\n",
    "        self.assertEqual(438, advance_fast([3,2,1],2020))\n",
    "        self.assertEqual(1836, advance_fast([3,1,2],2020))"
   ]
  },
  {
   "cell_type": "code",
   "execution_count": 15,
   "metadata": {},
   "outputs": [
    {
     "output_type": "stream",
     "name": "stderr",
     "text": [
      "test_example (__main__.PartOneTests) ... ok\n",
      "test_first_example (__main__.PartOneTests) ... ok\n",
      "test_simple (__main__.PartOneTests) ... ok\n",
      "test_example (__main__.PartTwoTests) ... ok\n",
      "test_first_example (__main__.PartTwoTests) ... ok\n",
      "\n",
      "----------------------------------------------------------------------\n",
      "Ran 5 tests in 0.305s\n",
      "\n",
      "OK\n"
     ]
    },
    {
     "output_type": "execute_result",
     "data": {
      "text/plain": [
       "<unittest.main.TestProgram at 0x2218e7d79e8>"
      ]
     },
     "metadata": {},
     "execution_count": 15
    }
   ],
   "source": [
    "unittest.main(argv=[''], verbosity=3, exit=False)"
   ]
  },
  {
   "cell_type": "code",
   "execution_count": 16,
   "metadata": {},
   "outputs": [
    {
     "output_type": "execute_result",
     "data": {
      "text/plain": [
       "6007666"
      ]
     },
     "metadata": {},
     "execution_count": 16
    }
   ],
   "source": [
    "advance_fast(s,30000000)"
   ]
  }
 ]
}