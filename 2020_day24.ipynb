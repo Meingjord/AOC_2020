{
 "metadata": {
  "language_info": {
   "codemirror_mode": {
    "name": "ipython",
    "version": 3
   },
   "file_extension": ".py",
   "mimetype": "text/x-python",
   "name": "python",
   "nbconvert_exporter": "python",
   "pygments_lexer": "ipython3",
   "version": "3.6.2-final"
  },
  "orig_nbformat": 2,
  "kernelspec": {
   "name": "python3",
   "display_name": "Python 3",
   "language": "python"
  }
 },
 "nbformat": 4,
 "nbformat_minor": 2,
 "cells": [
  {
   "source": [
    "import pandas as pd\n",
    "import os\n",
    "import unittest\n",
    "import string\n",
    "import re\n",
    "import copy\n",
    "pd.set_option('display.max_rows', 10)"
   ],
   "cell_type": "code",
   "metadata": {},
   "execution_count": 1,
   "outputs": []
  },
  {
   "cell_type": "code",
   "execution_count": 2,
   "metadata": {},
   "outputs": [
    {
     "output_type": "execute_result",
     "data": {
      "text/plain": [
       "0                       eneweeneseneeeneneee\n",
       "1         wewwwwnewnwseswwnwnwnwsenwnesenwnw\n",
       "2          enenweneswnewswwneesenwenewswsenw\n",
       "3                eenweeswsweeneeeenweswnweee\n",
       "4                eseeseseesweeeseeeeneenwwee\n",
       "                       ...                  \n",
       "395                      nwwsenenwnwnenwsene\n",
       "396      nwsesewnewswswswwnwswesweneeswwswne\n",
       "397         eneneneneeeeneesweneeeenweswnesw\n",
       "398    ewnenenewseneswnwwswseswseseenwsesenw\n",
       "399             seesenwnweneeeeesweeeeeeeewe\n",
       "Length: 400, dtype: object"
      ]
     },
     "metadata": {},
     "execution_count": 2
    }
   ],
   "source": [
    "trainFile = \"F:/Code/AOC/2020/inputs/2020_day24_input.txt\"\n",
    "pwd = os.getcwd()\n",
    "os.chdir(os.path.dirname(trainFile))\n",
    "file1 = open(trainFile, 'r') \n",
    "s = file1.read().splitlines()\n",
    "pd.Series(s)"
   ]
  },
  {
   "cell_type": "code",
   "execution_count": 3,
   "metadata": {},
   "outputs": [
    {
     "output_type": "execute_result",
     "data": {
      "text/plain": [
       "0        sesenwnenenewseeswwswswwnenewsewsw\n",
       "1     neeenesenwnwwswnenewnwwsewnenwseswesw\n",
       "2                       seswneswswsenwwnwse\n",
       "3     nwnwneseeswswnenewneswwnewseswneseene\n",
       "4              swweswneswnenwsewnwneneseenw\n",
       "                      ...                  \n",
       "15       wnwnesenesenenwwnenwsewesewsesesew\n",
       "16            nenewswnwewswnenesenwnesewesw\n",
       "17    eneswnwswnwsenenwnwnwwseeswneewsenese\n",
       "18        neswnwewnwnwseenwseesewsenwsweewe\n",
       "19                   wseweeenwnesenwwwswnew\n",
       "Length: 20, dtype: object"
      ]
     },
     "metadata": {},
     "execution_count": 3
    }
   ],
   "source": [
    "trainFile = \"F:/Code/AOC/2020/inputs/2020_day24_example1.txt\"\n",
    "pwd = os.getcwd()\n",
    "os.chdir(os.path.dirname(trainFile))\n",
    "file1 = open(trainFile, 'r') \n",
    "s_ex1 = file1.read().splitlines()\n",
    "pd.Series(s_ex1)"
   ]
  },
  {
   "cell_type": "code",
   "execution_count": 4,
   "metadata": {},
   "outputs": [],
   "source": [
    "def parse(input):\n",
    "    i = 0\n",
    "    result = []\n",
    "    while i < len(input):\n",
    "        width = 1\n",
    "        if input[i] == \"n\" or input[i] == \"s\":\n",
    "            width = 2\n",
    "        result.append(input[i : i+width])\n",
    "        i += width\n",
    "    return result"
   ]
  },
  {
   "cell_type": "code",
   "execution_count": 5,
   "metadata": {},
   "outputs": [
    {
     "output_type": "execute_result",
     "data": {
      "text/plain": [
       "['e', 'ne', 'w', 'e', 'e', 'ne', 'se', 'ne', 'e', 'e', 'ne', 'ne', 'e', 'e']"
      ]
     },
     "metadata": {},
     "execution_count": 5
    }
   ],
   "source": [
    "p_ex1 = list(map(parse, s_ex1))\n",
    "p = list(map(parse, s))\n",
    "p[0]"
   ]
  },
  {
   "cell_type": "code",
   "execution_count": 6,
   "metadata": {},
   "outputs": [],
   "source": [
    "directions = [\"e\",\"w\",\"ne\",\"nw\",\"sw\",\"se\"]\n",
    "\n",
    "def offset(i):\n",
    "    if i == \"e\":\n",
    "        return (1,0)\n",
    "    elif i == \"w\":\n",
    "        return (-1,0)\n",
    "    elif i == \"ne\":\n",
    "        return (0,1)\n",
    "    elif i == \"sw\":\n",
    "        return (0,-1)\n",
    "    elif i == \"nw\":\n",
    "        return (-1,1)\n",
    "    elif i == \"se\":\n",
    "        return (1,-1)\n",
    "    else:\n",
    "        x += None        \n",
    "\n",
    "def findCoordinate(input):\n",
    "    x=0\n",
    "    y=0\n",
    "    for i in input:\n",
    "        o = offset(i)\n",
    "        x += o[0]\n",
    "        y += o[1]\n",
    "    return (x, y)"
   ]
  },
  {
   "cell_type": "code",
   "execution_count": 7,
   "metadata": {},
   "outputs": [],
   "source": [
    "def countPartOne(input):\n",
    "    points = {}\n",
    "    for i in input:\n",
    "        coordinate = findCoordinate(i)\n",
    "        if coordinate in points:\n",
    "            del points[coordinate]\n",
    "        else:\n",
    "            points[coordinate] = True\n",
    "    return points"
   ]
  },
  {
   "cell_type": "code",
   "execution_count": 8,
   "metadata": {},
   "outputs": [
    {
     "output_type": "execute_result",
     "data": {
      "text/plain": [
       "10"
      ]
     },
     "metadata": {},
     "execution_count": 8
    }
   ],
   "source": [
    "p_points_ex1 = countPartOne(p_ex1)\n",
    "len(p_points_ex1)"
   ]
  },
  {
   "cell_type": "code",
   "execution_count": 9,
   "metadata": {},
   "outputs": [
    {
     "output_type": "execute_result",
     "data": {
      "text/plain": [
       "322"
      ]
     },
     "metadata": {},
     "execution_count": 9
    }
   ],
   "source": [
    "p_points = countPartOne(p)\n",
    "len(p_points)"
   ]
  },
  {
   "cell_type": "code",
   "execution_count": 10,
   "metadata": {},
   "outputs": [],
   "source": [
    "def isBlackInNextGen(input, point):\n",
    "    neighbors = 0\n",
    "    for d in directions:\n",
    "        o = offset(d)\n",
    "        other = (point[0]+o[0], point[1]+o[1])\n",
    "        if other in input:\n",
    "            #print(\"a neighbor is \",other)\n",
    "            neighbors += 1\n",
    "    #print(\"point\",point, \"neighbors\", neighbors)\n",
    "    if point in input:\n",
    "        return neighbors == 1 or neighbors == 2\n",
    "    else:\n",
    "        return neighbors == 2\n",
    "\n",
    "def advance(input):\n",
    "    result = {}\n",
    "    for point in input.keys():\n",
    "        #print(\"=====Checking=====\",point)\n",
    "        if isBlackInNextGen(input, point):\n",
    "            result[point] = True\n",
    "            #print(\"Found point\", point)\n",
    "        for d in directions:\n",
    "            o = offset(d)\n",
    "            other = (point[0] + o[0], point[1]+o[1])\n",
    "            if isBlackInNextGen(input, other):\n",
    "                #print(\"Found point\", other, d)\n",
    "                result[other] = True\n",
    "    #print (result)\n",
    "    return result      "
   ]
  },
  {
   "cell_type": "code",
   "execution_count": 11,
   "metadata": {
    "tags": []
   },
   "outputs": [
    {
     "output_type": "stream",
     "name": "stdout",
     "text": [
      "1 202\n",
      "2 271\n",
      "3 283\n",
      "4 297\n",
      "5 338\n",
      "6 355\n",
      "7 367\n",
      "8 356\n",
      "9 400\n",
      "10 405\n",
      "11 456\n",
      "12 467\n",
      "13 481\n",
      "14 515\n",
      "15 495\n",
      "16 509\n",
      "17 529\n",
      "18 533\n",
      "19 583\n",
      "20 630\n",
      "21 617\n",
      "22 630\n",
      "23 674\n",
      "24 682\n",
      "25 672\n",
      "26 730\n",
      "27 750\n",
      "28 769\n",
      "29 859\n",
      "30 769\n",
      "31 800\n",
      "32 920\n",
      "33 890\n",
      "34 978\n",
      "35 978\n",
      "36 1053\n",
      "37 1052\n",
      "38 1061\n",
      "39 1080\n",
      "40 1156\n",
      "41 1094\n",
      "42 1154\n",
      "43 1291\n",
      "44 1274\n",
      "45 1259\n",
      "46 1346\n",
      "47 1353\n",
      "48 1375\n",
      "49 1482\n",
      "50 1411\n",
      "51 1479\n",
      "52 1472\n",
      "53 1487\n",
      "54 1541\n",
      "55 1671\n",
      "56 1627\n",
      "57 1694\n",
      "58 1748\n",
      "59 1688\n",
      "60 1806\n",
      "61 1788\n",
      "62 1922\n",
      "63 1907\n",
      "64 1920\n",
      "65 1990\n",
      "66 2020\n",
      "67 2140\n",
      "68 2129\n",
      "69 2167\n",
      "70 2218\n",
      "71 2181\n",
      "72 2384\n",
      "73 2163\n",
      "74 2369\n",
      "75 2391\n",
      "76 2544\n",
      "77 2450\n",
      "78 2555\n",
      "79 2584\n",
      "80 2634\n",
      "81 2710\n",
      "82 2715\n",
      "83 2908\n",
      "84 2864\n",
      "85 2836\n",
      "86 3060\n",
      "87 3084\n",
      "88 3070\n",
      "89 3173\n",
      "90 3104\n",
      "91 3308\n",
      "92 3266\n",
      "93 3459\n",
      "94 3314\n",
      "95 3550\n",
      "96 3541\n",
      "97 3620\n",
      "98 3672\n",
      "99 3720\n",
      "100 3831\n"
     ]
    }
   ],
   "source": [
    "temp = countPartOne(p)\n",
    "for i in range(1,101):    \n",
    "    temp = advance(temp)\n",
    "    print(i, len(temp))"
   ]
  },
  {
   "cell_type": "code",
   "execution_count": 12,
   "metadata": {},
   "outputs": [
    {
     "output_type": "stream",
     "name": "stdout",
     "text": [
      "1 15\n",
      "2 12\n",
      "3 25\n",
      "4 14\n",
      "5 23\n",
      "6 28\n",
      "7 41\n",
      "8 37\n",
      "9 49\n",
      "10 37\n",
      "11 55\n",
      "12 54\n",
      "13 69\n",
      "14 73\n",
      "15 84\n",
      "16 92\n",
      "17 88\n",
      "18 107\n",
      "19 113\n",
      "20 132\n",
      "21 133\n",
      "22 147\n",
      "23 134\n",
      "24 177\n",
      "25 170\n",
      "26 176\n",
      "27 221\n",
      "28 208\n",
      "29 207\n",
      "30 259\n",
      "31 277\n",
      "32 283\n",
      "33 270\n",
      "34 324\n",
      "35 326\n",
      "36 333\n",
      "37 345\n",
      "38 371\n",
      "39 380\n",
      "40 406\n",
      "41 439\n",
      "42 466\n",
      "43 449\n",
      "44 478\n",
      "45 529\n",
      "46 525\n",
      "47 570\n",
      "48 588\n",
      "49 576\n",
      "50 566\n",
      "51 636\n",
      "52 601\n",
      "53 667\n",
      "54 672\n",
      "55 735\n",
      "56 766\n",
      "57 723\n",
      "58 755\n",
      "59 805\n",
      "60 788\n",
      "61 844\n",
      "62 875\n",
      "63 908\n",
      "64 936\n",
      "65 994\n",
      "66 943\n",
      "67 1015\n",
      "68 1029\n",
      "69 1058\n",
      "70 1106\n",
      "71 1158\n",
      "72 1146\n",
      "73 1125\n",
      "74 1159\n",
      "75 1202\n",
      "76 1344\n",
      "77 1277\n",
      "78 1345\n",
      "79 1320\n",
      "80 1373\n",
      "81 1420\n",
      "82 1431\n",
      "83 1469\n",
      "84 1561\n",
      "85 1590\n",
      "86 1596\n",
      "87 1699\n",
      "88 1662\n",
      "89 1788\n",
      "90 1844\n",
      "91 1797\n",
      "92 1800\n",
      "93 1866\n",
      "94 1887\n",
      "95 1878\n",
      "96 2070\n",
      "97 1930\n",
      "98 2031\n",
      "99 2088\n",
      "100 2208\n"
     ]
    }
   ],
   "source": [
    "temp = countPartOne(p_ex1)\n",
    "for i in range(1,101):    \n",
    "    temp = advance(temp)\n",
    "    print(i, len(temp))"
   ]
  },
  {
   "cell_type": "code",
   "execution_count": 13,
   "metadata": {},
   "outputs": [
    {
     "output_type": "execute_result",
     "data": {
      "text/plain": [
       "{(-2, 0): True,\n",
       " (-2, 1): True,\n",
       " (-1, -2): True,\n",
       " (-1, -1): True,\n",
       " (-1, 1): True,\n",
       " (0, -3): True,\n",
       " (0, 0): True,\n",
       " (0, 3): True,\n",
       " (2, -2): True,\n",
       " (2, 0): True}"
      ]
     },
     "metadata": {},
     "execution_count": 13
    }
   ],
   "source": [
    "p_points_ex1"
   ]
  },
  {
   "cell_type": "code",
   "execution_count": 14,
   "metadata": {},
   "outputs": [
    {
     "output_type": "execute_result",
     "data": {
      "text/plain": [
       "{(-3, 1): True,\n",
       " (-2, 0): True,\n",
       " (-2, 1): True,\n",
       " (-2, 2): True,\n",
       " (-1, -3): True,\n",
       " (-1, -2): True,\n",
       " (-1, -1): True,\n",
       " (-1, 1): True,\n",
       " (0, -3): True,\n",
       " (0, -1): True,\n",
       " (0, 0): True,\n",
       " (0, 1): True,\n",
       " (1, -1): True,\n",
       " (1, 0): True,\n",
       " (2, -1): True}"
      ]
     },
     "metadata": {},
     "execution_count": 14
    }
   ],
   "source": [
    "advance(p_points_ex1)"
   ]
  },
  {
   "cell_type": "code",
   "execution_count": 15,
   "metadata": {},
   "outputs": [],
   "source": [
    "class PartOneTests(unittest.TestCase):\n",
    "    def setUp(self):\n",
    "        pass\n",
    "    def tearDown(self):\n",
    "        pass\n",
    "    def test_examples(self):\n",
    "        self.assertEqual(True,isBlackInNextGen(p_points_ex1,(-1,-3)))\n",
    "        self.assertEqual(True,isBlackInNextGen(p_points_ex1,(-1,-2)))"
   ]
  },
  {
   "cell_type": "code",
   "execution_count": 16,
   "metadata": {},
   "outputs": [
    {
     "output_type": "stream",
     "name": "stderr",
     "text": [
      "test_examples (__main__.PartOneTests) ... ok\n",
      "\n",
      "----------------------------------------------------------------------\n",
      "Ran 1 test in 0.001s\n",
      "\n",
      "OK\n"
     ]
    },
    {
     "output_type": "execute_result",
     "data": {
      "text/plain": [
       "<unittest.main.TestProgram at 0x193ac194630>"
      ]
     },
     "metadata": {},
     "execution_count": 16
    }
   ],
   "source": [
    "unittest.main(argv=[''], verbosity=3, exit=False)"
   ]
  }
 ]
}