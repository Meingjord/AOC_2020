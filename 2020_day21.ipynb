{
 "metadata": {
  "language_info": {
   "codemirror_mode": {
    "name": "ipython",
    "version": 3
   },
   "file_extension": ".py",
   "mimetype": "text/x-python",
   "name": "python",
   "nbconvert_exporter": "python",
   "pygments_lexer": "ipython3",
   "version": "3.6.2-final"
  },
  "orig_nbformat": 2,
  "kernelspec": {
   "name": "python3",
   "display_name": "Python 3",
   "language": "python"
  }
 },
 "nbformat": 4,
 "nbformat_minor": 2,
 "cells": [
  {
   "source": [
    "import pandas as pd\n",
    "import os\n",
    "import unittest\n",
    "import string\n",
    "import re\n",
    "import copy\n",
    "pd.set_option('display.max_rows', 10)"
   ],
   "cell_type": "code",
   "metadata": {},
   "execution_count": 1,
   "outputs": []
  },
  {
   "cell_type": "code",
   "execution_count": 2,
   "metadata": {},
   "outputs": [
    {
     "output_type": "execute_result",
     "data": {
      "text/plain": [
       "0     tbhvhts svgvj tzrr ntf ztxcfk cbtj dqm fqxrnb ...\n",
       "1     dslsr gzdd dvmqdg lbld phprpb lszzpd lfchd jzd...\n",
       "2     kbsvnrg fxnk fbtznll bmpxrx bng pkmqn fqxrnb s...\n",
       "3     gcjsp mkcpdr pmr mrvfl ltnn dvmqdg nnthk zglx ...\n",
       "4     vnqnj gqq jmdvns zqgvjdzl zglx hmxpx xzmzf rgz...\n",
       "                            ...                        \n",
       "35    bkvtvgh rqgtxh gcjsp vhxv cbtj lfchd nphgmvq z...\n",
       "36    rfxms lfchd lnnr cnsftl lqkbkcn spl xlhpmb xzm...\n",
       "37    hmf jqp mrvfl ltpx qnhmtl pctckzgp jmdvns rrkx...\n",
       "38    mgn jzdxnfz tpnnkc hsksz jdgq fbtznll nkz nvph...\n",
       "39    spl fmpgn pcqhd lsnmldh hqgqj mnbkq rqgtxh rrk...\n",
       "Length: 40, dtype: object"
      ]
     },
     "metadata": {},
     "execution_count": 2
    }
   ],
   "source": [
    "trainFile = \"F:/Code/AOC/2020/inputs/2020_day21_input.txt\"\n",
    "pwd = os.getcwd()\n",
    "os.chdir(os.path.dirname(trainFile))\n",
    "file1 = open(trainFile, 'r') \n",
    "s = file1.read().splitlines()\n",
    "pd.Series(s)"
   ]
  },
  {
   "cell_type": "code",
   "execution_count": 3,
   "metadata": {},
   "outputs": [
    {
     "output_type": "execute_result",
     "data": {
      "text/plain": [
       "0    mxmxvkd kfcds sqjhc nhms (contains dairy, fish)\n",
       "1           trh fvjkl sbzzf mxmxvkd (contains dairy)\n",
       "2                         sqjhc fvjkl (contains soy)\n",
       "3                sqjhc mxmxvkd sbzzf (contains fish)\n",
       "dtype: object"
      ]
     },
     "metadata": {},
     "execution_count": 3
    }
   ],
   "source": [
    "trainFile = \"F:/Code/AOC/2020/inputs/2020_day21_example1.txt\"\n",
    "pwd = os.getcwd()\n",
    "os.chdir(os.path.dirname(trainFile))\n",
    "file1 = open(trainFile, 'r') \n",
    "s_ex1 = file1.read().splitlines()\n",
    "pd.Series(s_ex1)"
   ]
  },
  {
   "cell_type": "code",
   "execution_count": 4,
   "metadata": {},
   "outputs": [],
   "source": [
    "def parse(input):\n",
    "    parts = input.replace(\")\",\"\").split(\"(contains \")    \n",
    "    if len(parts) == 1:\n",
    "        parts.add(\"\")\n",
    "    ingredients = parts[0].strip(\" \").split(\" \")\n",
    "    allergens = parts[1].strip(\" \").split(\", \")\n",
    "    return (ingredients, allergens)"
   ]
  },
  {
   "cell_type": "code",
   "execution_count": 5,
   "metadata": {
    "tags": []
   },
   "outputs": [
    {
     "output_type": "execute_result",
     "data": {
      "text/plain": [
       "[(['mxmxvkd', 'kfcds', 'sqjhc', 'nhms'], ['dairy', 'fish']),\n",
       " (['trh', 'fvjkl', 'sbzzf', 'mxmxvkd'], ['dairy']),\n",
       " (['sqjhc', 'fvjkl'], ['soy']),\n",
       " (['sqjhc', 'mxmxvkd', 'sbzzf'], ['fish'])]"
      ]
     },
     "metadata": {},
     "execution_count": 5
    }
   ],
   "source": [
    "p_ex1 = list(map(parse,s_ex1))\n",
    "p_ex1"
   ]
  },
  {
   "cell_type": "code",
   "execution_count": 6,
   "metadata": {},
   "outputs": [],
   "source": [
    "p = list(map(parse,s))"
   ]
  },
  {
   "cell_type": "code",
   "execution_count": 7,
   "metadata": {},
   "outputs": [],
   "source": [
    "def resolveAllergens(input):\n",
    "    remainingAllergens = []\n",
    "    for food in input:\n",
    "        for allergen in food[1]:\n",
    "            if not allergen in remainingAllergens:\n",
    "                remainingAllergens.append(allergen)\n",
    "    allergenInfo = {}\n",
    "    while len(remainingAllergens) > 0:\n",
    "        for allergen in remainingAllergens:\n",
    "            choices = None\n",
    "            for food in input:\n",
    "                if allergen in food[1]:\n",
    "                    if choices == None:\n",
    "                        choices = food[0] # first init may be any\n",
    "                    else:\n",
    "                        remainingChoices = choices[:]\n",
    "                        for ingredient in choices:\n",
    "                            if not ingredient in food[0]:\n",
    "                                remainingChoices.remove(ingredient)\n",
    "                        choices = remainingChoices\n",
    "            # print(\"Allergen found in ingredients\", allergen, choices)\n",
    "            for knownIngredient in allergenInfo.values():\n",
    "                if knownIngredient in choices:\n",
    "                    choices.remove(knownIngredient)\n",
    "            # print(\"Allergen found in ingredients (after removing)\", allergen, choices)\n",
    "            if len(choices) == 1:\n",
    "                allergenInfo[allergen] = choices[0]\n",
    "                remainingAllergens.remove(allergen)\n",
    "    return allergenInfo    "
   ]
  },
  {
   "cell_type": "code",
   "execution_count": 8,
   "metadata": {},
   "outputs": [
    {
     "output_type": "execute_result",
     "data": {
      "text/plain": [
       "{'dairy': 'mxmxvkd', 'fish': 'sqjhc', 'soy': 'fvjkl'}"
      ]
     },
     "metadata": {},
     "execution_count": 8
    }
   ],
   "source": [
    "a_ex1 = resolveAllergens(p_ex1)\n",
    "a_ex1"
   ]
  },
  {
   "cell_type": "code",
   "execution_count": 9,
   "metadata": {},
   "outputs": [
    {
     "output_type": "execute_result",
     "data": {
      "text/plain": [
       "{'dairy': 'bxjvzk',\n",
       " 'eggs': 'hqgqj',\n",
       " 'fish': 'sp',\n",
       " 'nuts': 'spl',\n",
       " 'peanuts': 'hsksz',\n",
       " 'sesame': 'qzzzf',\n",
       " 'shellfish': 'fmpgn',\n",
       " 'soy': 'tpnnkc'}"
      ]
     },
     "metadata": {},
     "execution_count": 9
    }
   ],
   "source": [
    "a = resolveAllergens(p)\n",
    "a"
   ]
  },
  {
   "cell_type": "code",
   "execution_count": 10,
   "metadata": {},
   "outputs": [],
   "source": [
    "def countNonAllergens(input):\n",
    "    allergenInfo = resolveAllergens(input)\n",
    "    count = 0\n",
    "    for food in input:\n",
    "        for ingredient in food[0]:\n",
    "            if not ingredient in allergenInfo.values():\n",
    "                count += 1\n",
    "    return count"
   ]
  },
  {
   "cell_type": "code",
   "execution_count": 11,
   "metadata": {},
   "outputs": [
    {
     "output_type": "execute_result",
     "data": {
      "text/plain": [
       "5"
      ]
     },
     "metadata": {},
     "execution_count": 11
    }
   ],
   "source": [
    "countNonAllergens(p_ex1)"
   ]
  },
  {
   "cell_type": "code",
   "execution_count": 12,
   "metadata": {},
   "outputs": [
    {
     "output_type": "execute_result",
     "data": {
      "text/plain": [
       "2324"
      ]
     },
     "metadata": {},
     "execution_count": 12
    }
   ],
   "source": [
    "countNonAllergens(p)"
   ]
  },
  {
   "cell_type": "code",
   "execution_count": 13,
   "metadata": {},
   "outputs": [],
   "source": [
    "def solvePartTwo(input):\n",
    "    allergenInfo = resolveAllergens(input)\n",
    "    allergens = list(allergenInfo.keys())\n",
    "    allergens.sort()\n",
    "    canonicalIngredients = []\n",
    "    for allergen in allergens:\n",
    "        canonicalIngredients.append(allergenInfo[allergen])\n",
    "    return \",\".join(canonicalIngredients)"
   ]
  },
  {
   "cell_type": "code",
   "execution_count": 14,
   "metadata": {},
   "outputs": [
    {
     "output_type": "execute_result",
     "data": {
      "text/plain": [
       "'mxmxvkd,sqjhc,fvjkl'"
      ]
     },
     "metadata": {},
     "execution_count": 14
    }
   ],
   "source": [
    "solvePartTwo(p_ex1)"
   ]
  },
  {
   "cell_type": "code",
   "execution_count": 15,
   "metadata": {},
   "outputs": [
    {
     "output_type": "execute_result",
     "data": {
      "text/plain": [
       "'bxjvzk,hqgqj,sp,spl,hsksz,qzzzf,fmpgn,tpnnkc'"
      ]
     },
     "metadata": {},
     "execution_count": 15
    }
   ],
   "source": [
    "solvePartTwo(p)"
   ]
  }
 ]
}