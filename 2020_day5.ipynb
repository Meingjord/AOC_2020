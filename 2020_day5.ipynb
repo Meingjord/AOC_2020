{
 "metadata": {
  "language_info": {
   "codemirror_mode": {
    "name": "ipython",
    "version": 3
   },
   "file_extension": ".py",
   "mimetype": "text/x-python",
   "name": "python",
   "nbconvert_exporter": "python",
   "pygments_lexer": "ipython3",
   "version": "3.8.3-final"
  },
  "orig_nbformat": 2,
  "kernelspec": {
   "name": "python3",
   "display_name": "Python 3"
  }
 },
 "nbformat": 4,
 "nbformat_minor": 2,
 "cells": [
  {
   "source": [
    "import pandas as pd\n",
    "import os\n",
    "import unittest\n",
    "import string"
   ],
   "cell_type": "code",
   "metadata": {},
   "execution_count": 2,
   "outputs": []
  },
  {
   "cell_type": "code",
   "execution_count": 3,
   "metadata": {},
   "outputs": [
    {
     "output_type": "execute_result",
     "data": {
      "text/plain": [
       "0      FFFBBFBLLR\n",
       "1      BFBBBFFRLR\n",
       "2      BFBBBBFLRR\n",
       "3      BBFBFFFLLR\n",
       "4      BBFBFBFLLL\n",
       "          ...    \n",
       "846    FBFFBBBRRL\n",
       "847    FFBFBBBRLR\n",
       "848    BBFFFFBLRR\n",
       "849    FBFFFBBRLL\n",
       "850    FFBBFBFRRR\n",
       "Name: 0, Length: 851, dtype: object"
      ]
     },
     "metadata": {},
     "execution_count": 3
    }
   ],
   "source": [
    "trainFile = \"F:/Code/AOC/2020/inputs/2020_day5_input.txt\"\n",
    "pwd = os.getcwd()\n",
    "os.chdir(os.path.dirname(trainFile))\n",
    "trainData = pd.read_csv(os.path.basename(trainFile),header=None)\n",
    "os.chdir(pwd)\n",
    "s = trainData.iloc[:,0]\n",
    "s"
   ]
  },
  {
   "cell_type": "code",
   "execution_count": 12,
   "metadata": {},
   "outputs": [],
   "source": [
    "def to_seat(input):\n",
    "    binary_input = input.replace(\"F\",\"0\").replace(\"B\",\"1\").replace(\"R\",\"1\").replace(\"L\",\"0\")\n",
    "    return int(binary_input,2)"
   ]
  },
  {
   "cell_type": "code",
   "execution_count": 10,
   "metadata": {},
   "outputs": [],
   "source": [
    "class PartOneTests(unittest.TestCase):\n",
    "    def setUp(self):\n",
    "        pass\n",
    "    def tearDown(self):\n",
    "        pass\n",
    "    def test_examples(self):\n",
    "        self.assertEqual(70, to_seat(\"BFFFBBF\"))\n",
    "        self.assertEqual(7, to_seat(\"RRR\"))\n",
    "        self.assertEqual(567, to_seat(\"BFFFBBFRRR\"))\n",
    "        self.assertEqual(14, to_seat(\"FFFBBBF\"))\n",
    "        self.assertEqual(7, to_seat(\"RRR\"))\n",
    "        self.assertEqual(119, to_seat(\"FFFBBBFRRR\"))\n",
    "        self.assertEqual(102, to_seat(\"BBFFBBF\"))\n",
    "        self.assertEqual(4, to_seat(\"RLL\"))\n",
    "        self.assertEqual(820, to_seat(\"BBFFBBFRLL\"))"
   ]
  },
  {
   "cell_type": "code",
   "execution_count": 13,
   "metadata": {},
   "outputs": [
    {
     "output_type": "stream",
     "name": "stderr",
     "text": [
      "test_examples (__main__.PartOneTests) ... ok\n",
      "\n",
      "----------------------------------------------------------------------\n",
      "Ran 1 test in 0.001s\n",
      "\n",
      "OK\n"
     ]
    },
    {
     "output_type": "execute_result",
     "data": {
      "text/plain": [
       "<unittest.main.TestProgram at 0x16fa9421cd0>"
      ]
     },
     "metadata": {},
     "execution_count": 13
    }
   ],
   "source": [
    "unittest.main(argv=[''], verbosity=3, exit=False)"
   ]
  },
  {
   "cell_type": "code",
   "execution_count": 14,
   "metadata": {},
   "outputs": [
    {
     "output_type": "execute_result",
     "data": {
      "text/plain": [
       "906"
      ]
     },
     "metadata": {},
     "execution_count": 14
    }
   ],
   "source": [
    "max(map(to_seat, s))"
   ]
  },
  {
   "cell_type": "code",
   "execution_count": 25,
   "metadata": {},
   "outputs": [
    {
     "output_type": "stream",
     "name": "stdout",
     "text": [
      "519\n"
     ]
    }
   ],
   "source": [
    "seats = list(map(to_seat, s))\n",
    "seats.sort()\n",
    "\n",
    "def my_seat(values, seatnr):\n",
    "    return ((seatnr - 1) in values) and ((seatnr + 1) in values) and not (seatnr in values)\n",
    "\n",
    "for seat in range(seats[0],seats[len(seats)-1]):\n",
    "    if my_seat(seats, seat):\n",
    "        print(seat)"
   ]
  }
 ]
}