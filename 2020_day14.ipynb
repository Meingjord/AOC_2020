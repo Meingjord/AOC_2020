{
 "metadata": {
  "language_info": {
   "codemirror_mode": {
    "name": "ipython",
    "version": 3
   },
   "file_extension": ".py",
   "mimetype": "text/x-python",
   "name": "python",
   "nbconvert_exporter": "python",
   "pygments_lexer": "ipython3",
   "version": "3.6.2-final"
  },
  "orig_nbformat": 2,
  "kernelspec": {
   "name": "python3",
   "display_name": "Python 3",
   "language": "python"
  }
 },
 "nbformat": 4,
 "nbformat_minor": 2,
 "cells": [
  {
   "source": [
    "import pandas as pd\n",
    "import os\n",
    "import unittest\n",
    "import string\n",
    "import re\n",
    "pd.set_option('display.max_rows', 10)"
   ],
   "cell_type": "code",
   "metadata": {},
   "execution_count": 1,
   "outputs": []
  },
  {
   "cell_type": "code",
   "execution_count": 2,
   "metadata": {},
   "outputs": [
    {
     "output_type": "execute_result",
     "data": {
      "text/plain": [
       "0      mask = 100110001110110011001X101110X1XX10X1\n",
       "1                             mem[62998] = 9708340\n",
       "2                           mem[33440] = 124867031\n",
       "3                                mem[6869] = 81126\n",
       "4      mask = 11110000X01010010XX10X000XX00X001010\n",
       "                          ...                     \n",
       "575                             mem[65299] = 41354\n",
       "576                               mem[42445] = 501\n",
       "577    mask = 01111X110010000X01001100X0000000001X\n",
       "578                              mem[28748] = 8402\n",
       "579                               mem[9833] = 7040\n",
       "Length: 580, dtype: object"
      ]
     },
     "metadata": {},
     "execution_count": 2
    }
   ],
   "source": [
    "trainFile = \"F:/Code/AOC/2020/inputs/2020_day14_input.txt\"\n",
    "pwd = os.getcwd()\n",
    "os.chdir(os.path.dirname(trainFile))\n",
    "file1 = open(trainFile, 'r') \n",
    "s = file1.read().splitlines()\n",
    "pd.Series(s)"
   ]
  },
  {
   "cell_type": "code",
   "execution_count": 3,
   "metadata": {},
   "outputs": [
    {
     "output_type": "execute_result",
     "data": {
      "text/plain": [
       "0    mask = XXXXXXXXXXXXXXXXXXXXXXXXXXXXX1XXXX0X\n",
       "1                                    mem[8] = 11\n",
       "2                                   mem[7] = 101\n",
       "3                                     mem[8] = 0\n",
       "dtype: object"
      ]
     },
     "metadata": {},
     "execution_count": 3
    }
   ],
   "source": [
    "trainFile = \"F:/Code/AOC/2020/inputs/2020_day14_example1.txt\"\n",
    "pwd = os.getcwd()\n",
    "os.chdir(os.path.dirname(trainFile))\n",
    "file1 = open(trainFile, 'r') \n",
    "s_ex1 = file1.read().splitlines()\n",
    "pd.Series(s_ex1)"
   ]
  },
  {
   "cell_type": "code",
   "execution_count": 4,
   "metadata": {},
   "outputs": [
    {
     "output_type": "execute_result",
     "data": {
      "text/plain": [
       "0    mask = 000000000000000000000000000000X1001X\n",
       "1                                  mem[42] = 100\n",
       "2    mask = 00000000000000000000000000000000X0XX\n",
       "3                                    mem[26] = 1\n",
       "dtype: object"
      ]
     },
     "metadata": {},
     "execution_count": 4
    }
   ],
   "source": [
    "trainFile = \"F:/Code/AOC/2020/inputs/2020_day14_example2.txt\"\n",
    "pwd = os.getcwd()\n",
    "os.chdir(os.path.dirname(trainFile))\n",
    "file2 = open(trainFile, 'r') \n",
    "s_ex2 = file2.read().splitlines()\n",
    "pd.Series(s_ex2)"
   ]
  },
  {
   "cell_type": "code",
   "execution_count": 5,
   "metadata": {},
   "outputs": [],
   "source": [
    "def combine(value, mask):    \n",
    "    result = (value | mask[1]) & ~mask[0]\n",
    "    #print(value, mask[1], mask[0], value | mask[1], (value | mask[1]) & ~mask[0])\n",
    "    return result"
   ]
  },
  {
   "cell_type": "code",
   "execution_count": 6,
   "metadata": {},
   "outputs": [],
   "source": [
    "def parseAssignment(line):\n",
    "    parts = line.split(\"=\")\n",
    "    left = parts[0][3:]\n",
    "    return (int(left.strip(\"mem[] \")), int(parts[1]))"
   ]
  },
  {
   "cell_type": "code",
   "execution_count": 7,
   "metadata": {},
   "outputs": [],
   "source": [
    "def parseMask(line):\n",
    "    text = line[7:].strip(\" \")\n",
    "    andValue = 0\n",
    "    orValue = 0\n",
    "    floatingValue = 0\n",
    "    for i in range(0,36):\n",
    "        bit = 1 << i\n",
    "        if text[36-i-1] == \"0\":\n",
    "            andValue = andValue | bit\n",
    "        elif text[36-i-1] == \"1\":\n",
    "            orValue = orValue | bit            \n",
    "        elif text[36-i-1] == \"X\":\n",
    "            floatingValue = floatingValue | bit\n",
    "    return (andValue, orValue, floatingValue)"
   ]
  },
  {
   "cell_type": "code",
   "execution_count": 8,
   "metadata": {},
   "outputs": [],
   "source": [
    "def process(input):\n",
    "    memory = {}\n",
    "    mask = 0\n",
    "    for line in input:\n",
    "        if line.startswith(\"mask\"):\n",
    "            mask = parseMask(line)\n",
    "            #print(mask)\n",
    "        elif line.startswith(\"mem\"):\n",
    "            command = parseAssignment(line)\n",
    "            #print(command)\n",
    "            memory[command[0]] = combine(command[1],mask)\n",
    "\n",
    "    #print(memory)\n",
    "    return sum(memory.values())"
   ]
  },
  {
   "cell_type": "code",
   "execution_count": 9,
   "metadata": {},
   "outputs": [
    {
     "output_type": "execute_result",
     "data": {
      "text/plain": [
       "165"
      ]
     },
     "metadata": {},
     "execution_count": 9
    }
   ],
   "source": [
    "process(s_ex1)"
   ]
  },
  {
   "cell_type": "code",
   "execution_count": 10,
   "metadata": {},
   "outputs": [
    {
     "output_type": "execute_result",
     "data": {
      "text/plain": [
       "14839536808842"
      ]
     },
     "metadata": {},
     "execution_count": 10
    }
   ],
   "source": [
    "process(s)"
   ]
  },
  {
   "cell_type": "code",
   "execution_count": 11,
   "metadata": {},
   "outputs": [],
   "source": [
    "def expand(values, bit):\n",
    "    result = []\n",
    "    for v in values:\n",
    "        result.append(v)\n",
    "        result.append(v | bit)\n",
    "    return result\n",
    "\n",
    "def createFloatingCombinations(floatingValue):\n",
    "    result = [0]\n",
    "    for i in range(0,36):\n",
    "        bit = 1 << i\n",
    "        if bit & floatingValue != 0:\n",
    "            result = expand(result[:],bit)\n",
    "    return result"
   ]
  },
  {
   "cell_type": "code",
   "execution_count": 12,
   "metadata": {},
   "outputs": [],
   "source": [
    "def createAddressList(baseAddress, mask):\n",
    "    #print(baseAddress, mask)\n",
    "    result = []\n",
    "    andValue = mask[0]\n",
    "    orValue = mask[1]\n",
    "    floatingValue = mask[2]\n",
    "    combinations = createFloatingCombinations(floatingValue)\n",
    "    for c in combinations:\n",
    "        address = ((baseAddress | orValue)  & ~floatingValue) | c\n",
    "        result.append(address)\n",
    "    return result"
   ]
  },
  {
   "cell_type": "code",
   "execution_count": 13,
   "metadata": {},
   "outputs": [],
   "source": [
    "def processPartTwo(input):\n",
    "    memory = {}\n",
    "    mask = 0\n",
    "    for line in input:\n",
    "        if line.startswith(\"mask\"):\n",
    "            mask = parseMask(line)\n",
    "        elif line.startswith(\"mem\"):\n",
    "            command = parseAssignment(line)\n",
    "            \n",
    "            addresses = createAddressList(command[0], mask)\n",
    "            for a in addresses:\n",
    "                memory[a] = command[1]\n",
    "\n",
    "            #print(memory)\n",
    "    return sum(memory.values())"
   ]
  },
  {
   "cell_type": "code",
   "execution_count": 14,
   "metadata": {},
   "outputs": [
    {
     "output_type": "execute_result",
     "data": {
      "text/plain": [
       "[0, 4, 1, 5]"
      ]
     },
     "metadata": {},
     "execution_count": 14
    }
   ],
   "source": [
    "createFloatingCombinations(5)"
   ]
  },
  {
   "cell_type": "code",
   "execution_count": 15,
   "metadata": {},
   "outputs": [
    {
     "output_type": "execute_result",
     "data": {
      "text/plain": [
       "208"
      ]
     },
     "metadata": {},
     "execution_count": 15
    }
   ],
   "source": [
    "processPartTwo(s_ex2)"
   ]
  },
  {
   "cell_type": "code",
   "execution_count": 16,
   "metadata": {},
   "outputs": [
    {
     "output_type": "execute_result",
     "data": {
      "text/plain": [
       "4215284199669"
      ]
     },
     "metadata": {},
     "execution_count": 16
    }
   ],
   "source": [
    "processPartTwo(s)"
   ]
  }
 ]
}