{
 "metadata": {
  "language_info": {
   "codemirror_mode": {
    "name": "ipython",
    "version": 3
   },
   "file_extension": ".py",
   "mimetype": "text/x-python",
   "name": "python",
   "nbconvert_exporter": "python",
   "pygments_lexer": "ipython3",
   "version": "3.6.2-final"
  },
  "orig_nbformat": 2,
  "kernelspec": {
   "name": "python3",
   "display_name": "Python 3",
   "language": "python"
  }
 },
 "nbformat": 4,
 "nbformat_minor": 2,
 "cells": [
  {
   "source": [
    "import pandas as pd\n",
    "import os\n",
    "import unittest\n",
    "import string\n",
    "import re\n",
    "pd.set_option('display.max_rows', 10)"
   ],
   "cell_type": "code",
   "metadata": {},
   "execution_count": 1,
   "outputs": []
  },
  {
   "cell_type": "code",
   "execution_count": 2,
   "metadata": {},
   "outputs": [
    {
     "output_type": "execute_result",
     "data": {
      "text/plain": [
       "0     LLLLL.LLLLLLL.LLLLLL.L.LLLL..LLLL.LLLLLLLLL.LL...\n",
       "1     LLLLLLLLLLLLLLL.LLLL..LLLLLLLLLLLL.LLLLLLLL.L....\n",
       "2     LLLLL.LLLLLLLLLLLLLLLLLLLLL.LLLLLL.LLLLLLLLLLL...\n",
       "3     LLLLL.LLLLLLLLL.LLLL.LLLLLL.LLLLLL.LLLLLLLL.LL...\n",
       "4     LLLLLLLLLLLLLLL.LLLLLLLLLLLLLLLLLL.LLLLLLLL.LL...\n",
       "                            ...                        \n",
       "93    LLL.L.LLLLLLLLL.LLLL.L.LLLLLLLLLLL.LLLLLLLLLLL...\n",
       "94    LLLLL.LLLLLLLLL.LLLL.LLLLLLLLLLLLLLLLLLLLLL.LL...\n",
       "95    LLLLL.LLLLLLLLL.LLLL.LLLLLL.LLLLLL.LLLLLLLL.LL...\n",
       "96    LLLLL.LLLLLLLLLLLLLL.L.LLLL.LLLL.L.LLLLLLLL.LL...\n",
       "97    LLLLLLLLLLLLLLLLLLLLLLLLLLLLLLLLLL.LLLLLLLLLLL...\n",
       "Length: 98, dtype: object"
      ]
     },
     "metadata": {},
     "execution_count": 2
    }
   ],
   "source": [
    "trainFile = \"F:/Code/AOC/2020/inputs/2020_day11_input.txt\"\n",
    "pwd = os.getcwd()\n",
    "os.chdir(os.path.dirname(trainFile))\n",
    "file1 = open(trainFile, 'r') \n",
    "s = file1.read().splitlines()\n",
    "pd.Series(s)"
   ]
  },
  {
   "cell_type": "code",
   "execution_count": 3,
   "metadata": {},
   "outputs": [
    {
     "output_type": "execute_result",
     "data": {
      "text/plain": [
       "0    L.LL.LL.LL\n",
       "1    LLLLLLL.LL\n",
       "2    L.L.L..L..\n",
       "3    LLLL.LL.LL\n",
       "4    L.LL.LL.LL\n",
       "5    L.LLLLL.LL\n",
       "6    ..L.L.....\n",
       "7    LLLLLLLLLL\n",
       "8    L.LLLLLL.L\n",
       "9    L.LLLLL.LL\n",
       "dtype: object"
      ]
     },
     "metadata": {},
     "execution_count": 3
    }
   ],
   "source": [
    "trainFile = \"F:/Code/AOC/2020/inputs/2020_day11_example1.txt\"\n",
    "pwd = os.getcwd()\n",
    "os.chdir(os.path.dirname(trainFile))\n",
    "file1 = open(trainFile, 'r') \n",
    "s_ex1 = file1.read().splitlines()\n",
    "pd.Series(s_ex1)"
   ]
  },
  {
   "cell_type": "code",
   "execution_count": 4,
   "metadata": {},
   "outputs": [],
   "source": [
    "def countNeighbors_v1(input, r, c):\n",
    "    total = 0\n",
    "    if r>0:        \n",
    "        if c>0:\n",
    "            if input[r-1][c-1] == \"#\":\n",
    "                total += 1\n",
    "        if input[r-1][c] == \"#\":\n",
    "            total += 1\n",
    "        if c<len(input[0])-1:\n",
    "            if input[r-1][c+1] == \"#\":\n",
    "                total += 1\n",
    "    if True:\n",
    "        if c>0:\n",
    "            if input[r][c-1] == \"#\":\n",
    "                total += 1\n",
    "        if input[r][c] == \"#\":\n",
    "            pass # Don't count self\n",
    "        if c<len(input[0])-1:\n",
    "            if input[r][c+1] == \"#\":\n",
    "                total += 1\n",
    "    if r<len(input)-1:\n",
    "        if c>0:\n",
    "            if input[r+1][c-1] == \"#\":\n",
    "                total += 1\n",
    "        if input[r+1][c] == \"#\":\n",
    "            total += 1\n",
    "        if c<len(input[0])-1:\n",
    "            if input[r+1][c+1] == \"#\":\n",
    "                total += 1                                \n",
    "    return total"
   ]
  },
  {
   "cell_type": "code",
   "execution_count": 5,
   "metadata": {},
   "outputs": [],
   "source": [
    "def countNeighbors(input, r, c):\n",
    "    total = 0\n",
    "    for i in range(r-1, r+2):\n",
    "        for j in range(c-1, c+2):\n",
    "            if i >= 0 and i < len(input) and j >= 0 and j < len(input[0]) and not (i==r and j == c):\n",
    "                if input[i][j] == \"#\":\n",
    "                    total += 1\n",
    "    return total"
   ]
  },
  {
   "cell_type": "code",
   "execution_count": 6,
   "metadata": {},
   "outputs": [],
   "source": [
    "def advanceCell(input, r, c):\n",
    "    currentValue = input[r][c]\n",
    "    if currentValue == \".\":\n",
    "        return currentValue\n",
    "    if currentValue == \"L\":\n",
    "        n = countNeighbors(input, r, c)\n",
    "        if n > 0:\n",
    "            return \"L\"\n",
    "        else:\n",
    "            return \"#\"\n",
    "    if currentValue == \"#\":\n",
    "        n = countNeighbors(input, r, c)\n",
    "        if n >= 4:\n",
    "            return \"L\"\n",
    "        else:\n",
    "            return \"#\"            \n",
    "    return \"?\""
   ]
  },
  {
   "cell_type": "code",
   "execution_count": 7,
   "metadata": {},
   "outputs": [],
   "source": [
    "def advance(input):\n",
    "    result = input[:]\n",
    "    changes = 0\n",
    "    for r in range(0,len(input)):\n",
    "        for c in range(0,len(input[0])):\n",
    "            oldValue = input[r][c]\n",
    "            newValue = advanceCell(input, r, c)\n",
    "            #print( r, c, countNeighbors(input, r, c), oldValue, newValue)\n",
    "            if newValue != oldValue:\n",
    "                oldResultRow = result[r]\n",
    "                result[r] =  oldResultRow[:c] + newValue + oldResultRow[c + 1:]\n",
    "                changes += 1\n",
    "    occupied = 0\n",
    "    for row in result:\n",
    "        occupied += row.count(\"#\")\n",
    "    return (result, changes,occupied)"
   ]
  },
  {
   "cell_type": "code",
   "execution_count": 8,
   "metadata": {},
   "outputs": [],
   "source": [
    "def test_advance(input, printAll):\n",
    "    current = input[:]\n",
    "    done = False\n",
    "    while not done:\n",
    "        next = advance(current)\n",
    "        if printAll:\n",
    "            print(next)\n",
    "        else:\n",
    "            print(next[1:])\n",
    "        current = next[0]\n",
    "        done = next[1] == 0\n",
    "    return next[2]"
   ]
  },
  {
   "cell_type": "code",
   "execution_count": 9,
   "metadata": {},
   "outputs": [],
   "source": [
    "def advance_steps(input, n):\n",
    "    current = input[:]\n",
    "    done = False\n",
    "    for i in range(0,n):\n",
    "        next = advance(current)\n",
    "        current = next[0]\n",
    "    return current"
   ]
  },
  {
   "cell_type": "code",
   "execution_count": 10,
   "metadata": {},
   "outputs": [
    {
     "output_type": "stream",
     "name": "stdout",
     "text": [
      "(['#.##.##.##', '#######.##', '#.#.#..#..', '####.##.##', '#.##.##.##', '#.#####.##', '..#.#.....', '##########', '#.######.#', '#.#####.##'], 71, 71)\n(['#.LL.L#.##', '#LLLLLL.L#', 'L.L.L..L..', '#LLL.LL.L#', '#.LL.LL.LL', '#.LLLL#.##', '..L.L.....', '#LLLLLLLL#', '#.LLLLLL.L', '#.#LLLL.##'], 51, 20)\n(['#.##.L#.##', '#L###LL.L#', 'L.#.#..#..', '#L##.##.L#', '#.##.LL.LL', '#.###L#.##', '..#.#.....', '#L######L#', '#.LL###L.L', '#.#L###.##'], 31, 51)\n(['#.#L.L#.##', '#LLL#LL.L#', 'L.L.L..#..', '#LLL.##.L#', '#.LL.LL.LL', '#.LL#L#.##', '..L.L.....', '#L#LLLL#L#', '#.LLLLLL.L', '#.#L#L#.##'], 21, 30)\n(['#.#L.L#.##', '#LLL#LL.L#', 'L.#.L..#..', '#L##.##.L#', '#.#L.LL.LL', '#.#L#L#.##', '..L.L.....', '#L#L##L#L#', '#.LLLLLL.L', '#.#L#L#.##'], 7, 37)\n(['#.#L.L#.##', '#LLL#LL.L#', 'L.#.L..#..', '#L##.##.L#', '#.#L.LL.LL', '#.#L#L#.##', '..L.L.....', '#L#L##L#L#', '#.LLLLLL.L', '#.#L#L#.##'], 0, 37)\n"
     ]
    },
    {
     "output_type": "execute_result",
     "data": {
      "text/plain": [
       "37"
      ]
     },
     "metadata": {},
     "execution_count": 10
    }
   ],
   "source": [
    "test_advance(s_ex1, True)"
   ]
  },
  {
   "cell_type": "code",
   "execution_count": 11,
   "metadata": {
    "tags": []
   },
   "outputs": [
    {
     "output_type": "stream",
     "name": "stdout",
     "text": [
      "(7195, 7195)\n",
      "(7031, 164)\n",
      "(6576, 6740)\n",
      "(6397, 343)\n",
      "(5934, 6277)\n",
      "(5771, 506)\n",
      "(5389, 5895)\n",
      "(5250, 645)\n",
      "(4952, 5597)\n",
      "(4825, 772)\n",
      "(4549, 5321)\n",
      "(4422, 899)\n",
      "(4153, 5052)\n",
      "(4024, 1028)\n",
      "(3748, 4776)\n",
      "(3617, 1159)\n",
      "(3365, 4524)\n",
      "(3251, 1273)\n",
      "(3020, 4293)\n",
      "(2925, 1368)\n",
      "(2751, 4119)\n",
      "(2668, 1451)\n",
      "(2509, 3960)\n",
      "(2437, 1523)\n",
      "(2312, 3835)\n",
      "(2245, 1590)\n",
      "(2139, 3729)\n",
      "(2088, 1641)\n",
      "(1977, 3618)\n",
      "(1932, 1686)\n",
      "(1842, 3528)\n",
      "(1800, 1728)\n",
      "(1715, 3443)\n",
      "(1680, 1763)\n",
      "(1603, 3366)\n",
      "(1565, 1801)\n",
      "(1492, 3293)\n",
      "(1454, 1839)\n",
      "(1389, 3228)\n",
      "(1356, 1872)\n",
      "(1292, 3164)\n",
      "(1268, 1896)\n",
      "(1223, 3119)\n",
      "(1200, 1919)\n",
      "(1162, 3081)\n",
      "(1143, 1938)\n",
      "(1105, 3043)\n",
      "(1082, 1961)\n",
      "(1036, 2997)\n",
      "(1016, 1981)\n",
      "(968, 2949)\n",
      "(943, 2006)\n",
      "(884, 2890)\n",
      "(861, 2029)\n",
      "(799, 2828)\n",
      "(777, 2051)\n",
      "(723, 2774)\n",
      "(698, 2076)\n",
      "(639, 2715)\n",
      "(613, 2102)\n",
      "(556, 2658)\n",
      "(535, 2123)\n",
      "(493, 2616)\n",
      "(464, 2152)\n",
      "(408, 2560)\n",
      "(382, 2178)\n",
      "(339, 2517)\n",
      "(318, 2199)\n",
      "(283, 2482)\n",
      "(267, 2215)\n",
      "(242, 2457)\n",
      "(233, 2224)\n",
      "(211, 2435)\n",
      "(203, 2232)\n",
      "(189, 2421)\n",
      "(179, 2242)\n",
      "(159, 2401)\n",
      "(152, 2249)\n",
      "(143, 2392)\n",
      "(139, 2253)\n",
      "(127, 2380)\n",
      "(122, 2258)\n",
      "(112, 2370)\n",
      "(108, 2262)\n",
      "(105, 2367)\n",
      "(103, 2264)\n",
      "(97, 2361)\n",
      "(94, 2267)\n",
      "(86, 2353)\n",
      "(83, 2270)\n",
      "(75, 2345)\n",
      "(69, 2276)\n",
      "(60, 2336)\n",
      "(56, 2280)\n",
      "(48, 2328)\n",
      "(44, 2284)\n",
      "(37, 2321)\n",
      "(33, 2288)\n",
      "(26, 2314)\n",
      "(22, 2292)\n",
      "(15, 2307)\n",
      "(12, 2295)\n",
      "(6, 2301)\n",
      "(2, 2299)\n",
      "(0, 2299)\n"
     ]
    },
    {
     "output_type": "execute_result",
     "data": {
      "text/plain": [
       "2299"
      ]
     },
     "metadata": {},
     "execution_count": 11
    }
   ],
   "source": [
    "test_advance(s, False)"
   ]
  },
  {
   "cell_type": "code",
   "execution_count": 12,
   "metadata": {},
   "outputs": [],
   "source": [
    "class PartOneTests(unittest.TestCase):\n",
    "    def setUp(self):\n",
    "        pass\n",
    "    def tearDown(self):\n",
    "        pass\n",
    "    def test_countNeighbors(self):\n",
    "        self.assertEqual(8,countNeighbors(['###', '###', '###'],1,1))\n",
    "        self.assertEqual(8,countNeighbors(['###', '#L#', '###'],1,1))\n",
    "        self.assertEqual(5,countNeighbors(['###', '###', '###'],0,1))\n",
    "        self.assertEqual(5,countNeighbors(['###', '###', '###'],2,1))\n",
    "        self.assertEqual(5,countNeighbors(['###', '###', '###'],1,0))\n",
    "        self.assertEqual(5,countNeighbors(['###', '###', '###'],1,2))\n",
    "        self.assertEqual(3,countNeighbors(['###', '###', '###'],0,0))\n",
    "        self.assertEqual(3,countNeighbors(['###', '###', '###'],0,2))\n",
    "        self.assertEqual(3,countNeighbors(['###', '###', '###'],2,0))\n",
    "        self.assertEqual(3,countNeighbors(['###', '###', '###'],2,2))\n",
    "    def test_example(self):\n",
    "        self.assertEqual(\"#.##.##.#########.###.#.#..#..####.##.###.##.##.###.#####.##..#.#.....###########.######.##.#####.##\", \"\".join(advance_steps(s_ex1,1)))\n",
    "        self.assertEqual(\"#.LL.L#.###LLLLLL.L#L.L.L..L..#LLL.LL.L##.LL.LL.LL#.LLLL#.##..L.L.....#LLLLLLLL##.LLLLLL.L#.#LLLL.##\", \"\".join(advance_steps(s_ex1,2)))\n",
    "        self.assertEqual(\"#.##.L#.###L###LL.L#L.#.#..#..#L##.##.L##.##.LL.LL#.###L#.##..#.#.....#L######L##.LL###L.L#.#L###.##\", \"\".join(advance_steps(s_ex1,3)))\n",
    "        self.assertEqual(\"#.#L.L#.###LLL#LL.L#L.L.L..#..#LLL.##.L##.LL.LL.LL#.LL#L#.##..L.L.....#L#LLLL#L##.LLLLLL.L#.#L#L#.##\", \"\".join(advance_steps(s_ex1,4)))\n",
    "        self.assertEqual(\"#.#L.L#.###LLL#LL.L#L.#.L..#..#L##.##.L##.#L.LL.LL#.#L#L#.##..L.L.....#L#L##L#L##.LLLLLL.L#.#L#L#.##\", \"\".join(advance_steps(s_ex1,5)))"
   ]
  },
  {
   "cell_type": "code",
   "execution_count": 13,
   "metadata": {},
   "outputs": [
    {
     "output_type": "stream",
     "name": "stderr",
     "text": [
      "test_countNeighbors (__main__.PartOneTests) ... ok\n",
      "test_example (__main__.PartOneTests) ... ok\n",
      "\n",
      "----------------------------------------------------------------------\n",
      "Ran 2 tests in 0.008s\n",
      "\n",
      "OK\n"
     ]
    },
    {
     "output_type": "execute_result",
     "data": {
      "text/plain": [
       "<unittest.main.TestProgram at 0x216f3d1eef0>"
      ]
     },
     "metadata": {},
     "execution_count": 13
    }
   ],
   "source": [
    "unittest.main(argv=[''], verbosity=3, exit=False)"
   ]
  },
  {
   "cell_type": "code",
   "execution_count": 14,
   "metadata": {},
   "outputs": [],
   "source": [
    "def seesOccupiedChair(input, r, c, dr, dc):\n",
    "    if dc == 0 and dr == 0:\n",
    "        return False\n",
    "    i = r\n",
    "    j = c\n",
    "    while True:\n",
    "        i += dr\n",
    "        j += dc\n",
    "        if i < 0 or i >= len(input) or j < 0 or j >= len(input[0]):\n",
    "            return False\n",
    "        if input[i][j] == \"#\":\n",
    "            return True\n",
    "        if input[i][j] == \"L\":\n",
    "            return False\n",
    "\n",
    "def countOccupiedChairs(input, r, c):\n",
    "    total = 0\n",
    "    for dr in range(-1, 2):\n",
    "        for dc in range(-1, 2):\n",
    "            if seesOccupiedChair(input, r, c, dr, dc):\n",
    "                total += 1\n",
    "    return total"
   ]
  },
  {
   "cell_type": "code",
   "execution_count": 15,
   "metadata": {},
   "outputs": [],
   "source": [
    "def advanceCell_with_scan(input, r, c):\n",
    "    currentValue = input[r][c]\n",
    "    if currentValue == \".\":\n",
    "        return currentValue\n",
    "    if currentValue == \"L\":\n",
    "        n = countOccupiedChairs(input, r, c)\n",
    "        if n > 0:\n",
    "            return \"L\"\n",
    "        else:\n",
    "            return \"#\"\n",
    "    if currentValue == \"#\":\n",
    "        n = countOccupiedChairs(input, r, c)\n",
    "        if n >= 5:\n",
    "            return \"L\"\n",
    "        else:\n",
    "            return \"#\"            \n",
    "    return \"?\""
   ]
  },
  {
   "cell_type": "code",
   "execution_count": 16,
   "metadata": {},
   "outputs": [],
   "source": [
    "def advance_with_scan(input):\n",
    "    result = input[:]\n",
    "    changes = 0\n",
    "    for r in range(0,len(input)):\n",
    "        for c in range(0,len(input[0])):\n",
    "            oldValue = input[r][c]\n",
    "            newValue = advanceCell_with_scan(input, r, c)\n",
    "            if newValue != oldValue:\n",
    "                oldResultRow = result[r]\n",
    "                result[r] =  oldResultRow[:c] + newValue + oldResultRow[c + 1:]\n",
    "                changes += 1\n",
    "    occupied = 0\n",
    "    for row in result:\n",
    "        occupied += row.count(\"#\")\n",
    "    return (result, changes,occupied)"
   ]
  },
  {
   "cell_type": "code",
   "execution_count": 17,
   "metadata": {},
   "outputs": [],
   "source": [
    "def test_advance_with_scan(input, printAll):\n",
    "    current = input[:]\n",
    "    done = False\n",
    "    while not done:\n",
    "        next = advance_with_scan(current)\n",
    "        if printAll:\n",
    "            for r in next[0]:\n",
    "                print(r)\n",
    "            print(\"\")\n",
    "            print(next)\n",
    "        else:\n",
    "            print(next[1:])\n",
    "        current = next[0]\n",
    "        done = next[1] == 0\n",
    "    return next[2]"
   ]
  },
  {
   "cell_type": "code",
   "execution_count": 18,
   "metadata": {},
   "outputs": [
    {
     "output_type": "stream",
     "name": "stdout",
     "text": [
      "#.##.##.##\n#######.##\n#.#.#..#..\n####.##.##\n#.##.##.##\n#.#####.##\n..#.#.....\n##########\n#.######.#\n#.#####.##\n\n(['#.##.##.##', '#######.##', '#.#.#..#..', '####.##.##', '#.##.##.##', '#.#####.##', '..#.#.....', '##########', '#.######.#', '#.#####.##'], 71, 71)\n#.LL.LL.L#\n#LLLLLL.LL\nL.L.L..L..\nLLLL.LL.LL\nL.LL.LL.LL\nL.LLLLL.LL\n..L.L.....\nLLLLLLLLL#\n#.LLLLLL.L\n#.LLLLL.L#\n\n(['#.LL.LL.L#', '#LLLLLL.LL', 'L.L.L..L..', 'LLLL.LL.LL', 'L.LL.LL.LL', 'L.LLLLL.LL', '..L.L.....', 'LLLLLLLLL#', '#.LLLLLL.L', '#.LLLLL.L#'], 64, 7)\n#.L#.##.L#\n#L#####.LL\nL.#.#..#..\n##L#.##.##\n#.##.#L.##\n#.#####.#L\n..#.#.....\nLLL####LL#\n#.L#####.L\n#.L####.L#\n\n(['#.L#.##.L#', '#L#####.LL', 'L.#.#..#..', '##L#.##.##', '#.##.#L.##', '#.#####.#L', '..#.#.....', 'LLL####LL#', '#.L#####.L', '#.L####.L#'], 46, 53)\n#.L#.L#.L#\n#LLLLLL.LL\nL.L.L..#..\n##LL.LL.L#\nL.LL.LL.L#\n#.LLLLL.LL\n..L.L.....\nLLLLLLLLL#\n#.LLLLL#.L\n#.L#LL#.L#\n\n(['#.L#.L#.L#', '#LLLLLL.LL', 'L.L.L..#..', '##LL.LL.L#', 'L.LL.LL.L#', '#.LLLLL.LL', '..L.L.....', 'LLLLLLLLL#', '#.LLLLL#.L', '#.L#LL#.L#'], 35, 18)\n#.L#.L#.L#\n#LLLLLL.LL\nL.L.L..#..\n##L#.#L.L#\nL.L#.#L.L#\n#.L####.LL\n..#.#.....\nLLL###LLL#\n#.LLLLL#.L\n#.L#LL#.L#\n\n(['#.L#.L#.L#', '#LLLLLL.LL', 'L.L.L..#..', '##L#.#L.L#', 'L.L#.#L.L#', '#.L####.LL', '..#.#.....', 'LLL###LLL#', '#.LLLLL#.L', '#.L#LL#.L#'], 13, 31)\n#.L#.L#.L#\n#LLLLLL.LL\nL.L.L..#..\n##L#.#L.L#\nL.L#.LL.L#\n#.LLLL#.LL\n..#.L.....\nLLL###LLL#\n#.LLLLL#.L\n#.L#LL#.L#\n\n(['#.L#.L#.L#', '#LLLLLL.LL', 'L.L.L..#..', '##L#.#L.L#', 'L.L#.LL.L#', '#.LLLL#.LL', '..#.L.....', 'LLL###LLL#', '#.LLLLL#.L', '#.L#LL#.L#'], 5, 26)\n#.L#.L#.L#\n#LLLLLL.LL\nL.L.L..#..\n##L#.#L.L#\nL.L#.LL.L#\n#.LLLL#.LL\n..#.L.....\nLLL###LLL#\n#.LLLLL#.L\n#.L#LL#.L#\n\n(['#.L#.L#.L#', '#LLLLLL.LL', 'L.L.L..#..', '##L#.#L.L#', 'L.L#.LL.L#', '#.LLLL#.LL', '..#.L.....', 'LLL###LLL#', '#.LLLLL#.L', '#.L#LL#.L#'], 0, 26)\n"
     ]
    },
    {
     "output_type": "execute_result",
     "data": {
      "text/plain": [
       "26"
      ]
     },
     "metadata": {},
     "execution_count": 18
    }
   ],
   "source": [
    "test_advance_with_scan(s_ex1, True)"
   ]
  },
  {
   "cell_type": "code",
   "execution_count": 19,
   "metadata": {},
   "outputs": [],
   "source": [
    "def advance_with_scan_steps(input, n):\n",
    "    current = input[:]\n",
    "    done = False\n",
    "    for i in range(0,n):\n",
    "        next = advance_with_scan(current)\n",
    "        current = next[0]\n",
    "    return current"
   ]
  },
  {
   "cell_type": "code",
   "execution_count": 20,
   "metadata": {},
   "outputs": [],
   "source": [
    "class PartTwoTests(unittest.TestCase):\n",
    "    def setUp(self):\n",
    "        pass\n",
    "    def tearDown(self):\n",
    "        pass\n",
    "    def test_scan(self):\n",
    "        self.assertEqual(5,countOccupiedChairs([\"#.##.##.##\",\"#######.##\",\"#.#.#..#..\",\"####.##.##\",\"#.##.##.##\",\"#.#####.##\",\"..#.#.....\",\"##########\",\"#.######.#\",\"#.#####.##\"],0,6))\n",
    "    def test_example(self):\n",
    "        self.assertEqual(\"#.##.##.#########.###.#.#..#..####.##.###.##.##.###.#####.##..#.#.....###########.######.##.#####.##\", \"\".join(advance_with_scan_steps(s_ex1,1)))\n",
    "        self.assertEqual(\"#.LL.LL.L##LLLLLL.LLL.L.L..L..LLLL.LL.LLL.LL.LL.LLL.LLLLL.LL..L.L.....LLLLLLLLL##.LLLLLL.L#.LLLLL.L#\", \"\".join(advance_with_scan_steps(s_ex1,2)))\n",
    "        self.assertEqual(\"#.L#.##.L##L#####.LLL.#.#..#..##L#.##.###.##.#L.###.#####.#L..#.#.....LLL####LL##.L#####.L#.L####.L#\", \"\".join(advance_with_scan_steps(s_ex1,3)))\n",
    "        #self.assertEqual(\"#.#L.L#.###LLL#LL.L#L.L.L..#..#LLL.##.L##.LL.LL.LL#.LL#L#.##..L.L.....#L#LLLL#L##.LLLLLL.L#.#L#L#.##\", \"\".join(advance_with_scan_steps(s_ex1,4)))\n",
    "        #self.assertEqual(\"#.#L.L#.###LLL#LL.L#L.#.L..#..#L##.##.L##.#L.LL.LL#.#L#L#.##..L.L.....#L#L##L#L##.LLLLLL.L#.#L#L#.##\", \"\".join(advance_with_scan_steps(s_ex1,5)))"
   ]
  },
  {
   "cell_type": "code",
   "execution_count": 21,
   "metadata": {},
   "outputs": [
    {
     "output_type": "stream",
     "name": "stderr",
     "text": [
      "test_countNeighbors (__main__.PartOneTests) ... ok\n",
      "test_example (__main__.PartOneTests) ... ok\n",
      "test_example (__main__.PartTwoTests) ... ok\n",
      "test_scan (__main__.PartTwoTests) ... ok\n",
      "\n",
      "----------------------------------------------------------------------\n",
      "Ran 4 tests in 0.014s\n",
      "\n",
      "OK\n"
     ]
    },
    {
     "output_type": "execute_result",
     "data": {
      "text/plain": [
       "<unittest.main.TestProgram at 0x216f3d0a588>"
      ]
     },
     "metadata": {},
     "execution_count": 21
    }
   ],
   "source": [
    "unittest.main(argv=[''], verbosity=3, exit=False)"
   ]
  },
  {
   "cell_type": "code",
   "execution_count": 22,
   "metadata": {},
   "outputs": [],
   "source": [
    "def printOccupiedChairs(input):\n",
    "    for r in range(0,len(input)):\n",
    "        text = \"\"\n",
    "        for c in range(0,len(input[0])):\n",
    "            cell = input[r][c]\n",
    "            if cell == \"#\":\n",
    "               text = text + str(countOccupiedChairs(input, r, c))\n",
    "            elif cell == \"L\":\n",
    "                text = text + str(countOccupiedChairs(input, r, c))\n",
    "            else:\n",
    "                text = text + cell\n",
    "        print(text)"
   ]
  },
  {
   "cell_type": "code",
   "execution_count": 23,
   "metadata": {},
   "outputs": [
    {
     "output_type": "stream",
     "name": "stdout",
     "text": [
      "3.55.55.53\n4777777.65\n5.8.8..6..\n5888.88.75\n5.78.88.85\n5.88888.75\n..7.7.....\n5688888874\n4.788877.5\n3.55555.53\n"
     ]
    }
   ],
   "source": [
    "printOccupiedChairs([\"#.##.##.##\",\"#######.##\",\"#.#.#..#..\",\"####.##.##\",\"#.##.##.##\",\"#.#####.##\",\"..#.#.....\",\"##########\",\"#.######.#\",\"#.#####.##\"])"
   ]
  },
  {
   "cell_type": "code",
   "execution_count": 24,
   "metadata": {},
   "outputs": [
    {
     "output_type": "stream",
     "name": "stdout",
     "text": [
      "1.10.00.10\n1200000.11\n1.0.0..0..\n0010.00.00\n0.00.01.00\n0.00000.01\n..0.0.....\n1110000110\n1.100000.2\n1.10000.10\n"
     ]
    }
   ],
   "source": [
    "printOccupiedChairs(['#.LL.LL.L#', '#LLLLLL.LL', 'L.L.L..L..', 'LLLL.LL.LL', 'L.LL.LL.LL', 'L.LLLLL.LL', '..L.L.....', 'LLLLLLLLL#', '#.LLLLLL.L', '#.LLLLL.L#'])"
   ]
  },
  {
   "cell_type": "code",
   "execution_count": 25,
   "metadata": {},
   "outputs": [
    {
     "output_type": "stream",
     "name": "stdout",
     "text": [
      "#.##.##.##\n#######.##\n#.#.#..#..\n####.##.##\n#.##.##.##\n#.#####.##\n..#.#.....\n##########\n#.######.#\n#.#####.##\n\n(['#.##.##.##', '#######.##', '#.#.#..#..', '####.##.##', '#.##.##.##', '#.#####.##', '..#.#.....', '##########', '#.######.#', '#.#####.##'], 71, 71)\n#.LL.LL.L#\n#LLLLLL.LL\nL.L.L..L..\nLLLL.LL.LL\nL.LL.LL.LL\nL.LLLLL.LL\n..L.L.....\nLLLLLLLLL#\n#.LLLLLL.L\n#.LLLLL.L#\n\n(['#.LL.LL.L#', '#LLLLLL.LL', 'L.L.L..L..', 'LLLL.LL.LL', 'L.LL.LL.LL', 'L.LLLLL.LL', '..L.L.....', 'LLLLLLLLL#', '#.LLLLLL.L', '#.LLLLL.L#'], 64, 7)\n#.L#.##.L#\n#L#####.LL\nL.#.#..#..\n##L#.##.##\n#.##.#L.##\n#.#####.#L\n..#.#.....\nLLL####LL#\n#.L#####.L\n#.L####.L#\n\n(['#.L#.##.L#', '#L#####.LL', 'L.#.#..#..', '##L#.##.##', '#.##.#L.##', '#.#####.#L', '..#.#.....', 'LLL####LL#', '#.L#####.L', '#.L####.L#'], 46, 53)\n#.L#.L#.L#\n#LLLLLL.LL\nL.L.L..#..\n##LL.LL.L#\nL.LL.LL.L#\n#.LLLLL.LL\n..L.L.....\nLLLLLLLLL#\n#.LLLLL#.L\n#.L#LL#.L#\n\n(['#.L#.L#.L#', '#LLLLLL.LL', 'L.L.L..#..', '##LL.LL.L#', 'L.LL.LL.L#', '#.LLLLL.LL', '..L.L.....', 'LLLLLLLLL#', '#.LLLLL#.L', '#.L#LL#.L#'], 35, 18)\n#.L#.L#.L#\n#LLLLLL.LL\nL.L.L..#..\n##L#.#L.L#\nL.L#.#L.L#\n#.L####.LL\n..#.#.....\nLLL###LLL#\n#.LLLLL#.L\n#.L#LL#.L#\n\n(['#.L#.L#.L#', '#LLLLLL.LL', 'L.L.L..#..', '##L#.#L.L#', 'L.L#.#L.L#', '#.L####.LL', '..#.#.....', 'LLL###LLL#', '#.LLLLL#.L', '#.L#LL#.L#'], 13, 31)\n#.L#.L#.L#\n#LLLLLL.LL\nL.L.L..#..\n##L#.#L.L#\nL.L#.LL.L#\n#.LLLL#.LL\n..#.L.....\nLLL###LLL#\n#.LLLLL#.L\n#.L#LL#.L#\n\n(['#.L#.L#.L#', '#LLLLLL.LL', 'L.L.L..#..', '##L#.#L.L#', 'L.L#.LL.L#', '#.LLLL#.LL', '..#.L.....', 'LLL###LLL#', '#.LLLLL#.L', '#.L#LL#.L#'], 5, 26)\n#.L#.L#.L#\n#LLLLLL.LL\nL.L.L..#..\n##L#.#L.L#\nL.L#.LL.L#\n#.LLLL#.LL\n..#.L.....\nLLL###LLL#\n#.LLLLL#.L\n#.L#LL#.L#\n\n(['#.L#.L#.L#', '#LLLLLL.LL', 'L.L.L..#..', '##L#.#L.L#', 'L.L#.LL.L#', '#.LLLL#.LL', '..#.L.....', 'LLL###LLL#', '#.LLLLL#.L', '#.L#LL#.L#'], 0, 26)\n"
     ]
    },
    {
     "output_type": "execute_result",
     "data": {
      "text/plain": [
       "26"
      ]
     },
     "metadata": {},
     "execution_count": 25
    }
   ],
   "source": [
    "test_advance_with_scan(s_ex1, True)"
   ]
  },
  {
   "cell_type": "code",
   "execution_count": 26,
   "metadata": {},
   "outputs": [
    {
     "output_type": "stream",
     "name": "stdout",
     "text": [
      "(7195, 7195)\n",
      "(7191, 4)\n",
      "(7179, 7183)\n",
      "(7171, 12)\n",
      "(7147, 7159)\n",
      "(7135, 24)\n",
      "(7099, 7123)\n",
      "(7082, 41)\n",
      "(7033, 7074)\n",
      "(7013, 61)\n",
      "(6954, 7015)\n",
      "(6929, 86)\n",
      "(6863, 6949)\n",
      "(6837, 112)\n",
      "(6765, 6877)\n",
      "(6731, 146)\n",
      "(6641, 6787)\n",
      "(6604, 183)\n",
      "(6508, 6691)\n",
      "(6465, 226)\n",
      "(6355, 6581)\n",
      "(6309, 272)\n",
      "(6197, 6469)\n",
      "(6151, 318)\n",
      "(6026, 6344)\n",
      "(5967, 377)\n",
      "(5818, 6195)\n",
      "(5756, 439)\n",
      "(5597, 6036)\n",
      "(5530, 506)\n",
      "(5363, 5869)\n",
      "(5293, 576)\n",
      "(5113, 5689)\n",
      "(5041, 648)\n",
      "(4847, 5495)\n",
      "(4766, 729)\n",
      "(4560, 5289)\n",
      "(4477, 812)\n",
      "(4259, 5071)\n",
      "(4177, 894)\n",
      "(3964, 4858)\n",
      "(3874, 984)\n",
      "(3641, 4625)\n",
      "(3555, 1070)\n",
      "(3324, 4394)\n",
      "(3235, 1159)\n",
      "(3009, 4168)\n",
      "(2926, 1242)\n",
      "(2722, 3964)\n",
      "(2646, 1318)\n",
      "(2447, 3765)\n",
      "(2374, 1391)\n",
      "(2186, 3577)\n",
      "(2114, 1463)\n",
      "(1941, 3404)\n",
      "(1871, 1533)\n",
      "(1705, 3238)\n",
      "(1637, 1601)\n",
      "(1471, 3072)\n",
      "(1413, 1659)\n",
      "(1269, 2928)\n",
      "(1219, 1709)\n",
      "(1090, 2799)\n",
      "(1040, 1759)\n",
      "(917, 2676)\n",
      "(864, 1812)\n",
      "(755, 2567)\n",
      "(713, 1854)\n",
      "(610, 2464)\n",
      "(573, 1891)\n",
      "(484, 2375)\n",
      "(453, 1922)\n",
      "(378, 2300)\n",
      "(348, 1952)\n",
      "(279, 2231)\n",
      "(254, 1977)\n",
      "(198, 2175)\n",
      "(179, 1996)\n",
      "(131, 2127)\n",
      "(108, 2019)\n",
      "(70, 2089)\n",
      "(55, 2034)\n",
      "(28, 2062)\n",
      "(18, 2044)\n",
      "(3, 2047)\n",
      "(0, 2047)\n"
     ]
    },
    {
     "output_type": "execute_result",
     "data": {
      "text/plain": [
       "2047"
      ]
     },
     "metadata": {},
     "execution_count": 26
    }
   ],
   "source": [
    "test_advance_with_scan(s, False)"
   ]
  }
 ]
}