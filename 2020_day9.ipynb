{
 "metadata": {
  "language_info": {
   "codemirror_mode": {
    "name": "ipython",
    "version": 3
   },
   "file_extension": ".py",
   "mimetype": "text/x-python",
   "name": "python",
   "nbconvert_exporter": "python",
   "pygments_lexer": "ipython3",
   "version": "3.6.2-final"
  },
  "orig_nbformat": 2,
  "kernelspec": {
   "name": "python3",
   "display_name": "Python 3",
   "language": "python"
  }
 },
 "nbformat": 4,
 "nbformat_minor": 2,
 "cells": [
  {
   "source": [
    "import pandas as pd\n",
    "import os\n",
    "import unittest\n",
    "import string\n",
    "import re\n",
    "pd.set_option('display.max_rows', 10)"
   ],
   "cell_type": "code",
   "metadata": {},
   "execution_count": 1,
   "outputs": []
  },
  {
   "cell_type": "code",
   "execution_count": 2,
   "metadata": {},
   "outputs": [
    {
     "output_type": "execute_result",
     "data": {
      "text/plain": [
       "0                   4\n",
       "1                  15\n",
       "2                  11\n",
       "3                  10\n",
       "4                  33\n",
       "            ...      \n",
       "995    55154664113557\n",
       "996    51654825836802\n",
       "997    73755856206735\n",
       "998    58504361172833\n",
       "999    62243260442558\n",
       "Length: 1000, dtype: int64"
      ]
     },
     "metadata": {},
     "execution_count": 2
    }
   ],
   "source": [
    "trainFile = \"F:/Code/AOC/2020/inputs/2020_day9_input.txt\"\n",
    "pwd = os.getcwd()\n",
    "os.chdir(os.path.dirname(trainFile))\n",
    "file1 = open(trainFile, 'r') \n",
    "s = list(map(int,file1.read().splitlines()))\n",
    "pd.Series(s)"
   ]
  },
  {
   "cell_type": "code",
   "execution_count": 3,
   "metadata": {},
   "outputs": [
    {
     "output_type": "execute_result",
     "data": {
      "text/plain": [
       "0      35\n",
       "1      20\n",
       "2      15\n",
       "3      25\n",
       "4      47\n",
       "     ... \n",
       "15    219\n",
       "16    299\n",
       "17    277\n",
       "18    309\n",
       "19    576\n",
       "Length: 20, dtype: int64"
      ]
     },
     "metadata": {},
     "execution_count": 3
    }
   ],
   "source": [
    "trainFile = \"F:/Code/AOC/2020/inputs/2020_day9_example1.txt\"\n",
    "pwd = os.getcwd()\n",
    "os.chdir(os.path.dirname(trainFile))\n",
    "file1 = open(trainFile, 'r') \n",
    "s_ex1 = list(map(int,file1.read().splitlines()))\n",
    "pd.Series(s_ex1)"
   ]
  },
  {
   "cell_type": "code",
   "execution_count": 4,
   "metadata": {},
   "outputs": [],
   "source": [
    "def checkValidNumber(input, number):\n",
    "    for i in range(len(input)):\n",
    "        for j in range(i+1,len(input)):\n",
    "            if input[i] + input[j] == number:\n",
    "                return True\n",
    "    return False"
   ]
  },
  {
   "cell_type": "code",
   "execution_count": 5,
   "metadata": {},
   "outputs": [],
   "source": [
    "def findFirstInvalid(input, preamble):\n",
    "    for i in range(preamble,len(input)-preamble):\n",
    "        if not checkValidNumber(input[i:i+preamble], input[i+preamble]):\n",
    "            return input[i+preamble]\n",
    "    return None    "
   ]
  },
  {
   "cell_type": "code",
   "execution_count": 6,
   "metadata": {},
   "outputs": [
    {
     "output_type": "execute_result",
     "data": {
      "text/plain": [
       "127"
      ]
     },
     "metadata": {},
     "execution_count": 6
    }
   ],
   "source": [
    "exampleAnswer = findFirstInvalid(s_ex1,5)\n",
    "exampleAnswer"
   ]
  },
  {
   "cell_type": "code",
   "execution_count": 7,
   "metadata": {},
   "outputs": [
    {
     "output_type": "execute_result",
     "data": {
      "text/plain": [
       "1721308972"
      ]
     },
     "metadata": {},
     "execution_count": 7
    }
   ],
   "source": [
    "partOneAnswer = findFirstInvalid(s,25)\n",
    "partOneAnswer"
   ]
  },
  {
   "cell_type": "code",
   "execution_count": 8,
   "metadata": {},
   "outputs": [],
   "source": [
    "def findContingeousSet(input,target):\n",
    "    for i in range(len(input)):\n",
    "        for j in range(i+1,len(input)):\n",
    "            subset = input[i:j]\n",
    "            total = sum(subset)\n",
    "            if total == target:\n",
    "                return min(subset) + max(subset)\n",
    "            elif total > target:\n",
    "                break\n",
    "    return None"
   ]
  },
  {
   "cell_type": "code",
   "execution_count": 9,
   "metadata": {},
   "outputs": [
    {
     "output_type": "execute_result",
     "data": {
      "text/plain": [
       "62"
      ]
     },
     "metadata": {},
     "execution_count": 9
    }
   ],
   "source": [
    "findContingeousSet(s_ex1,exampleAnswer)"
   ]
  },
  {
   "cell_type": "code",
   "execution_count": 10,
   "metadata": {},
   "outputs": [
    {
     "output_type": "execute_result",
     "data": {
      "text/plain": [
       "209694133"
      ]
     },
     "metadata": {},
     "execution_count": 10
    }
   ],
   "source": [
    "findContingeousSet(s,partOneAnswer)"
   ]
  },
  {
   "cell_type": "code",
   "execution_count": 11,
   "metadata": {},
   "outputs": [],
   "source": [
    "class PartOneTests(unittest.TestCase):\n",
    "    def setUp(self):\n",
    "        pass\n",
    "    def tearDown(self):\n",
    "        pass\n",
    "    def test_examples(self):\n",
    "        self.assertEqual((5,False),analyzeLoop(p_ex1))"
   ]
  },
  {
   "cell_type": "code",
   "execution_count": 12,
   "metadata": {},
   "outputs": [
    {
     "output_type": "stream",
     "name": "stderr",
     "text": [
      "test_examples (__main__.PartOneTests) ... ERROR\n",
      "\n",
      "======================================================================\n",
      "ERROR: test_examples (__main__.PartOneTests)\n",
      "----------------------------------------------------------------------\n",
      "Traceback (most recent call last):\n",
      "  File \"<ipython-input-11-dce35be43f09>\", line 7, in test_examples\n",
      "    self.assertEqual((5,False),analyzeLoop(p_ex1))\n",
      "NameError: name 'analyzeLoop' is not defined\n",
      "\n",
      "----------------------------------------------------------------------\n",
      "Ran 1 test in 0.002s\n",
      "\n",
      "FAILED (errors=1)\n"
     ]
    },
    {
     "output_type": "execute_result",
     "data": {
      "text/plain": [
       "<unittest.main.TestProgram at 0x22763e261d0>"
      ]
     },
     "metadata": {},
     "execution_count": 12
    }
   ],
   "source": [
    "unittest.main(argv=[''], verbosity=3, exit=False)"
   ]
  }
 ]
}