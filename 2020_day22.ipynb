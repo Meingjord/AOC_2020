{
 "metadata": {
  "language_info": {
   "codemirror_mode": {
    "name": "ipython",
    "version": 3
   },
   "file_extension": ".py",
   "mimetype": "text/x-python",
   "name": "python",
   "nbconvert_exporter": "python",
   "pygments_lexer": "ipython3",
   "version": "3.6.2-final"
  },
  "orig_nbformat": 2,
  "kernelspec": {
   "name": "python3",
   "display_name": "Python 3",
   "language": "python"
  }
 },
 "nbformat": 4,
 "nbformat_minor": 2,
 "cells": [
  {
   "source": [
    "import pandas as pd\n",
    "import os\n",
    "import unittest\n",
    "import string\n",
    "import re\n",
    "import copy\n",
    "pd.set_option('display.max_rows', 10)"
   ],
   "cell_type": "code",
   "metadata": {},
   "execution_count": 1,
   "outputs": []
  },
  {
   "cell_type": "code",
   "execution_count": 2,
   "metadata": {},
   "outputs": [
    {
     "output_type": "execute_result",
     "data": {
      "text/plain": [
       "0     Player 1:\n",
       "1            24\n",
       "2            22\n",
       "3            26\n",
       "4             6\n",
       "        ...    \n",
       "48           38\n",
       "49           35\n",
       "50            2\n",
       "51           33\n",
       "52           31\n",
       "Length: 53, dtype: object"
      ]
     },
     "metadata": {},
     "execution_count": 2
    }
   ],
   "source": [
    "trainFile = \"F:/Code/AOC/2020/inputs/2020_day22_input.txt\"\n",
    "pwd = os.getcwd()\n",
    "os.chdir(os.path.dirname(trainFile))\n",
    "file1 = open(trainFile, 'r') \n",
    "s = file1.read().splitlines()\n",
    "pd.Series(s)"
   ]
  },
  {
   "cell_type": "code",
   "execution_count": 3,
   "metadata": {},
   "outputs": [
    {
     "output_type": "execute_result",
     "data": {
      "text/plain": [
       "0     Player 1:\n",
       "1             9\n",
       "2             2\n",
       "3             6\n",
       "4             3\n",
       "        ...    \n",
       "8             5\n",
       "9             8\n",
       "10            4\n",
       "11            7\n",
       "12           10\n",
       "Length: 13, dtype: object"
      ]
     },
     "metadata": {},
     "execution_count": 3
    }
   ],
   "source": [
    "trainFile = \"F:/Code/AOC/2020/inputs/2020_day22_example1.txt\"\n",
    "pwd = os.getcwd()\n",
    "os.chdir(os.path.dirname(trainFile))\n",
    "file1 = open(trainFile, 'r') \n",
    "s_ex1 = file1.read().splitlines()\n",
    "pd.Series(s_ex1)"
   ]
  },
  {
   "cell_type": "code",
   "execution_count": 4,
   "metadata": {},
   "outputs": [
    {
     "output_type": "execute_result",
     "data": {
      "text/plain": [
       "0    Player 1:\n",
       "1           43\n",
       "2           19\n",
       "3             \n",
       "4    Player 2:\n",
       "5            2\n",
       "6           29\n",
       "7           14\n",
       "dtype: object"
      ]
     },
     "metadata": {},
     "execution_count": 4
    }
   ],
   "source": [
    "trainFile = \"F:/Code/AOC/2020/inputs/2020_day22_example2.txt\"\n",
    "pwd = os.getcwd()\n",
    "os.chdir(os.path.dirname(trainFile))\n",
    "file2 = open(trainFile, 'r') \n",
    "s_ex2 = file2.read().splitlines()\n",
    "pd.Series(s_ex2)"
   ]
  },
  {
   "cell_type": "code",
   "execution_count": 5,
   "metadata": {},
   "outputs": [],
   "source": [
    "def parse(input):\n",
    "    data = []\n",
    "    deck = []\n",
    "    for line in input:\n",
    "        if line.count(\"Player\") > 0:\n",
    "            if line.count(\"Player 2\") > 0:\n",
    "                data.append(deck)\n",
    "                deck = []\n",
    "        elif len(line.strip()) > 0:\n",
    "            deck.append(int(line))\n",
    "    data.append(deck)\n",
    "    return data"
   ]
  },
  {
   "cell_type": "code",
   "execution_count": 6,
   "metadata": {},
   "outputs": [
    {
     "output_type": "execute_result",
     "data": {
      "text/plain": [
       "[[9, 2, 6, 3, 1], [5, 8, 4, 7, 10]]"
      ]
     },
     "metadata": {},
     "execution_count": 6
    }
   ],
   "source": [
    "p_ex1 = parse(s_ex1)\n",
    "p_ex1"
   ]
  },
  {
   "cell_type": "code",
   "execution_count": 7,
   "metadata": {},
   "outputs": [
    {
     "output_type": "execute_result",
     "data": {
      "text/plain": [
       "[[24,\n",
       "  22,\n",
       "  26,\n",
       "  6,\n",
       "  14,\n",
       "  19,\n",
       "  27,\n",
       "  17,\n",
       "  39,\n",
       "  34,\n",
       "  40,\n",
       "  41,\n",
       "  23,\n",
       "  30,\n",
       "  36,\n",
       "  11,\n",
       "  28,\n",
       "  3,\n",
       "  10,\n",
       "  21,\n",
       "  9,\n",
       "  50,\n",
       "  32,\n",
       "  25,\n",
       "  8],\n",
       " [48,\n",
       "  49,\n",
       "  47,\n",
       "  15,\n",
       "  42,\n",
       "  44,\n",
       "  5,\n",
       "  4,\n",
       "  13,\n",
       "  7,\n",
       "  20,\n",
       "  43,\n",
       "  12,\n",
       "  37,\n",
       "  29,\n",
       "  18,\n",
       "  45,\n",
       "  16,\n",
       "  1,\n",
       "  46,\n",
       "  38,\n",
       "  35,\n",
       "  2,\n",
       "  33,\n",
       "  31]]"
      ]
     },
     "metadata": {},
     "execution_count": 7
    }
   ],
   "source": [
    "p = parse(s)\n",
    "p"
   ]
  },
  {
   "cell_type": "code",
   "execution_count": 8,
   "metadata": {},
   "outputs": [],
   "source": [
    "def playGame(input):\n",
    "    first = input[0][:]\n",
    "    second = input[1][:]\n",
    "    #print(first, second)\n",
    "    while len(first) > 0 and len(second) > 0:\n",
    "        topCardfirst = first.pop(0)\n",
    "        topCardsecond = second.pop(0)\n",
    "        if topCardfirst > topCardsecond:            \n",
    "            first.append(topCardfirst)\n",
    "            first.append(topCardsecond)\n",
    "        else:\n",
    "            second.append(topCardsecond)\n",
    "            second.append(topCardfirst)\n",
    "        #print(first, second)\n",
    "    return (first,second)"
   ]
  },
  {
   "cell_type": "code",
   "execution_count": 9,
   "metadata": {},
   "outputs": [
    {
     "output_type": "execute_result",
     "data": {
      "text/plain": [
       "([], [3, 2, 10, 6, 8, 5, 9, 4, 7, 1])"
      ]
     },
     "metadata": {},
     "execution_count": 9
    }
   ],
   "source": [
    "playGame(p_ex1)"
   ]
  },
  {
   "cell_type": "code",
   "execution_count": 10,
   "metadata": {},
   "outputs": [],
   "source": [
    "def score(input):\n",
    "    result = 0\n",
    "    multiplier = len(input)\n",
    "    for card in input:\n",
    "        result += card * multiplier\n",
    "        multiplier -= 1\n",
    "    return result"
   ]
  },
  {
   "cell_type": "code",
   "execution_count": 11,
   "metadata": {},
   "outputs": [
    {
     "output_type": "execute_result",
     "data": {
      "text/plain": [
       "306"
      ]
     },
     "metadata": {},
     "execution_count": 11
    }
   ],
   "source": [
    "sum(map(score, playGame(p_ex1)))"
   ]
  },
  {
   "cell_type": "code",
   "execution_count": 12,
   "metadata": {
    "tags": []
   },
   "outputs": [
    {
     "output_type": "execute_result",
     "data": {
      "text/plain": [
       "35562"
      ]
     },
     "metadata": {},
     "execution_count": 12
    }
   ],
   "source": [
    "sum(map(score, playGame(p)))"
   ]
  },
  {
   "cell_type": "code",
   "execution_count": 13,
   "metadata": {},
   "outputs": [],
   "source": [
    "def toHashKey(input):    \n",
    "    return \"|\".join([\",\".join(map(str,input[0])), \",\".join(map(str, input[1]))])\n",
    "\n",
    "def playGameRecursive(data):\n",
    "    input=data[:]\n",
    "    cache = {}\n",
    "    debug = False #len(cache)> 550:\n",
    "    if debug:\n",
    "        print(\"Starting new game with\", input)\n",
    "    first = input[0][:]\n",
    "    second = input[1][:]\n",
    "    while len(first) > 0 and len(second) > 0:\n",
    "        currentGame = (first, second)\n",
    "        key = toHashKey(currentGame)\n",
    "        if key in cache:            \n",
    "            firstWins = True # break recursion by letting player one win\n",
    "            print(\"found result in cache\", len(first)+len(second), key)\n",
    "            return (first, second, True)\n",
    "        \n",
    "        cache[key] = True\n",
    "        topCardfirst = first.pop(0)\n",
    "        topCardsecond = second.pop(0)\n",
    "        firstWins = True\n",
    "\n",
    "        if len(first) >= topCardfirst and len(second) >= topCardsecond:\n",
    "            if debug:\n",
    "                \"starting subgame\"\n",
    "            subGameResult = playGameRecursive((first[0:topCardfirst], second[0:topCardsecond]))\n",
    "            firstWins = len(subGameResult[0]) > 0 or subGameResult[2]\n",
    "        else:\n",
    "            firstWins = topCardfirst > topCardsecond \n",
    "        \n",
    "        if firstWins:\n",
    "            first.append(topCardfirst)\n",
    "            first.append(topCardsecond)\n",
    "        else:\n",
    "            second.append(topCardsecond)\n",
    "            second.append(topCardfirst)\n",
    "        if debug:\n",
    "            print(\"New state\",first, second)\n",
    "    if debug:\n",
    "        print(\"Finished game with\" , result)\n",
    "    return (first, second, False)"
   ]
  },
  {
   "cell_type": "code",
   "execution_count": 14,
   "metadata": {},
   "outputs": [
    {
     "output_type": "execute_result",
     "data": {
      "text/plain": [
       "([], [7, 5, 6, 2, 4, 1, 10, 8, 9, 3], False)"
      ]
     },
     "metadata": {},
     "execution_count": 14
    }
   ],
   "source": [
    "playGameRecursive(p_ex1)"
   ]
  },
  {
   "cell_type": "code",
   "execution_count": 15,
   "metadata": {},
   "outputs": [
    {
     "output_type": "execute_result",
     "data": {
      "text/plain": [
       "291"
      ]
     },
     "metadata": {},
     "execution_count": 15
    }
   ],
   "source": [
    "a_ex1 = playGameRecursive(p_ex1)\n",
    "score(a_ex1[0]) + score(a_ex1[1])"
   ]
  },
  {
   "cell_type": "code",
   "execution_count": 16,
   "metadata": {},
   "outputs": [
    {
     "output_type": "execute_result",
     "data": {
      "text/plain": [
       "[[43, 19], [2, 29, 14]]"
      ]
     },
     "metadata": {},
     "execution_count": 16
    }
   ],
   "source": [
    "p_ex2 = parse(s_ex2)\n",
    "p_ex2"
   ]
  },
  {
   "cell_type": "code",
   "execution_count": 17,
   "metadata": {
    "tags": []
   },
   "outputs": [
    {
     "output_type": "stream",
     "name": "stdout",
     "text": [
      "found result in cache 5 43,19|2,29,14\n"
     ]
    },
    {
     "output_type": "execute_result",
     "data": {
      "text/plain": [
       "([43, 19], [2, 29, 14], True)"
      ]
     },
     "metadata": {},
     "execution_count": 17
    }
   ],
   "source": [
    "playGameRecursive(p_ex2)"
   ]
  },
  {
   "cell_type": "code",
   "execution_count": 19,
   "metadata": {
    "tags": [
     "outputPrepend"
    ]
   },
   "outputs": [
    {
     "output_type": "stream",
     "name": "stdout",
     "text": [
      " in cache 29 49,6,48,4,36,27,35,23,40,16,45,11,43,18,47,14,33,12,50,8,44,2,29,25,28,20|3,39,17\n",
      "found result in cache 39 43,20,49,22,46,13,44,19,29,17,42,12,41,2,40,18,45,21,32,14,47,27,33,3,31,7,50,4,48,30,26,25|23,34,1,38,5,35,24\n",
      "found result in cache 25 11,49,4,36,1,45,25,38,5,43,27,47,21,50,12,40,7|46,8,33,3,48,13,32,24\n",
      "found result in cache 11 43,25,45,2,38,32|12,46,11,33,4\n",
      "found result in cache 15 1,33,25,47,5,39,32,46,12,43,2|44,6,34,26\n",
      "found result in cache 13 26,47,6,46,22|39,25,44,2,48,34,40,33\n",
      "found result in cache 19 42,7,35,23,31,28|20,40,19,44,16,29,25,36,17,48,5,41,22\n",
      "found result in cache 17 20,45,3,41,8,38,19,33,4,42,29,34,11|44,27,32,24\n",
      "found result in cache 19 3,42,19,41,31,27,9,43,4,45,1|34,20,38,29,44,16,33,32\n",
      "found result in cache 11 50,11,44,9,41,22,28,12|1,39,3\n",
      "found result in cache 7 44,21,50,22|7,41,28\n",
      "found result in cache 9 4,50,22,44,7,48,33|41,3\n",
      "found result in cache 29 23,40,7,39,24,47,9,44,1,46,31,38,20,50,17,42,11,36,5,49,19,34,2,45,27|43,16,32,29\n",
      "found result in cache 15 43,29,32,20,47,17,44,2,39,23|21,35,28,40,13\n",
      "found result in cache 25 27,38,17,50,13,43,9,47,29,44,6,46,20,39,2,41,21|42,28,40,23,35,8,32,31\n",
      "found result in cache 27 32,2,47,21,44,11,46,23,41,20,33,31,50,13,40,8,43,28,38,27,34,29|6,39,17,35,9\n",
      "found result in cache 31 31,9,30,22,45,19,34,14,41,11,40,8,43,2,47,23,50,25,49,26,35,18,42,4,29,27|17,33,20,46,12\n",
      "found result in cache 29 49,6,44,4,36,27,35,23,40,16,45,11,43,18,47,14,46,12,50,8,39,2,29,25,28,20|3,33,17\n",
      "found result in cache 11 5,45,20|43,23,40,1,48,38,47,17\n",
      "found result in cache 33 7,50,4,44,23,40,1,49,17,48,21,42,5,41,27,45,24,38,20,35,19,29,22,43,13,47,26,30,25,46,12|34,18\n",
      "found result in cache 33 7,50,4,44,23,40,1,49,17,48,21,42,5,41,27,45,24,38,20,35,19,29,22,43,13,47,26,30,25,46,12|32,18\n",
      "found result in cache 33 7,50,4,44,23,40,1,49,17,48,21,42,5,41,27,45,24,38,20,35,19,29,22,43,13,47,26,30,25,46,12|39,18\n",
      "found result in cache 39 43,13,47,26,30,25,46,12,31,2,50,18,44,14,40,3,49,7,48,4,42,23,41,1,45,17,38,21,35,5,29,27|24,39,20,32,19,34,22\n",
      "found result in cache 15 3,47,1,32,5|45,38,46,12,44,8,48,25,43,40\n",
      "found result in cache 25 7,43,4,47,25,38,1,50,5,49,21,36,13|40,8,45,12,46,3,44,24,48,11,32,27\n",
      "found result in cache 11 12,38,32|46,2,48,11,45,4,43,25\n",
      "found result in cache 15 47,12,44,32,39,22|1,25,5,46,2,43,6,38,26\n",
      "found result in cache 13 45,32,47,26,40,39|25,44,2,48,6,46,22\n",
      "found result in cache 15 49,28,43,23,41,35|11,48,29,44,17,38,19,33,4\n",
      "found result in cache 21 28,44,22,49,19,39,23,41,9,38,4,43,11|48,29,42,3,40,31,36,35\n",
      "found result in cache 17 45,11,39,23,49,28,44,22,41,36|4,43,19,48,17,42,13\n",
      "found result in cache 17 8,44,17,49,19,42,3|41,16,43,7,48,23,45,22,33,31\n",
      "found result in cache 9 38,17,29,27|11,46,1,43,20\n",
      "found result in cache 21 3,36,23,50,21,48,16,43,1,40,12,34,27|46,9,41,20,45,26,32,28\n",
      "found result in cache 25 1,40,27,50,23,48,12,36,24,46,2,45,29,44,21,47,26,43,20|38,32,41,19,34,28\n",
      "found result in cache 21 3,34,1,50,20,40,12,48,9,36,23,46,16|41,8,45,26,43,27,32,28\n",
      "found result in cache 13 12,50,7,46,5,40,29,39,13|44,27,38,20\n",
      "found result in cache 17 36,31,47,11,38,29,35,32|17,48,21,45,34,46,26,41,24\n",
      "found result in cache 13 7,33,17,27,11,42,3,32,22|41,8,25,23\n",
      "found result in cache 13 2,49,3|45,27,43,39,48,1,42,25,40,32\n",
      "found result in cache 9 41,19,50,36,43,33|31,45,11\n",
      "found result in cache 19 36,19,50,9,48,11,45,23,43,29,41,20,33,31|12,35,4,38,5\n",
      "found result in cache 9 19,41,36,40,3|45,33,43,24\n",
      "found result in cache 19 2,40,4,43,17,41,5,50,29,48,9|38,23,45,24,39,1,33,32\n",
      "found result in cache 31 45,11,40,3,31,29,49,26,39,22,42,7,38,6,36,1,47,5,44,12,50,21,33,32|9,43,23,35,19,48,25\n",
      "found result in cache 9 47,38,45,24,39,32|17,46,4\n",
      "found result in cache 11 47,44,45,11,38,24|2,46,33,32,6\n",
      "found result in cache 19 45,17,40,23,49,6,47,27,50,25,34,31|11,48,8,42,4,41,33\n",
      "found result in cache 13 1,49,19,42,12|36,4,48,20,38,11,25,22\n",
      "found result in cache 35 34,19,50,7,45,6,40,11,49,29,42,27,47,1,32,25|24,48,5,43,12,38,4,41,23,36,8,46,22,31,20,33,17,39,3\n",
      "found result in cache 11 47,9|2,48,33,45,19,46,36,39,22\n",
      "found result in cache 23 8,27,4,47,3,43,23,36,9,38,6,35,2|44,22,46,1,39,24,48,26,33,32\n",
      "found result in cache 23 1,47,24,50,32,46,12,41,25,49,11,40,22|45,35,43,31,42,8,48,17,39,38\n",
      "found result in cache 7 47,21|2,48,31,32,25\n",
      "found result in cache 31 23,47,17,44,25,50,11,45,3,40,22,49,7,39,6,42,1,33,20,38,5,32,12,36,21|41,26,48,9,35,29\n",
      "found result in cache 35 47,1,44,20,50,5,45,26,40,9,49,4,39,23,35,17,42,8,33,2,27,24,38,19,32,25,36,11,34,31|3,48,22,43,7\n",
      "found result in cache 35 40,6,49,1,39,20,35,5,42,12,38,21,32,26,36,9,29,4,47,23,44,2,50,24,45,19,34,31|25,46,3,41,22,43,7\n",
      "found result in cache 41 21,38,26,32,9,36,4,29,23,47,17,44,8,50,2,45,24,40,19,49,25,39,11,35,3,42,22,33,7|43,6,31,1,46,20,41,5,48,12,34,27\n",
      "found result in cache 13 7,33,17,27,11,42,3,32,22|41,8,25,23\n",
      "found result in cache 11 32,50,28,48,25|35,9,45,4,42,39\n",
      "found result in cache 29 23,50,1,45,5,40,16,35,12,49,20,43,21,39,9,42,13,32,8,31,4,36,19|48,3,28,6,25,24\n",
      "found result in cache 23 19,50,25,45,3,40,6,35,1,49,31,43,5,39,16,42,12,32,28,23,20|48,24\n",
      "found result in cache 33 1,50,5,28,20,45,16,40,23,35,12,49,9,43,17,39,13,42,8,32,4,33,2,27,24,36,19|31,3,48,6,25,21\n",
      "found result in cache 23 26,46,6,45,3,49,1,43,5,40,16,50,25|34,7,47,22,36,23,42,21,35,31\n",
      "found result in cache 25 23,36,5,40,12,35,13,49,4,43,17,50,25,45,21,31,3|46,26,39,7,42,1,34,28\n",
      "found result in cache 33 13,40,4,35,17,49,25,43,3,32,26,50,7,45,22,28,21,36,19|34,6,42,1,46,23,39,5,44,16,47,12,31,27\n",
      "found result in cache 23 26,46,6,45,3,49,1,43,5,40,16,50,25|34,7,47,22,36,23,42,21,35,31\n",
      "found result in cache 15 40,6,50,2,36,28,35,33|31,47,27,48,1,45,20\n",
      "found result in cache 15 8,45,4,44,1,50,7,27,5|47,19,48,26,33,20\n",
      "found result in cache 9 7,50,1,48,20|32,3,27,12\n",
      "found result in cache 11 5,44,32,31,7|39,36,46,19,34,33\n",
      "found result in cache 11 20,8,47,27,50,3,48,25|1,39,12\n",
      "found result in cache 15 8,45,4,44,1,50,7,27,5|47,19,48,26,33,20\n",
      "found result in cache 17 8,39,7,45,17,49,3|26,2,24,4,34,1,48,22,25,20\n",
      "found result in cache 9 49,12,47,27|7,48,3,39,1\n",
      "found result in cache 13 3,45,25,50,8,49,2|48,22,39,7,34,24\n",
      "found result in cache 11 49,5,42,27,47,12,33,26|1,48,3\n",
      "found result in cache 11 22,31,9,46,12|48,28,44,17,43,27\n",
      "found result in cache 27 40,16,35,12,49,28,43,20,39,9,42,13,32,8,36,19,50,11,45,6,29,25|24,41,1,31,5\n",
      "found result in cache 27 6,36,25,50,24,45,1,29,5,40,16,35,12,49,28,43,20,39,9,42,13,32,8|31,19,41,11\n",
      "found result in cache 29 40,16,35,12,49,28,43,20,39,9,42,13,32,8,23,4,36,19,50,11,45,6,29,25|24,41,1,31,5\n",
      "found result in cache 13 20,50,25,33,19,45,16|40,17,35,4,28,27\n",
      "found result in cache 31 40,5,35,16,49,12,43,9,39,24,42,17,32,13,33,20,27,8,36,4,50,19,45,11,31,25|6,28,23,41,1\n",
      "found result in cache 29 25,36,11,29,6,50,1,28,5,45,20,40,16,35,23,49,12,43,9,39,17,42,13,32,8,33,4|31,24\n",
      "found result in cache 31 19,36,25,29,11,50,6,28,1,45,5,40,20,35,16,49,23,43,12,39,9,42,17,32,13,33,8|31,2,41,24\n",
      "found result in cache 33 45,9,40,17,35,13,49,8,43,4,39,2,42,24,32,19,33,25,27,11,36,6,29,1,50,5,28,20|16,41,23,31,12\n",
      "found result in cache 13 38,25,34,4,44,22,49,2,39,26|7,47,3\n",
      "found result in cache 9 49,29,45,21|6,48,2,31,7\n",
      "found result in cache 15 39,17,41,13,42,20,34,24|19,47,9,32,25,28,4\n",
      "found result in cache 19 49,13,36,2,43,16,38,17,47,25,50,3,32,27|4,40,1,46,23\n",
      "found result in cache 31 47,18,50,4,49,17,35,25,31,20,41,29,30,23,45,12,42,9,43,22,32,14,27,26|11,40,19,46,8,34,2\n",
      "found result in cache 7 47,23,46,40|32,45,28\n",
      "found result in cache 29 49,6,39,4,36,27,35,23,40,16,45,11,43,18,47,14,32,12,50,8,33,2,29,25,28,20|3,46,17\n",
      "found result in cache 33 23,50,30,49,18,33,1,44,17,42,5,41,21,38,29,47,25,39,20,40,14,32,12|48,13,45,2,43,24,35,3,34,31\n",
      "found result in cache 25 50,29,43,2,47,18,32,31|22,48,14,45,17,39,24,40,3,33,23,38,1,35,5,34,4\n",
      "found result in cache 39 47,19,50,13,49,12,44,17,39,2,34,18,42,14,41,3,38,23,43,1,31,5,29,26|4,32,7,30,25,48,24,45,22,33,21,40,20,35,27\n",
      "found result in cache 25 49,3,40,11,39,4,45,12,44,1,47,5,50,21,32,27|13,43,24,38,25,48,7,36,8\n",
      "found result in cache 11 45,25,44,2,38,11|4,48,43,32,12\n",
      "found result in cache 15 47,6,33,32|2,43,12,34,1,48,25,38,26,46,5\n",
      "found result in cache 13 38,32,47,26,34,33|6,48,22,43,25,46,2\n",
      "found result in cache 19 20,29,7|41,28,35,25,48,16,42,19,36,17,43,5,33,22,31,23\n",
      "found result in cache 29 49,20,36,9,42,2,31,29,41,27,39,4,45,25,44,17,47,5,43,19,50,23,46,22,34,24|12,35,7\n",
      "found result in cache 29 49,6,33,4,36,27,35,23,40,16,45,11,43,18,47,14,38,12,50,8,46,2,29,25,28,20|3,32,17\n",
      "found result in cache 39 1,45,5,44,24,47,20,38,27,31,19,50,17,49,13,48,12,46,2,34,22,29,18,42,30,41,21,33,14,40,3|35,7,43,26,39,4,25,23\n",
      "found result in cache 25 4,50,1,49,21,36,5,40,13,39,7|45,24,38,8,44,25,43,3,48,11,47,12,33,27\n",
      "found result in cache 11 11,45,4|48,39,38,12,44,2,43,25\n",
      "found result in cache 17 1,50,17,47,32,43,13,45,11,39,12|48,28,42,7,36,33\n",
      "found result in cache 47 34,6,22,16,40,3,45,4,43,1,47,5,27,21,50,24,49,13,36,7,28,23,35,17,29,20,42,31,41,19,30,26|9,33,8,39,11,44,12,48,25,38,2,32,18,46,14\n",
      "found result in cache 15 21,44,4,45,20,47,1|36,34,48,27,46,25,41,37\n",
      "found result in cache 11 47,15,46,27,45,40|4,48,38,43,34\n",
      "found result in cache 5 20,47,15|42,21\n",
      "found result in cache 13 37,44,20|47,31,45,4,41,36,48,21,40,38\n",
      "found result in cache 11 46,21,44,43|20,38,22,47,28,34,25\n",
      "found result in cache 9 43,6,41,31,40,21|20,45,38\n",
      "found result in cache 23 10,28,11,29,3,42,36,40,4,45,23,22,17|38,21,43,9,48,24,47,8,39,34\n",
      "found result in cache 21 23,47,9,42,21,45,8|43,11,40,20,38,29,34,27,48,7,39,17,36,33\n",
      "found result in cache 29 38,16,36,5,35,20,29,27,42,13,39,18,40,7,45,23,25,24|17,48,22,43,3,33,4,31,26,34,1\n",
      "found result in cache 5 17,42,26|43,22\n",
      "found result in cache 39 49,13,35,25,29,18,42,23,39,17,40,21,45,9,38,8,36,11,47,7,28,19,50,10,27,24|22,48,3,43,4,33,1,31,16,34,5,26,20\n",
      "found result in cache 7 45,26|10,48,34,46,22\n",
      "found result in cache 7 45,19|2,25,24,48,42\n",
      "found result in cache 23 1,50,6,40,31,49,10,39,3,38,4|44,21,48,2,42,30,41,23,46,20,32,25\n",
      "found result in cache 21 32,19,44,16,29,26|8,48,7,36,11,37,24,41,28,47,27,43,22,45,18\n",
      "found result in cache 15 32,19,43,24,29,26|25,27,22,34,11,37,18,28,16\n",
      "found result in cache 29 29,7,47,17,36,16,27,26|11,46,15,43,24,30,14,37,9,28,21,32,22,48,12,34,8,45,19,42,18\n",
      "found result in cache 31 44,22,43,19,40,18,37,12,31,14,49,9,24,21,50,26,46,8,32,27|2,34,20,41,1,48,6,42,7,36,11\n",
      "found result in cache 21 45,3,39,22,41,25,47,17,43,26,38,19,30,29|14,32,9,48,4,44,27\n",
      "found result in cache 23 26,21,45,14,44,32,41,20,43,9,29,27|17,48,6,34,2,42,8,39,1,36,3\n",
      "found result in cache 21 37,9,49,23,32,21,47,8,50,24,46,16,40,2,30,28|1,42,12,39,20\n",
      "found result in cache 31 10,47,9,43,23,50,8,46,24,40,16,37,2,49,1|21,15,44,6,36,12,31,20,39,30,28,18,42,7,34,32\n",
      "found result in cache 23 12,50,20,46,31,40,7,34,10,37,11,49,22,24,18,38,2|42,1,44,6,36,16\n",
      "found result in cache 14 32,19,45,30,43,17|48,29,38,14,47,22,41,4\n",
      "found result in cache 11 47,2,30,27|22,46,25,36,19,39,28\n",
      "found result in cache 11 28,22,25,15,47,27,39,19|2,36,20\n",
      "found result in cache 11 17,43,22|28,2,46,20,31,8,25,23\n",
      "found result in cache 21 28,15,50,9,36,4,32,3,40,12,29,14,26,23|22,48,7,46,25,30,1\n",
      "found result in cache 14 34,17,49,32,37,1|48,20,28,4,45,40,42,19\n",
      "found result in cache 13 36,42,32,41,28,49,15|44,4,45,19,38,37\n",
      "found result in cache 27 4,41,34,49,28,47,20,46,19,43,18,48,31,39,1,40,24,42,17|44,16,45,2,38,36,37,27\n",
      "found result in cache 21 18,46,15,48,12,42,2,40,4,49,19,47,16|41,22,45,27,43,21,32,31\n",
      "found result in cache 35 29,1,34,9,49,21,39,27,45,18,42,19,37,16,41,2,47,17,44,6,43,10,31,11,50,23,30,20|3,48,25,38,24,46,8\n",
      "found result in cache 15 8,49,30,40,29,34,14|32,28,36,7,48,25,26,19\n",
      "found result in cache 25 14,40,8,49,15,39,7|32,1,36,9,48,24,43,12,30,25,45,3,28,22,34,19,29,26\n",
      "found result in cache 11 1,45,9,24,4,49,17,30,15|42,39\n",
      "found result in cache 11 29,19,47,27,43,34|20,42,37,48,25\n",
      "found result in cache 29 44,11,47,1,43,25,37,18,50,21,42,9,41,24,36,8,49,3,45,28,34,15,30,27|20,38,29,48,2\n",
      "found result in cache 11 1,45,9,24,4,49,17,30,15|42,39\n",
      "found result in cache 21 50,24,40,25,43,4,38,37|27,44,20,48,28,47,21,42,34,39,29,46,19\n",
      "found result in cache 19 30,8,45,6,26,14,49,7,17,11,16,10|9,31,3,46,15,32,12\n",
      "found result in cache 31 14,31,4,37,6,30,21,49,10,45,8,39,3|40,17,27,23,44,15,48,9,47,12,42,2,46,24,32,16,26,25\n",
      "found result in cache 23 8,45,23,34,12,50,4,43,6,40,27|38,22,44,19,36,31,41,10,32,7,28,26\n",
      "found result in cache 25 7,50,8,40,23,38,14,43,12,45,9,36,27|46,31,44,22,48,10,39,18,47,29,34,32\n",
      "found result in cache 19 9,40,6,43,8|38,28,44,32,41,26,48,4,45,27,39,31,36,34\n",
      "found result in cache 31 12,43,9,40,4,45,22,36,19,50,10|32,26,44,18,41,31,48,6,39,8,47,27,46,23,29,14,38,7,34,28\n",
      "found result in cache 23 8,45,23,34,12,50,4,43,6,40,27|38,22,44,19,36,31,41,10,32,7,28,26\n",
      "found result in cache 10 50,40,38,16|31,8,48,28,41,27\n",
      "found result in cache 13 43,2,48,19,50,24,40,39|18,45,38,44,8\n",
      "found result in cache 19 43,14,50,15,39,4,48,6,44,27,41,32,34,29|26,38,31,36,22\n",
      "found result in cache 21 43,24,50,19,38,29,48,7,41,27,37,28,46,26,36,30|15,39,2,44,6\n",
      "found result in cache 10 50,43,30,16|20,11,48,39,24,1\n",
      "found result in cache 21 49,4,47,18,41,20,45,8,39,3,34,25|16,29,23,40,14,38,19,44,15\n",
      "found result in cache 21 39,2,45,21,38,20,49,17,47,8,31,30|25,40,3,42,15,34,9,46,23\n",
      "found result in cache 25 44,3,40,15,45,23,39,9,41,16,49,19,34,21,47,29,30,25|2,31,14,38,4,46,18\n",
      "found result in cache 13 17,49,1,48,10,27,20|42,11,46,8,25,22\n",
      "found result in cache 13 40,22,47,2,46,8,37,30|27,42,24,38,23\n",
      "found result in cache 19 15,49,24,31,29,30,12,47,27|46,8,25,17,39,21,38,23,37,2\n",
      "found result in cache 31 40,22,45,10,49,8,47,17,31,25|21,39,23,38,2,34,9,30,3,37,15,44,29,32,12,48,27,42,24,46,1\n",
      "found result in cache 23 32,14,31,10,49,23,44,11,28,21|20,37,3,30,26,48,2,42,24,38,16,39,27\n",
      "found result in cache 15 9,31,3,47,26,49,2,38,30|48,15,44,23,39,37\n",
      "found result in cache 27 19,47,18,40,25,45,29,34,26,50,2,49,24,44,16,37,27,39,12,38,10|41,14,46,1,31,30\n",
      "found result in cache 29 23,39,25,38,4,47,2,40,24,45,16,34,12,50,10,49,14,44,1,37,19|46,18,41,29,31,26,30,27\n",
      "found result in cache 23 1,50,34,43,18,49,2,41,24,40,4,39,14,38,12,30,10|31,26,46,25,37,29\n",
      "found result in cache 41 45,9,30,26,50,15,43,19,49,14,39,1,38,25,47,18,44,2,29,28|4,36,27,34,8,48,23,31,22,41,7,37,12,40,10,46,24,32,16,42,3\n",
      "found result in cache 15 11,49,9,48,26,38,6,31,20|37,21,39,23,30,17\n",
      "found result in cache 25 19,36,1,49,6,46,8,47,24,44,2,32,25,45,11,50,4,39,7,28,17|41,12,34,27\n",
      "found result in cache 7 49,17,29,27|18,34,1\n",
      "found result in cache 29 11,47,24,45,3,50,16,39,7,49,22,29,1|36,6,40,25,34,17,46,8,41,2,30,4,43,18,28,27\n",
      "found result in cache 7 8,50,24|46,18,25,17\n",
      "found result in cache 23 44,21,32,28,45,10,42,29,24,7,43,14,49,20,48,19,47,11,36,30|17,38,12\n",
      "found result in cache 27 14,45,21,42,11,43,9,49,12,48,10,47,3|36,24,23,22,37,17,38,15,30,7,31,20,29,28\n",
      "found result in cache 33 14,43,21,49,11,48,9,47,23,28,17,44,12,32,10,45,22,30,15,42,3|29,4,38,19,31,8,36,7,37,20,26,24\n",
      "found result in cache 9 48,17,49,38,46,11|9,40,31\n",
      "found result in cache 25 19,36,8,50,17,46,24,47,11,42,1,44,22|45,3,39,12,40,28,34,4,41,25,32,27\n",
      "found result in cache 7 8,36,17,50,41|46,19\n",
      "found result in cache 9 50,6,45,36,39,34|25,46,17\n",
      "found result in cache 25 19,36,8,50,17,46,24,47,11,42,1,44,22|45,3,39,12,40,28,34,4,41,25,32,27\n",
      "found result in cache 7 8,36,17,50,41|46,19\n",
      "found result in cache 9 50,6,45,36,39,34|25,46,17\n",
      "found result in cache 7 45,19|2,25,24,48,42\n",
      "found result in cache 17 3,39,2,36,4,30,20|48,10,38,23,47,1,42,5,27,15\n",
      "found result in cache 35 5,50,21,23,12,31,18,28,15,35,8,49,11,48,14,43,3,38,9,39,22,36,2,29,13,46,6,41,1|40,7,30,20,27,19\n",
      "found result in cache 13 13,46,8,27,6|42,10,48,12,38,2,25,14\n",
      "found result in cache 17 46,23,42,29,39,18,38,22|14,36,12,34,6,33,2,48,27\n",
      "found result in cache 23 23,2,38,12,29,20|6,39,25,48,22,34,19,33,14,46,27,36,8,42,4,41,18\n",
      "found result in cache 13 14,46,10|43,12,38,15,30,3,48,11,27,25\n",
      "found result in cache 21 5,50,28,40,25,42,2,38,13,35,8|43,6,33,10,41,21,48,29,31,30\n",
      "found result in cache 25 47,19,36,11,41,28,31,7,49,6,39,8,48,18,33,27|25,38,14,43,10,35,20,34,3\n",
      "found result in cache 23 13,49,6,39,3,48,18,43,12,40,10|35,9,28,21,42,4,22,20,34,14,33,19\n",
      "found result in cache 11 39,4,48,14,49,22,35,28|20,36,9\n",
      "found result in cache 23 4,49,14,39,6,48,7,47,3,31,1,41,12|27,22,33,20,36,13,35,9,28,10\n",
      "found result in cache 11 39,4,48,14,49,22,35,28|20,36,9\n",
      "found result in cache 11 35,10,49,3,40,22|18,27,15,39,2\n",
      "found result in cache 23 35,18,48,15,47,2,31,10,28,1,41,8,49,23,40,14,22,13|5,27,6,39,3\n",
      "found result in cache 11 35,3,49,18,40,2,39,22|10,25,21\n",
      "found result in cache 13 9,32,3,39,2|36,21,38,20,46,11,30,23\n",
      "found result in cache 13 9,32,3,39,2|36,21,38,20,46,11,30,23\n",
      "found result in cache 17 5,49,3|38,2,42,21,46,10,39,22,32,11,48,4,37,23\n",
      "found result in cache 15 37,2,34,22,30,12,36,20,49,9,38,8|5,48,3\n",
      "found result in cache 13 42,32,38,4,49,8,39,21|9,46,37,48,11\n",
      "found result in cache 13 49,23,36,34|20,38,21,46,10,39,32,42,9\n",
      "found result in cache 5 8,36,21|46,12\n",
      "found result in cache 11 9,49,39,42,2,21,10|37,36,48,20\n",
      "found result in cache 15 49,32,42,11,38,20|3,46,2,37,30,48,14,39,4\n",
      "found result in cache 9 14,49,11|42,12,48,3,39,37\n",
      "found result in cache 9 21,49,12,39,1|48,34,37,36\n",
      "found result in cache 7 49,11,39,37|20,48,5\n",
      "found result in cache 9 49,1,20,14|11,37,3,34,12\n",
      "found result in cache 15 4,42,1,36,11,49,32,48,21,39,14|37,20,34,9\n",
      "found result in cache 5 48,34|5,37,20\n",
      "found result in cache 9 49,22|10,46,5,23,9,48,21\n",
      "found result in cache 21 10,39,20,48,5,46,4,49,21|32,2,38,11,30,14,37,8,42,3,23,22\n",
      "found result in cache 10 12,3,39,22,11,2|46,38,34,5\n",
      "found result in cache 13 2,39,15,30,11,37,10,22,4|42,20,36,3\n",
      "found result in cache 17 1,45,14,33,17,44,5,32,3,28,22,25,2|37,15,34,23\n",
      "found result in cache 19 25,1,45,17,33,5,44,13,32,3,28,22,23,14|2,37,4,34,15\n",
      "found result in cache 33 29,21,47,23,37,20,49,22,36,19,48,7,38,12,30,16,39,24,28,26|11,46,10,43,27,31,9,42,5,32,18,41,3\n",
      "found result in cache 23 3,47,23,46,17,43,10,37,1,49,25,44,24,34,20,32,18,27,8|33,5,29,21\n",
      "found result in cache 11 5,44,3|46,16,43,27,34,9,32,28\n",
      "found result in cache 23 23,48,3,41,32,28,27,29,18,47,7,46,24,37,17,49,8|43,5,42,21,34,25\n",
      "found result in cache 19 38,2,37,34,30,4,50,1,42,22,39,35|20,40,9,46,14,48,3\n",
      "found result in cache 11 42,30,49,11|2,39,21,35,12,48,40\n",
      "found result in cache 17 9,42,2,39,34,50,14,48,20|35,30,38,3,40,21,37,22\n",
      "found result in cache 9 39,2,38,36|8,42,22,48,14\n",
      "found result in cache 29 35,18,49,11,42,17,45,13,44,25,43,26,33,16,31,24,47,29,50,7,48,14,36,27|19,41,6,46,12\n",
      "found result in cache 25 17,32,16,50,20,48,12,35,11,49,9,36,3,42,22,38,2,39,5|44,27,46,18,30,29\n",
      "found result in cache 31 49,16,36,14,42,19,38,7,39,10,32,24,37,6,47,12,43,11,50,9,48,3,35,22,26,20|5,46,18,27,17\n",
      "found result in cache 35 16,50,20,48,14,35,7,49,10,36,24,42,6,38,12,39,11,29,9,32,3,37,22,47,2,43,5|44,18,30,26,46,17,27,19\n",
      "found result in cache 33 12,47,11,50,14,48,9,49,20,36,6,38,3,39,10,44,5,37,25,43,16,41,23,31,7|30,18,35,24,32,22,27,26\n",
      "found result in cache 35 49,19,34,7,36,18,38,12,39,25,43,6,41,23,47,3,50,10,48,16,30,24|4,35,5,44,29,42,27,37,20,46,17,32,22\n",
      "found result in cache 33 22,47,12,50,11,48,14,49,9,36,20,38,6,39,3,44,10,37,2,43,5,34,19,41,23,31,7|46,18,30,24,27,26\n",
      "found result in cache 41 7,31,27,26,18,47,24,50,22,48,12,49,11,36,14,38,9,39,20,44,6,37,3,43,10,34,2,29,4,41,5|46,19,42,17,35,25,32,16,30,23\n",
      "found result in cache 13 16,47,14,50,7,28,5|46,17,39,19,32,26\n",
      "found result in cache 27 36,19,47,11,40,15,50,18,38,17,35,16,32,1,48,5,46,14,49,12,42,28,26,20|7,39,6\n",
      "found result in cache 25 50,3,48,27,46,2,40,12,49,18,39,17,32,26|19,42,22,28,11,35,5,38,20,36,1\n",
      "found result in cache 21 10,50,17,48,27,46,11,49,1,40,3,39,2|42,20,38,18,36,15,32,22\n",
      "found result in cache 35 36,12,42,5,38,17,39,19,32,16,28,14,26,7,47,6,50,11,48,9,35,10,49,3,29,20,24,22|2,46,15,40,1,27,18\n",
      "found result in cache 31 42,3,38,22,20,11,39,10,47,18,40,2,24,13,50,27,48,17,30,16,35,7,49,14,36,6,29,19|12,46,9\n",
      "found result in cache 9 39,10,22,18,20,14|12,25,9\n"
     ]
    }
   ],
   "source": [
    "a = playGameRecursive(p)"
   ]
  },
  {
   "cell_type": "code",
   "execution_count": 20,
   "metadata": {},
   "outputs": [
    {
     "output_type": "execute_result",
     "data": {
      "text/plain": [
       "34424"
      ]
     },
     "metadata": {},
     "execution_count": 20
    }
   ],
   "source": [
    "score(a[0]) \n",
    "# 5910 is too low\n",
    "# 9428 is too low"
   ]
  }
 ]
}