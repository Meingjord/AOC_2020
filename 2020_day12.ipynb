{
 "metadata": {
  "language_info": {
   "codemirror_mode": {
    "name": "ipython",
    "version": 3
   },
   "file_extension": ".py",
   "mimetype": "text/x-python",
   "name": "python",
   "nbconvert_exporter": "python",
   "pygments_lexer": "ipython3",
   "version": "3.6.2-final"
  },
  "orig_nbformat": 2,
  "kernelspec": {
   "name": "python3",
   "display_name": "Python 3",
   "language": "python"
  }
 },
 "nbformat": 4,
 "nbformat_minor": 2,
 "cells": [
  {
   "source": [
    "import pandas as pd\n",
    "import os\n",
    "import unittest\n",
    "import string\n",
    "import re\n",
    "pd.set_option('display.max_rows', 10)"
   ],
   "cell_type": "code",
   "metadata": {},
   "execution_count": 1,
   "outputs": []
  },
  {
   "cell_type": "code",
   "execution_count": 2,
   "metadata": {},
   "outputs": [
    {
     "output_type": "execute_result",
     "data": {
      "text/plain": [
       "0       W5\n",
       "1      F66\n",
       "2       S4\n",
       "3       E1\n",
       "4      F78\n",
       "      ... \n",
       "773     E3\n",
       "774     N1\n",
       "775    F60\n",
       "776    L90\n",
       "777    F62\n",
       "Length: 778, dtype: object"
      ]
     },
     "metadata": {},
     "execution_count": 2
    }
   ],
   "source": [
    "trainFile = \"F:/Code/AOC/2020/inputs/2020_day12_input.txt\"\n",
    "pwd = os.getcwd()\n",
    "os.chdir(os.path.dirname(trainFile))\n",
    "file1 = open(trainFile, 'r') \n",
    "s = file1.read().splitlines()\n",
    "pd.Series(s)"
   ]
  },
  {
   "cell_type": "code",
   "execution_count": 3,
   "metadata": {},
   "outputs": [
    {
     "output_type": "execute_result",
     "data": {
      "text/plain": [
       "0    F10\n",
       "1     N3\n",
       "2     F7\n",
       "3    R90\n",
       "4    F11\n",
       "dtype: object"
      ]
     },
     "metadata": {},
     "execution_count": 3
    }
   ],
   "source": [
    "trainFile = \"F:/Code/AOC/2020/inputs/2020_day12_example1.txt\"\n",
    "pwd = os.getcwd()\n",
    "os.chdir(os.path.dirname(trainFile))\n",
    "file1 = open(trainFile, 'r') \n",
    "s_ex1 = file1.read().splitlines()\n",
    "pd.Series(s_ex1)"
   ]
  },
  {
   "cell_type": "code",
   "execution_count": 4,
   "metadata": {},
   "outputs": [],
   "source": [
    "def parse(line):\n",
    "    return (line[0],int(line[1:]))"
   ]
  },
  {
   "cell_type": "code",
   "execution_count": 5,
   "metadata": {},
   "outputs": [
    {
     "output_type": "execute_result",
     "data": {
      "text/plain": [
       "[('F', 10), ('N', 3), ('F', 7), ('R', 90), ('F', 11)]"
      ]
     },
     "metadata": {},
     "execution_count": 5
    }
   ],
   "source": [
    "p = list(map(parse, s))\n",
    "p_ex1 = list(map(parse, s_ex1))\n",
    "p_ex1"
   ]
  },
  {
   "cell_type": "code",
   "execution_count": 6,
   "metadata": {},
   "outputs": [],
   "source": [
    "def advance(position, command):\n",
    "    x = position[0]\n",
    "    y = position[1]\n",
    "    d = position[2]\n",
    "    verb = command[0]\n",
    "    length = command[1]\n",
    "    if verb == \"E\":\n",
    "        return (x+length,y,d)\n",
    "    if verb == \"N\":\n",
    "        return (x,y+length,d)\n",
    "    if verb == \"W\":\n",
    "        return (x-length,y,d)\n",
    "    if verb == \"S\":\n",
    "        return (x,y-length,d)\n",
    "    if verb == \"R\":\n",
    "        return (x,y,(d+length)%360)\n",
    "    if verb == \"L\":\n",
    "        return (x,y,(360+d-length)%360)\n",
    "    if verb == \"F\":\n",
    "        if d == 90:\n",
    "            return (x+length,y,d)\n",
    "        if d == 0:\n",
    "            return (x,y+length,d)\n",
    "        if d == 270:\n",
    "            return (x-length,y,d)\n",
    "        if d == 180:\n",
    "            return (x,y-length,d)\n",
    "    return None"
   ]
  },
  {
   "cell_type": "code",
   "execution_count": 7,
   "metadata": {},
   "outputs": [],
   "source": [
    "def advance_list(position, input):\n",
    "    for command in input:\n",
    "        position = advance(position, command)\n",
    "    return position"
   ]
  },
  {
   "cell_type": "code",
   "execution_count": 8,
   "metadata": {},
   "outputs": [],
   "source": [
    "def score(position):\n",
    "    return abs(position[0]) + abs(position[1])"
   ]
  },
  {
   "cell_type": "code",
   "execution_count": 9,
   "metadata": {},
   "outputs": [
    {
     "output_type": "execute_result",
     "data": {
      "text/plain": [
       "25"
      ]
     },
     "metadata": {},
     "execution_count": 9
    }
   ],
   "source": [
    "score(advance_list((0,0,90), p_ex1))"
   ]
  },
  {
   "cell_type": "code",
   "execution_count": 10,
   "metadata": {},
   "outputs": [
    {
     "output_type": "execute_result",
     "data": {
      "text/plain": [
       "1603"
      ]
     },
     "metadata": {},
     "execution_count": 10
    }
   ],
   "source": [
    "score(advance_list((0,0,90), p))"
   ]
  },
  {
   "cell_type": "code",
   "execution_count": 11,
   "metadata": {},
   "outputs": [],
   "source": [
    "class PartOneTests(unittest.TestCase):\n",
    "    def setUp(self):\n",
    "        pass\n",
    "    def tearDown(self):\n",
    "        pass\n",
    "    def test_example(self):\n",
    "        self.assertEqual(25, score(advance_list((0,0,90), p_ex1)))"
   ]
  },
  {
   "cell_type": "code",
   "execution_count": 12,
   "metadata": {},
   "outputs": [
    {
     "output_type": "stream",
     "name": "stderr",
     "text": [
      "test_example (__main__.PartOneTests) ... ok\n",
      "\n",
      "----------------------------------------------------------------------\n",
      "Ran 1 test in 0.001s\n",
      "\n",
      "OK\n"
     ]
    },
    {
     "output_type": "execute_result",
     "data": {
      "text/plain": [
       "<unittest.main.TestProgram at 0x18bf30d5c50>"
      ]
     },
     "metadata": {},
     "execution_count": 12
    }
   ],
   "source": [
    "unittest.main(argv=[''], verbosity=3, exit=False)"
   ]
  },
  {
   "cell_type": "code",
   "execution_count": 13,
   "metadata": {},
   "outputs": [],
   "source": [
    "def advance_waypoint(position, command):\n",
    "    x = position[0]\n",
    "    y = position[1]\n",
    "    wx = position[2]\n",
    "    wy = position[3]\n",
    "    verb = command[0]\n",
    "    length = command[1]\n",
    "    if verb == \"E\":\n",
    "        return (x,y,wx+length,wy)\n",
    "    if verb == \"N\":\n",
    "        return (x,y,wx,wy+length)\n",
    "    if verb == \"W\":\n",
    "        return (x,y,wx-length,wy)\n",
    "    if verb == \"S\":\n",
    "        return (x,y,wx,wy-length)\n",
    "    if verb == \"R\":\n",
    "        if length == 90:\n",
    "            return (x,y,wy,-wx)\n",
    "        if length == 270:\n",
    "            return (x,y,-wy,wx)\n",
    "        if length == 180:\n",
    "            return (x,y,-wx,-wy)\n",
    "    if verb == \"L\":\n",
    "        if length == 270:\n",
    "            return (x,y,wy,-wx)\n",
    "        if length == 90:\n",
    "            return (x,y,-wy,wx)\n",
    "        if length == 180:\n",
    "            return (x,y,-wx,-wy)\n",
    "    if verb == \"F\":\n",
    "        return (x+length*wx,y+length*wy,wx,wy)\n",
    "    return None"
   ]
  },
  {
   "cell_type": "code",
   "execution_count": 14,
   "metadata": {},
   "outputs": [],
   "source": [
    "def advance_waypoint_list(position, input):\n",
    "    for command in input:\n",
    "        position = advance_waypoint(position, command)\n",
    "    return position"
   ]
  },
  {
   "cell_type": "code",
   "execution_count": 15,
   "metadata": {},
   "outputs": [
    {
     "output_type": "execute_result",
     "data": {
      "text/plain": [
       "286"
      ]
     },
     "metadata": {},
     "execution_count": 15
    }
   ],
   "source": [
    "score(advance_waypoint_list((0,0,10,1), p_ex1))"
   ]
  },
  {
   "cell_type": "code",
   "execution_count": 16,
   "metadata": {},
   "outputs": [
    {
     "output_type": "execute_result",
     "data": {
      "text/plain": [
       "52866"
      ]
     },
     "metadata": {},
     "execution_count": 16
    }
   ],
   "source": [
    "score(advance_waypoint_list((0,0,10,1), p))"
   ]
  }
 ]
}