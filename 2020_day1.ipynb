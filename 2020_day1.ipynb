{
 "metadata": {
  "language_info": {
   "codemirror_mode": {
    "name": "ipython",
    "version": 3
   },
   "file_extension": ".py",
   "mimetype": "text/x-python",
   "name": "python",
   "nbconvert_exporter": "python",
   "pygments_lexer": "ipython3",
   "version": "3.6.2-final"
  },
  "orig_nbformat": 2,
  "kernelspec": {
   "name": "python3",
   "display_name": "Python 3",
   "language": "python"
  }
 },
 "nbformat": 4,
 "nbformat_minor": 2,
 "cells": [
  {
   "source": [
    "import pandas as pd\n",
    "import os\n",
    "pd.set_option('display.max_rows', 10)"
   ],
   "cell_type": "code",
   "metadata": {},
   "execution_count": 1,
   "outputs": []
  },
  {
   "cell_type": "code",
   "execution_count": 2,
   "metadata": {},
   "outputs": [
    {
     "output_type": "execute_result",
     "data": {
      "text/plain": [
       "0      1956\n",
       "1      1994\n",
       "2       457\n",
       "3      1654\n",
       "4      2003\n",
       "       ... \n",
       "195    1782\n",
       "196    1971\n",
       "197    1438\n",
       "198    1178\n",
       "199    1306\n",
       "Name: 0, Length: 200, dtype: int64"
      ]
     },
     "metadata": {},
     "execution_count": 2
    }
   ],
   "source": [
    "trainFile = \"F:/Code/AOC/2020/inputs/2020_day1_input.txt\"\n",
    "pwd = os.getcwd()\n",
    "os.chdir(os.path.dirname(trainFile))\n",
    "trainData = pd.read_csv(os.path.basename(trainFile),header=None)\n",
    "os.chdir(pwd)\n",
    "s = trainData.iloc[:,0]\n",
    "s"
   ]
  },
  {
   "cell_type": "code",
   "execution_count": 3,
   "metadata": {},
   "outputs": [],
   "source": [
    "s_list = list(s)\n",
    "s_sorted = s_list\n",
    "s_sorted.sort()"
   ]
  },
  {
   "cell_type": "code",
   "execution_count": 4,
   "metadata": {},
   "outputs": [
    {
     "output_type": "stream",
     "name": "stdout",
     "text": [
      "found 1 115 447 1573 2020 703131\n"
     ]
    }
   ],
   "source": [
    "for i in range(len(s_sorted)):\n",
    "    for j in range(i+1,len(s_sorted)):\n",
    "        if s_sorted[i] + s_sorted[j] == 2020:\n",
    "            print(\"found\", i , j, s_sorted[i] , s_sorted[j], s_sorted[i] + s_sorted[j], s_sorted[i] * s_sorted[j])"
   ]
  },
  {
   "cell_type": "code",
   "execution_count": 5,
   "metadata": {},
   "outputs": [
    {
     "output_type": "stream",
     "name": "stdout",
     "text": [
      "found 3 4 5 481 609 930 2020 272423970\n"
     ]
    }
   ],
   "source": [
    "for i in range(len(s_sorted)):\n",
    "    for j in range(i+1,len(s_sorted)):\n",
    "        for k in range(j+1,len(s_sorted)):\n",
    "            if s_sorted[i] + s_sorted[j] + s_sorted[k] > 2020:\n",
    "                break\n",
    "            if s_sorted[i] + s_sorted[j] + s_sorted[k] == 2020:\n",
    "                print(\"found\", i , j, k, s_sorted[i] , s_sorted[j],  s_sorted[k], s_sorted[i] + s_sorted[j] + s_sorted[k], s_sorted[i] * s_sorted[j]* s_sorted[k])"
   ]
  }
 ]
}