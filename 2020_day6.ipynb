{
 "metadata": {
  "language_info": {
   "codemirror_mode": {
    "name": "ipython",
    "version": 3
   },
   "file_extension": ".py",
   "mimetype": "text/x-python",
   "name": "python",
   "nbconvert_exporter": "python",
   "pygments_lexer": "ipython3",
   "version": "3.6.2-final"
  },
  "orig_nbformat": 2,
  "kernelspec": {
   "name": "python3",
   "display_name": "Python 3",
   "language": "python"
  }
 },
 "nbformat": 4,
 "nbformat_minor": 2,
 "cells": [
  {
   "source": [
    "import pandas as pd\n",
    "import os\n",
    "import unittest\n",
    "import string\n",
    "pd.set_option('display.max_rows', 10)"
   ],
   "cell_type": "code",
   "metadata": {},
   "execution_count": 1,
   "outputs": []
  },
  {
   "cell_type": "code",
   "execution_count": 2,
   "metadata": {},
   "outputs": [
    {
     "output_type": "execute_result",
     "data": {
      "text/plain": [
       "0           iwaduermzfyc\n",
       "1              zdmrlfyau\n",
       "2             wfdzhrmauy\n",
       "3               yfzdmaru\n",
       "4       dtagqzbovprnyufm\n",
       "              ...       \n",
       "2041              ugmlsi\n",
       "2042           auiomgslf\n",
       "2043                    \n",
       "2044             tibudoa\n",
       "2045           obuatifgp\n",
       "Length: 2046, dtype: object"
      ]
     },
     "metadata": {},
     "execution_count": 2
    }
   ],
   "source": [
    "trainFile = \"F:/Code/AOC/2020/inputs/2020_day6_input.txt\"\n",
    "pwd = os.getcwd()\n",
    "os.chdir(os.path.dirname(trainFile))\n",
    "file1 = open(trainFile, 'r') \n",
    "s = file1.read().splitlines()\n",
    "pd.Series(s)"
   ]
  },
  {
   "cell_type": "code",
   "execution_count": 3,
   "metadata": {},
   "outputs": [
    {
     "output_type": "execute_result",
     "data": {
      "text/plain": [
       "['abc', '', 'a', 'b', 'c', '', 'ab', 'ac', '', 'a', 'a', 'a', 'a', '', 'b']"
      ]
     },
     "metadata": {},
     "execution_count": 3
    }
   ],
   "source": [
    "example_part_one = [\"abc\",\"\",\"a\",\"b\",\"c\",\"\",\"ab\",\"ac\",\"\",\"a\",\"a\",\"a\",\"a\",\"\",\"b\"]\n",
    "example_part_one"
   ]
  },
  {
   "cell_type": "code",
   "execution_count": 4,
   "metadata": {},
   "outputs": [],
   "source": [
    "def make_groups(lines):\n",
    "    groups = []\n",
    "    group = []\n",
    "    for line in lines:\n",
    "        line = line.strip()\n",
    "        if len(line) > 0:\n",
    "            group.append(line)\n",
    "        else:\n",
    "            groups.append(group)\n",
    "            group = []\n",
    "    if len(group) > 0:\n",
    "        groups.append(group)\n",
    "    return groups"
   ]
  },
  {
   "cell_type": "code",
   "execution_count": 5,
   "metadata": {},
   "outputs": [],
   "source": [
    "def count_shared_answers(group):\n",
    "    shared_answers = []\n",
    "    for line in group:\n",
    "        for c in line:\n",
    "            if not c in shared_answers:\n",
    "                shared_answers.append(c)\n",
    "    return len(shared_answers)"
   ]
  },
  {
   "cell_type": "code",
   "execution_count": 6,
   "metadata": {},
   "outputs": [],
   "source": [
    "class PartOneTests(unittest.TestCase):\n",
    "    def setUp(self):\n",
    "        pass\n",
    "    def tearDown(self):\n",
    "        pass\n",
    "    def test_examples(self):\n",
    "        example_groups = make_groups(example_part_one)\n",
    "        self.assertEqual(5, len(example_groups))\n",
    "        self.assertEqual(11, sum(map(count_shared_answers, example_groups)))        "
   ]
  },
  {
   "cell_type": "code",
   "execution_count": 7,
   "metadata": {},
   "outputs": [],
   "source": [
    "def count_common_answers(group):\n",
    "    shared_answers = []\n",
    "    for line in group:\n",
    "        for c in line:\n",
    "            if not c in shared_answers:\n",
    "                shared_answers.append(c)\n",
    "    count_common = 0\n",
    "    for c in shared_answers:\n",
    "        shared = True\n",
    "        for line in group:\n",
    "            if not c in line:\n",
    "                shared = False\n",
    "        if shared:            \n",
    "            count_common += 1\n",
    "    return count_common"
   ]
  },
  {
   "cell_type": "code",
   "execution_count": 8,
   "metadata": {},
   "outputs": [],
   "source": [
    "class PartTwoTests(unittest.TestCase):    \n",
    "    def test_examples(self):\n",
    "        example_groups = make_groups(example_part_one)\n",
    "        self.assertEqual(6, sum(map(count_common_answers, example_groups)))     "
   ]
  },
  {
   "cell_type": "code",
   "execution_count": 9,
   "metadata": {},
   "outputs": [
    {
     "output_type": "stream",
     "name": "stderr",
     "text": [
      "test_examples (__main__.PartOneTests) ... ok\n",
      "test_examples (__main__.PartTwoTests) ... ok\n",
      "\n",
      "----------------------------------------------------------------------\n",
      "Ran 2 tests in 0.002s\n",
      "\n",
      "OK\n"
     ]
    },
    {
     "output_type": "execute_result",
     "data": {
      "text/plain": [
       "<unittest.main.TestProgram at 0x20499dc2438>"
      ]
     },
     "metadata": {},
     "execution_count": 9
    }
   ],
   "source": [
    "unittest.main(argv=[''], verbosity=3, exit=False)"
   ]
  },
  {
   "cell_type": "code",
   "execution_count": 10,
   "metadata": {},
   "outputs": [
    {
     "output_type": "execute_result",
     "data": {
      "text/plain": [
       "6625"
      ]
     },
     "metadata": {},
     "execution_count": 10
    }
   ],
   "source": [
    "groups_part1 = make_groups(s)\n",
    "sum(map(count_shared_answers, groups_part1))"
   ]
  },
  {
   "cell_type": "code",
   "execution_count": 11,
   "metadata": {},
   "outputs": [
    {
     "output_type": "execute_result",
     "data": {
      "text/plain": [
       "3360"
      ]
     },
     "metadata": {},
     "execution_count": 11
    }
   ],
   "source": [
    "sum(map(count_common_answers, groups_part1))"
   ]
  }
 ]
}