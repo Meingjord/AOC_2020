{
 "metadata": {
  "language_info": {
   "codemirror_mode": {
    "name": "ipython",
    "version": 3
   },
   "file_extension": ".py",
   "mimetype": "text/x-python",
   "name": "python",
   "nbconvert_exporter": "python",
   "pygments_lexer": "ipython3",
   "version": "3.6.2-final"
  },
  "orig_nbformat": 2,
  "kernelspec": {
   "name": "python3",
   "display_name": "Python 3",
   "language": "python"
  }
 },
 "nbformat": 4,
 "nbformat_minor": 2,
 "cells": [
  {
   "source": [
    "import pandas as pd\n",
    "import os\n",
    "pd.set_option('display.max_rows', 10)"
   ],
   "cell_type": "code",
   "metadata": {},
   "execution_count": 1,
   "outputs": []
  },
  {
   "cell_type": "code",
   "execution_count": 2,
   "metadata": {},
   "outputs": [
    {
     "output_type": "execute_result",
     "data": {
      "text/plain": [
       "0      .........#..##.##..............\n",
       "1      #...#.#..#.....................\n",
       "2      .#...#..#...................#..\n",
       "3      ........##..#...#..............\n",
       "4      .#.#.....#..#..##......#.......\n",
       "                    ...               \n",
       "318    ............#.#.....####.##....\n",
       "319    ....#......###....#...#....#...\n",
       "320    #.....#..#.....#..#...#.......#\n",
       "321    ..#.#...#....#....##..#...##...\n",
       "322    .##..#..#..##....##...#........\n",
       "Name: 0, Length: 323, dtype: object"
      ]
     },
     "metadata": {},
     "execution_count": 2
    }
   ],
   "source": [
    "trainFile = \"F:/Code/AOC/2020/inputs/2020_day3_input.txt\"\n",
    "pwd = os.getcwd()\n",
    "os.chdir(os.path.dirname(trainFile))\n",
    "trainData = pd.read_csv(os.path.basename(trainFile),header=None)\n",
    "os.chdir(pwd)\n",
    "s = list(trainData.iloc[:,0])\n",
    "trainData.iloc[:,0]"
   ]
  },
  {
   "cell_type": "code",
   "execution_count": 3,
   "metadata": {},
   "outputs": [
    {
     "output_type": "stream",
     "name": "stdout",
     "text": [
      "Dimensions 323 31\n"
     ]
    }
   ],
   "source": [
    "dx = 3\n",
    "dy = 1\n",
    "rows = len(s)\n",
    "cols = len(s[0])\n",
    "print(\"Dimensions\",rows, cols)\n"
   ]
  },
  {
   "cell_type": "code",
   "execution_count": 4,
   "metadata": {},
   "outputs": [
    {
     "output_type": "stream",
     "name": "stdout",
     "text": [
      "268\n"
     ]
    }
   ],
   "source": [
    "trees = 0\n",
    "x=0\n",
    "y=0\n",
    "while y < rows:\n",
    "    if s[y][x] == '#':\n",
    "        trees += 1\n",
    "    x = (x + 3) % cols\n",
    "    y = y + 1\n",
    "print (trees)"
   ]
  },
  {
   "cell_type": "code",
   "execution_count": 5,
   "metadata": {},
   "outputs": [],
   "source": [
    "def check_slope(input, dx, dy):\n",
    "    rows = len(input)\n",
    "    cols = len(input[0])\n",
    "    print(\"Dimensions\",rows, cols)\n",
    "    trees = 0\n",
    "    x=0\n",
    "    y=0\n",
    "    while y < rows:\n",
    "        if input[y][x] == '#':\n",
    "            trees += 1\n",
    "        x = (x + dx) % cols\n",
    "        y = y + dy\n",
    "    print (\"Trees\", trees)\n",
    "    return trees"
   ]
  },
  {
   "cell_type": "code",
   "execution_count": 6,
   "metadata": {},
   "outputs": [
    {
     "output_type": "stream",
     "name": "stdout",
     "text": [
      "Dimensions 323 31\nTrees 268\n"
     ]
    },
    {
     "output_type": "execute_result",
     "data": {
      "text/plain": [
       "268"
      ]
     },
     "metadata": {},
     "execution_count": 6
    }
   ],
   "source": [
    "check_slope(s, 3,1 )"
   ]
  },
  {
   "cell_type": "code",
   "execution_count": 7,
   "metadata": {},
   "outputs": [
    {
     "output_type": "stream",
     "name": "stdout",
     "text": [
      "Dimensions 323 31\nTrees 68\nDimensions 323 31\nTrees 268\nDimensions 323 31\nTrees 73\nDimensions 323 31\nTrees 75\nDimensions 323 31\nTrees 31\n"
     ]
    },
    {
     "output_type": "execute_result",
     "data": {
      "text/plain": [
       "3093068400"
      ]
     },
     "metadata": {},
     "execution_count": 7
    }
   ],
   "source": [
    "check_slope(s, 1,1 ) * check_slope(s, 3,1 ) * check_slope(s, 5,1 ) * check_slope(s, 7,1 ) * check_slope(s, 1,2 )"
   ]
  }
 ]
}