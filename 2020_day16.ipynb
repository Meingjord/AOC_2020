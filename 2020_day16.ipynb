{
 "metadata": {
  "language_info": {
   "codemirror_mode": {
    "name": "ipython",
    "version": 3
   },
   "file_extension": ".py",
   "mimetype": "text/x-python",
   "name": "python",
   "nbconvert_exporter": "python",
   "pygments_lexer": "ipython3",
   "version": "3.6.2-final"
  },
  "orig_nbformat": 2,
  "kernelspec": {
   "name": "python3",
   "display_name": "Python 3",
   "language": "python"
  }
 },
 "nbformat": 4,
 "nbformat_minor": 2,
 "cells": [
  {
   "source": [
    "import pandas as pd\n",
    "import os\n",
    "import unittest\n",
    "import string\n",
    "import re\n",
    "pd.set_option('display.max_rows', 10)"
   ],
   "cell_type": "code",
   "metadata": {},
   "execution_count": 1,
   "outputs": []
  },
  {
   "cell_type": "code",
   "execution_count": 2,
   "metadata": {},
   "outputs": [
    {
     "output_type": "execute_result",
     "data": {
      "text/plain": [
       "0                  departure location: 49-239 or 247-960\n",
       "1                   departure station: 43-135 or 155-963\n",
       "2                  departure platform: 27-426 or 449-955\n",
       "3                     departure track: 43-655 or 680-949\n",
       "4                      departure date: 49-159 or 175-970\n",
       "                             ...                        \n",
       "255    938,409,408,854,564,638,742,848,914,885,343,80...\n",
       "256    350,132,932,390,71,211,58,233,941,904,944,280,...\n",
       "257    508,561,712,859,495,884,653,934,102,911,703,32...\n",
       "258    298,541,103,248,694,226,630,796,116,864,887,19...\n",
       "259    572,367,922,916,416,116,859,589,587,633,688,27...\n",
       "Length: 260, dtype: object"
      ]
     },
     "metadata": {},
     "execution_count": 2
    }
   ],
   "source": [
    "trainFile = \"F:/Code/AOC/2020/inputs/2020_day16_input.txt\"\n",
    "pwd = os.getcwd()\n",
    "os.chdir(os.path.dirname(trainFile))\n",
    "file1 = open(trainFile, 'r') \n",
    "s = file1.read().splitlines()\n",
    "pd.Series(s)"
   ]
  },
  {
   "cell_type": "code",
   "execution_count": 3,
   "metadata": {},
   "outputs": [
    {
     "output_type": "execute_result",
     "data": {
      "text/plain": [
       "0        class: 1-3 or 5-7\n",
       "1       row: 6-11 or 33-44\n",
       "2     seat: 13-40 or 45-50\n",
       "3                         \n",
       "4             your ticket:\n",
       "              ...         \n",
       "7          nearby tickets:\n",
       "8                   7,3,47\n",
       "9                  40,4,50\n",
       "10                 55,2,20\n",
       "11                 38,6,12\n",
       "Length: 12, dtype: object"
      ]
     },
     "metadata": {},
     "execution_count": 3
    }
   ],
   "source": [
    "trainFile = \"F:/Code/AOC/2020/inputs/2020_day16_example1.txt\"\n",
    "pwd = os.getcwd()\n",
    "os.chdir(os.path.dirname(trainFile))\n",
    "file1 = open(trainFile, 'r') \n",
    "s_ex1 = file1.read().splitlines()\n",
    "pd.Series(s_ex1)"
   ]
  },
  {
   "cell_type": "code",
   "execution_count": 4,
   "metadata": {},
   "outputs": [
    {
     "output_type": "execute_result",
     "data": {
      "text/plain": [
       "0      class: 0-1 or 4-19\n",
       "1        row: 0-5 or 8-19\n",
       "2     seat: 0-13 or 16-19\n",
       "3                        \n",
       "4            your ticket:\n",
       "             ...         \n",
       "6                        \n",
       "7         nearby tickets:\n",
       "8                  3,9,18\n",
       "9                  15,1,5\n",
       "10                 5,14,9\n",
       "Length: 11, dtype: object"
      ]
     },
     "metadata": {},
     "execution_count": 4
    }
   ],
   "source": [
    "trainFile = \"F:/Code/AOC/2020/inputs/2020_day16_example2.txt\"\n",
    "pwd = os.getcwd()\n",
    "os.chdir(os.path.dirname(trainFile))\n",
    "file2 = open(trainFile, 'r') \n",
    "s_ex2 = file2.read().splitlines()\n",
    "pd.Series(s_ex2)"
   ]
  },
  {
   "cell_type": "code",
   "execution_count": 5,
   "metadata": {},
   "outputs": [],
   "source": [
    "def parseField(line):   \n",
    "    pattern = '(.*): (\\\\d+)-(\\\\d+) or (\\\\d+)-(\\\\d+)'\n",
    "    matches = re.match(pattern, line)\n",
    "    name = matches.group(1)\n",
    "    l1 = int(matches.group(2))\n",
    "    l2 = int(matches.group(3))\n",
    "    r1 = int(matches.group(4))\n",
    "    r2 = int(matches.group(5))\n",
    "    return (name, l1, l2, r1, r2)\n",
    "\n",
    "\n",
    "def parse(lines):\n",
    "    fields = []\n",
    "    my_ticket = None\n",
    "    nearby_tickets = []\n",
    "    for i in range(0,len(lines)):\n",
    "        line = lines[i].strip()        \n",
    "        if line.count(\": \") > 0:\n",
    "            fields.append(parseField(line))\n",
    "            continue\n",
    "        parts = line.split(\",\")\n",
    "        if line.count(\",\") > 0:\n",
    "            ticket = list(map(int,parts))\n",
    "            if my_ticket == None:\n",
    "                my_ticket = ticket\n",
    "            else:\n",
    "                nearby_tickets.append(ticket)\n",
    "    return (fields, my_ticket, nearby_tickets)"
   ]
  },
  {
   "cell_type": "code",
   "execution_count": 6,
   "metadata": {},
   "outputs": [
    {
     "output_type": "execute_result",
     "data": {
      "text/plain": [
       "([('class', 1, 3, 5, 7), ('row', 6, 11, 33, 44), ('seat', 13, 40, 45, 50)],\n",
       " [7, 1, 14],\n",
       " [[7, 3, 47], [40, 4, 50], [55, 2, 20], [38, 6, 12]])"
      ]
     },
     "metadata": {},
     "execution_count": 6
    }
   ],
   "source": [
    "p = parse(s)\r\n",
    "p_ex1 = parse(s_ex1)\r\n",
    "p_ex1"
   ]
  },
  {
   "cell_type": "code",
   "execution_count": 7,
   "metadata": {},
   "outputs": [],
   "source": [
    "def isValid(field, value):\n",
    "    return (field[1] <= value and value <= field[2]) or (field[3] <= value and value <= field[4])"
   ]
  },
  {
   "cell_type": "code",
   "execution_count": 8,
   "metadata": {},
   "outputs": [],
   "source": [
    "def sumInvalidFields(fields, ticket):\n",
    "    result = 0\n",
    "    isInvalid = False\n",
    "    for value in ticket:\n",
    "        found = False\n",
    "        for f in fields:\n",
    "            if isValid(f, value):\n",
    "                found = True\n",
    "        if not found:\n",
    "            result += value\n",
    "            isInvalid = True\n",
    "    return (result,isInvalid)"
   ]
  },
  {
   "cell_type": "code",
   "execution_count": 9,
   "metadata": {},
   "outputs": [],
   "source": [
    "def calculatePartOne(input):\n",
    "    result = 0\n",
    "    fields = input[0]\n",
    "    other = input[2]\n",
    "    for ticket in other:\n",
    "        result += sumInvalidFields(fields, ticket)[0]\n",
    "    return result"
   ]
  },
  {
   "cell_type": "code",
   "execution_count": 10,
   "metadata": {},
   "outputs": [
    {
     "output_type": "execute_result",
     "data": {
      "text/plain": [
       "71"
      ]
     },
     "metadata": {},
     "execution_count": 10
    }
   ],
   "source": [
    "calculatePartOne(p_ex1)"
   ]
  },
  {
   "cell_type": "code",
   "execution_count": 11,
   "metadata": {},
   "outputs": [
    {
     "output_type": "execute_result",
     "data": {
      "text/plain": [
       "22977"
      ]
     },
     "metadata": {},
     "execution_count": 11
    }
   ],
   "source": [
    "calculatePartOne(p)"
   ]
  },
  {
   "cell_type": "code",
   "execution_count": 12,
   "metadata": {},
   "outputs": [],
   "source": [
    "def getValidTickets(input):\n",
    "    result = []\n",
    "    fields = input[0]\n",
    "    other = input[2]\n",
    "    for ticket in other:\n",
    "        invalid = sumInvalidFields(fields, ticket)[1]\n",
    "        if not invalid:\n",
    "            result.append(ticket)\n",
    "    #result.append(input[1])\n",
    "    return result"
   ]
  },
  {
   "cell_type": "code",
   "execution_count": 13,
   "metadata": {},
   "outputs": [],
   "source": [
    "def getPossibleFields(fields, validTickets, i):\n",
    "    possibilities = []\n",
    "    for f in range(0,len(fields)):\n",
    "        field = fields[f]            \n",
    "        validForAll = True\n",
    "        for t in validTickets:            \n",
    "            ticket_value = t[i]\n",
    "            if not isValid(field, ticket_value):\n",
    "                validForAll = False\n",
    "                #print(\"invalid\", field, ticket_value)\n",
    "                break\n",
    "            else:\n",
    "                #print(\"valid\", field, ticket_value)\n",
    "                pass\n",
    "        #print(\"===field===\" , field, validForAll)\n",
    "        if validForAll:\n",
    "            possibilities.append(f)\n",
    "    return possibilities\n",
    "\n",
    "def matchFields(input):\n",
    "    validTickets = getValidTickets(input)\n",
    "    fields = input[0]\n",
    "    my_ticket = input[1]\n",
    "    result = []\n",
    "    for i in range(0,len(my_ticket)):\n",
    "        #print(\"checking column\" ,i)\n",
    "        possibilities = getPossibleFields(fields, validTickets, i)\n",
    "        result.append(possibilities)\n",
    "    return result"
   ]
  },
  {
   "cell_type": "code",
   "execution_count": 14,
   "metadata": {},
   "outputs": [
    {
     "output_type": "execute_result",
     "data": {
      "text/plain": [
       "([('class', 0, 1, 4, 19), ('row', 0, 5, 8, 19), ('seat', 0, 13, 16, 19)],\n",
       " [11, 12, 13],\n",
       " [[3, 9, 18], [15, 1, 5], [5, 14, 9]])"
      ]
     },
     "metadata": {},
     "execution_count": 14
    }
   ],
   "source": [
    "p_ex2 = parse(s_ex2)\n",
    "p_ex2"
   ]
  },
  {
   "cell_type": "code",
   "execution_count": 15,
   "metadata": {},
   "outputs": [
    {
     "output_type": "execute_result",
     "data": {
      "text/plain": [
       "[[1], [0, 1], [0, 1, 2]]"
      ]
     },
     "metadata": {},
     "execution_count": 15
    }
   ],
   "source": [
    "matchFields(p_ex2)"
   ]
  },
  {
   "cell_type": "code",
   "execution_count": 16,
   "metadata": {},
   "outputs": [
    {
     "output_type": "execute_result",
     "data": {
      "text/plain": [
       "[[8, 10, 14, 19],\n",
       " [3, 7, 8, 10, 14, 18, 19],\n",
       " [0, 1, 2, 3, 4, 5, 7, 8, 10, 11, 13, 14, 18, 19],\n",
       " [7, 8, 10, 14, 18, 19],\n",
       " [2, 3, 4, 7, 8, 10, 14, 18, 19],\n",
       " [8, 10, 19],\n",
       " [0, 1, 2, 3, 4, 5, 7, 8, 9, 10, 11, 13, 14, 15, 16, 17, 18, 19],\n",
       " [0, 1, 2, 3, 4, 5, 6, 7, 8, 9, 10, 11, 12, 13, 14, 15, 16, 17, 18, 19],\n",
       " [0, 1, 2, 3, 4, 5, 7, 8, 9, 10, 11, 12, 13, 14, 15, 16, 17, 18, 19],\n",
       " [0, 1, 2, 3, 4, 5, 7, 8, 9, 10, 11, 13, 14, 16, 18, 19],\n",
       " [0, 1, 2, 3, 4, 5, 7, 8, 9, 10, 11, 13, 14, 15, 16, 18, 19],\n",
       " [8, 19],\n",
       " [19],\n",
       " [0, 2, 3, 4, 7, 8, 10, 14, 18, 19],\n",
       " [0, 1, 2, 3, 4, 5, 7, 8, 10, 14, 18, 19],\n",
       " [2, 3, 7, 8, 10, 14, 18, 19],\n",
       " [0, 1, 2, 3, 4, 5, 7, 8, 10, 13, 14, 18, 19],\n",
       " [0, 2, 3, 4, 5, 7, 8, 10, 14, 18, 19],\n",
       " [0, 1, 2, 3, 4, 5, 7, 8, 9, 10, 11, 13, 14, 18, 19],\n",
       " [8, 10, 14, 18, 19]]"
      ]
     },
     "metadata": {},
     "execution_count": 16
    }
   ],
   "source": [
    "q = matchFields(p)\n",
    "q"
   ]
  },
  {
   "cell_type": "code",
   "execution_count": 17,
   "metadata": {},
   "outputs": [],
   "source": [
    "def reduce(input):\n",
    "    current = input[:]\n",
    "    for i in range(0,len(input)):\n",
    "        next = current[:]\n",
    "        for j in range(0,len(input)):\n",
    "            choices = current[j]\n",
    "            if len(choices) == 1:\n",
    "                singleton = choices[0]\n",
    "                for k in range(0,len(input)):\n",
    "                    if k != j and singleton in next[k]:                        \n",
    "                        next[k].remove(singleton)\n",
    "        current = next[:]\n",
    "        next = current[:]\n",
    "        for j in range(0,len(input)):\n",
    "            count = 0\n",
    "            for k in range(0,len(input)):\n",
    "                if j in current[k]:\n",
    "                    count += 1\n",
    "            if count == 1:\n",
    "                singleton = j\n",
    "                for k in range(0,len(input)):\n",
    "                    if singleton in current[k]:\n",
    "                        next[k] = [singleton]\n",
    "        current = next[:]\n",
    "    return current"
   ]
  },
  {
   "cell_type": "code",
   "execution_count": 18,
   "metadata": {},
   "outputs": [
    {
     "output_type": "execute_result",
     "data": {
      "text/plain": [
       "[[14],\n",
       " [3],\n",
       " [11],\n",
       " [7],\n",
       " [4],\n",
       " [10],\n",
       " [17],\n",
       " [6],\n",
       " [12],\n",
       " [16],\n",
       " [15],\n",
       " [8],\n",
       " [19],\n",
       " [0],\n",
       " [1],\n",
       " [2],\n",
       " [13],\n",
       " [5],\n",
       " [9],\n",
       " [18]]"
      ]
     },
     "metadata": {},
     "execution_count": 18
    }
   ],
   "source": [
    "reduce(q)"
   ]
  },
  {
   "cell_type": "code",
   "execution_count": 19,
   "metadata": {},
   "outputs": [
    {
     "output_type": "execute_result",
     "data": {
      "text/plain": [
       "[14, 3, 11, 7, 4, 10, 17, 6, 12, 16, 15, 8, 19, 0, 1, 2, 13, 5, 9, 18]"
      ]
     },
     "metadata": {},
     "execution_count": 19
    }
   ],
   "source": [
    "#help = [14,3,11,7,4,10,17,6,12,16,15,8,19,0,1,2,13,5,9,18]\n",
    "help = []\n",
    "for k in reduce(q):\n",
    "    help.append(k[0])\n",
    "help"
   ]
  },
  {
   "cell_type": "code",
   "execution_count": 20,
   "metadata": {},
   "outputs": [],
   "source": [
    "def solvePartTwo(input):\n",
    "    result = 1\n",
    "    my_ticket = input[1]\n",
    "    for i in range(0,len(help)):\n",
    "        if help[i] < 6:\n",
    "            result *= my_ticket[i]\n",
    "    return result"
   ]
  },
  {
   "cell_type": "code",
   "execution_count": 21,
   "metadata": {},
   "outputs": [
    {
     "output_type": "execute_result",
     "data": {
      "text/plain": [
       "998358379943"
      ]
     },
     "metadata": {},
     "execution_count": 21
    }
   ],
   "source": [
    "solvePartTwo(p)"
   ]
  }
 ]
}