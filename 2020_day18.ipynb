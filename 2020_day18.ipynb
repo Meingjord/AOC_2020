{
 "metadata": {
  "language_info": {
   "codemirror_mode": {
    "name": "ipython",
    "version": 3
   },
   "file_extension": ".py",
   "mimetype": "text/x-python",
   "name": "python",
   "nbconvert_exporter": "python",
   "pygments_lexer": "ipython3",
   "version": "3.6.2-final"
  },
  "orig_nbformat": 2,
  "kernelspec": {
   "name": "python3",
   "display_name": "Python 3",
   "language": "python"
  }
 },
 "nbformat": 4,
 "nbformat_minor": 2,
 "cells": [
  {
   "source": [
    "import pandas as pd\n",
    "import os\n",
    "import unittest\n",
    "import string\n",
    "import re\n",
    "import copy\n",
    "pd.set_option('display.max_rows', 10)"
   ],
   "cell_type": "code",
   "metadata": {},
   "execution_count": 1,
   "outputs": []
  },
  {
   "cell_type": "code",
   "execution_count": 2,
   "metadata": {},
   "outputs": [
    {
     "output_type": "execute_result",
     "data": {
      "text/plain": [
       "0              9 + 3 * (9 * (9 + 3 + 5 * 3) * 5 * 3 * 5)\n",
       "1      5 + 9 * 7 + 5 + 7 + (6 * (4 * 9 + 5 * 7 + 7 + ...\n",
       "2      3 + (5 * 3 + 5 + 5 * 2 + 2) * 8 * (7 * 7 * 7 * 2)\n",
       "3      (7 * (4 + 8 + 6)) + 5 + (5 * 6 + 6 + (6 * 7 + ...\n",
       "4      (5 + 2 * (3 + 5 * 3 + 7 + 6 * 8) * 9 + 6) + (7...\n",
       "                             ...                        \n",
       "371    5 + 4 + 3 * (3 * (6 * 8 * 9 * 2 * 4 * 9) + 6 *...\n",
       "372    (9 * 4 * 7 + 8 * (8 + 9 + 6 * 7) * 6) + 7 + 3 * 8\n",
       "373            2 * 8 + (6 * 4 * 6 * 5 * 6 * (3 * 4 + 7))\n",
       "374    (6 * (2 + 2) + 5) * (6 + 9 * 4 * 8 + 3 + 7) * ...\n",
       "375    2 + (4 * 8 * 7 + (8 * 8 * 4) * 2 * (2 + 6 + 7 ...\n",
       "Length: 376, dtype: object"
      ]
     },
     "metadata": {},
     "execution_count": 2
    }
   ],
   "source": [
    "trainFile = \"F:/Code/AOC/2020/inputs/2020_day18_input.txt\"\n",
    "pwd = os.getcwd()\n",
    "os.chdir(os.path.dirname(trainFile))\n",
    "file1 = open(trainFile, 'r') \n",
    "s = file1.read().splitlines()\n",
    "pd.Series(s)"
   ]
  },
  {
   "cell_type": "code",
   "execution_count": 3,
   "metadata": {},
   "outputs": [
    {
     "output_type": "execute_result",
     "data": {
      "text/plain": [
       "0                              1 + 2 * 3 + 4 * 5 + 6\n",
       "1                        1 + (2 * 3) + (4 * (5 + 6))\n",
       "2                                    2 * 3 + (4 * 5)\n",
       "3                        5 + (8 * 3 + 9 + 3 * 4 * 3)\n",
       "4          5 * 9 * (7 * 3 * 3 + 9 * 3 + (8 + 6 * 4))\n",
       "5    ((2 + 4 * 9) * (6 + 9 * 8 + 6) + 6) + 2 + 4 * 2\n",
       "dtype: object"
      ]
     },
     "metadata": {},
     "execution_count": 3
    }
   ],
   "source": [
    "trainFile = \"F:/Code/AOC/2020/inputs/2020_day18_example1.txt\"\n",
    "pwd = os.getcwd()\n",
    "os.chdir(os.path.dirname(trainFile))\n",
    "file1 = open(trainFile, 'r') \n",
    "s_ex1 = file1.read().splitlines()\n",
    "pd.Series(s_ex1)"
   ]
  },
  {
   "cell_type": "code",
   "execution_count": 5,
   "metadata": {},
   "outputs": [],
   "source": [
    "def parse(input):\n",
    "    input = input + \" \"\n",
    "    result = []\n",
    "    element = \"\"\n",
    "    depth = 0\n",
    "    start_bracket = 0\n",
    "    for i in range(0,len(input)):\n",
    "        if depth > 0:\n",
    "            if input[i] == \"(\":\n",
    "                depth += 1\n",
    "            elif input[i] == \")\":\n",
    "                depth -= 1\n",
    "            if depth == 0:                \n",
    "                substring = input[start_bracket+1:i]\n",
    "                #print(start_bracket,i, substring)\n",
    "                result.append(parse(substring))\n",
    "                element = \"\"\n",
    "        elif input[i] == \"*\":\n",
    "            result.append(input[i])\n",
    "            element = \"\"\n",
    "        elif input[i] == \"+\":\n",
    "            result.append(input[i])\n",
    "            element = \"\"\n",
    "        elif input[i] == \"(\":\n",
    "            depth += 1\n",
    "            start_bracket = i\n",
    "        elif input[i] == \" \":\n",
    "            if len(element) > 0:\n",
    "                result.append(int(element))\n",
    "            element = \"\"\n",
    "        else:\n",
    "            element = element + input[i]\n",
    "    return result"
   ]
  },
  {
   "cell_type": "code",
   "execution_count": 6,
   "metadata": {},
   "outputs": [],
   "source": [
    "def calculatePosishReverse(data):\n",
    "    result = 0\n",
    "    if len(data) == 1:\n",
    "        return data[0]\n",
    "    else:\n",
    "        o = data[-1]\n",
    "        if o == \"*\":\n",
    "            return calculate(data[0:-2]) * data[-2]\n",
    "        if o == \"+\":\n",
    "            return calculate(data[0:-2]) + data[-2]\n",
    "        return None"
   ]
  },
  {
   "cell_type": "code",
   "execution_count": 7,
   "metadata": {},
   "outputs": [],
   "source": [
    "def calculate(data):\n",
    "    #print(\"Calculating \" , data)\n",
    "    result = 0\n",
    "    if isinstance(data,int):\n",
    "        return data\n",
    "    if len(data) == 1:        \n",
    "        return calculate(data[0])\n",
    "    else:\n",
    "        o = data[-2]\n",
    "        left = calculate(data[0:-2])\n",
    "        right = calculate(data[-1])\n",
    "        #print(\"subresult\", data[0:-2], o, data[-1])\n",
    "        #print(\"left expansion\" , data[0:-2], left)\n",
    "        if o == \"*\":\n",
    "            return left * right\n",
    "        if o == \"+\":\n",
    "            return left + right\n",
    "        return None"
   ]
  },
  {
   "cell_type": "code",
   "execution_count": 8,
   "metadata": {},
   "outputs": [
    {
     "output_type": "stream",
     "name": "stdout",
     "text": [
      "ANSWER 71\nANSWER 51\nANSWER 26\nANSWER 437\nANSWER 12240\nANSWER 13632\n"
     ]
    }
   ],
   "source": [
    "for line in s_ex1:\r\n",
    "    data = parse(line)\r\n",
    "    #print(\"----------------------------------------\")\r\n",
    "    #print(data)    \r\n",
    "    answer = calculate(data)\r\n",
    "    print(\"ANSWER\" , answer)"
   ]
  },
  {
   "cell_type": "code",
   "execution_count": 9,
   "metadata": {},
   "outputs": [],
   "source": [
    "def parseAndEvaluate(line):\n",
    "    data = parse(line)\n",
    "    return calculate(data)"
   ]
  },
  {
   "cell_type": "code",
   "execution_count": 10,
   "metadata": {},
   "outputs": [
    {
     "output_type": "execute_result",
     "data": {
      "text/plain": [
       "3647606140187"
      ]
     },
     "metadata": {},
     "execution_count": 10
    }
   ],
   "source": [
    "sum(map(parseAndEvaluate,s))"
   ]
  },
  {
   "cell_type": "code",
   "execution_count": 11,
   "metadata": {},
   "outputs": [],
   "source": [
    "def addBrackets(data):\n",
    "    if isinstance(data,int):\n",
    "        return data\n",
    "    if len(data) > 3:\n",
    "        if data[1] == \"+\":\n",
    "            result = [[addBrackets(data[0]),\"+\",addBrackets(data[2])]]\n",
    "            for d in data[3:]:\n",
    "                result.append(d)\n",
    "            #print (data , \"==+==> \", result)\n",
    "            return addBrackets(result)\n",
    "        else:\n",
    "            result = [ data[0] , \"*\", addBrackets(data[2:]) ]\n",
    "            #print (data , \"==*==> \", result)\n",
    "            return addBrackets(result)\n",
    "    if len(data) == 3:\n",
    "        return [addBrackets(data[0]), data[1], addBrackets(data[2])]\n",
    "    else:\n",
    "        return data    "
   ]
  },
  {
   "cell_type": "code",
   "execution_count": 12,
   "metadata": {},
   "outputs": [
    {
     "output_type": "stream",
     "name": "stdout",
     "text": [
      "----------------------------------------\nANSWER 231\n----------------------------------------\nANSWER 51\n----------------------------------------\nANSWER 46\n----------------------------------------\nANSWER 1445\n----------------------------------------\nANSWER 669060\n----------------------------------------\nANSWER 23340\n"
     ]
    }
   ],
   "source": [
    "for line in s_ex1:\n",
    "    data = parse(line)\n",
    "    print(\"----------------------------------------\")\n",
    "    #print(data)    \n",
    "    prioData = addBrackets(data)\n",
    "    #print(\"-------------------RESULT---------------\")\n",
    "    #print(data)\n",
    "    #print(prioData)\n",
    "    answer = calculate(prioData)\n",
    "    print(\"ANSWER\" , answer)"
   ]
  },
  {
   "cell_type": "code",
   "execution_count": 13,
   "metadata": {},
   "outputs": [],
   "source": [
    "def parseAndBracketsAndEvaluate(line):\n",
    "    data = parse(line)\n",
    "    prioData = addBrackets(data)\n",
    "    return calculate(prioData)"
   ]
  },
  {
   "cell_type": "code",
   "execution_count": 14,
   "metadata": {},
   "outputs": [
    {
     "output_type": "execute_result",
     "data": {
      "text/plain": [
       "323802071857594"
      ]
     },
     "metadata": {},
     "execution_count": 14
    }
   ],
   "source": [
    "sum(map(parseAndBracketsAndEvaluate,s))"
   ]
  }
 ]
}