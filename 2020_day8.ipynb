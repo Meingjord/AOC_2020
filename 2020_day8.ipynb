{
 "metadata": {
  "language_info": {
   "codemirror_mode": {
    "name": "ipython",
    "version": 3
   },
   "file_extension": ".py",
   "mimetype": "text/x-python",
   "name": "python",
   "nbconvert_exporter": "python",
   "pygments_lexer": "ipython3",
   "version": "3.6.2-final"
  },
  "orig_nbformat": 2,
  "kernelspec": {
   "name": "python3",
   "display_name": "Python 3",
   "language": "python"
  }
 },
 "nbformat": 4,
 "nbformat_minor": 2,
 "cells": [
  {
   "source": [
    "import pandas as pd\n",
    "import os\n",
    "import unittest\n",
    "import string\n",
    "import re\n",
    "pd.set_option('display.max_rows', 10)"
   ],
   "cell_type": "code",
   "metadata": {},
   "execution_count": 1,
   "outputs": []
  },
  {
   "cell_type": "code",
   "execution_count": 2,
   "metadata": {},
   "outputs": [
    {
     "output_type": "execute_result",
     "data": {
      "text/plain": [
       "0       acc +42\n",
       "1       acc -12\n",
       "2      nop +112\n",
       "3       acc +47\n",
       "4      jmp +600\n",
       "         ...   \n",
       "678     acc +45\n",
       "679     acc +23\n",
       "680     acc +13\n",
       "681     acc +19\n",
       "682      jmp +1\n",
       "Length: 683, dtype: object"
      ]
     },
     "metadata": {},
     "execution_count": 2
    }
   ],
   "source": [
    "trainFile = \"F:/Code/AOC/2020/inputs/2020_day8_input.txt\"\n",
    "pwd = os.getcwd()\n",
    "os.chdir(os.path.dirname(trainFile))\n",
    "file1 = open(trainFile, 'r') \n",
    "s = file1.read().splitlines()\n",
    "pd.Series(s)"
   ]
  },
  {
   "cell_type": "code",
   "execution_count": 3,
   "metadata": {},
   "outputs": [
    {
     "output_type": "execute_result",
     "data": {
      "text/plain": [
       "0     nop +0\n",
       "1     acc +1\n",
       "2     jmp +4\n",
       "3     acc +3\n",
       "4     jmp -3\n",
       "5    acc -99\n",
       "6     acc +1\n",
       "7     jmp -4\n",
       "8     acc +6\n",
       "dtype: object"
      ]
     },
     "metadata": {},
     "execution_count": 3
    }
   ],
   "source": [
    "trainFile = \"F:/Code/AOC/2020/inputs/2020_day8_example1.txt\"\n",
    "pwd = os.getcwd()\n",
    "os.chdir(os.path.dirname(trainFile))\n",
    "file1 = open(trainFile, 'r') \n",
    "s_ex1 = file1.read().splitlines()\n",
    "pd.Series(s_ex1)"
   ]
  },
  {
   "cell_type": "code",
   "execution_count": 4,
   "metadata": {},
   "outputs": [],
   "source": [
    "def parseInput(input):\n",
    "    lines = []\n",
    "    for i in input:\n",
    "        parts = i.split()\n",
    "        lines.append((parts[0],int(parts[1])))\n",
    "    return lines"
   ]
  },
  {
   "cell_type": "code",
   "execution_count": 5,
   "metadata": {},
   "outputs": [
    {
     "output_type": "execute_result",
     "data": {
      "text/plain": [
       "[('nop', 0),\n",
       " ('acc', 1),\n",
       " ('jmp', 4),\n",
       " ('acc', 3),\n",
       " ('jmp', -3),\n",
       " ('acc', -99),\n",
       " ('acc', 1),\n",
       " ('jmp', -4),\n",
       " ('acc', 6)]"
      ]
     },
     "metadata": {},
     "execution_count": 5
    }
   ],
   "source": [
    "p_ex1 = parseInput(s_ex1)\n",
    "p_ex1"
   ]
  },
  {
   "cell_type": "code",
   "execution_count": 6,
   "metadata": {},
   "outputs": [
    {
     "output_type": "execute_result",
     "data": {
      "text/plain": [
       "0       (acc, 42)\n",
       "1      (acc, -12)\n",
       "2      (nop, 112)\n",
       "3       (acc, 47)\n",
       "4      (jmp, 600)\n",
       "          ...    \n",
       "678     (acc, 45)\n",
       "679     (acc, 23)\n",
       "680     (acc, 13)\n",
       "681     (acc, 19)\n",
       "682      (jmp, 1)\n",
       "Length: 683, dtype: object"
      ]
     },
     "metadata": {},
     "execution_count": 6
    }
   ],
   "source": [
    "p = parseInput(s)\n",
    "pd.Series(p)"
   ]
  },
  {
   "cell_type": "code",
   "execution_count": 7,
   "metadata": {},
   "outputs": [],
   "source": [
    "def analyzeLoop(input):\n",
    "    i = 0\n",
    "    visited = {}\n",
    "    register = 0\n",
    "    while True:\n",
    "        if i in visited:\n",
    "            return (register, False)\n",
    "        visited[i] = 1\n",
    "        cmd = input[i]\n",
    "        op = cmd[0]\n",
    "        value = cmd[1]\n",
    "        if op == \"nop\":\n",
    "            i += 1\n",
    "        elif op == \"acc\":\n",
    "            i += 1\n",
    "            register += value\n",
    "        elif op == \"jmp\":\n",
    "            i += value\n",
    "        if i >= len(input):\n",
    "            return (register, True)"
   ]
  },
  {
   "cell_type": "code",
   "execution_count": null,
   "metadata": {},
   "outputs": [],
   "source": []
  },
  {
   "cell_type": "code",
   "execution_count": 8,
   "metadata": {},
   "outputs": [],
   "source": [
    "class PartOneTests(unittest.TestCase):\n",
    "    def setUp(self):\n",
    "        pass\n",
    "    def tearDown(self):\n",
    "        pass\n",
    "    def test_examples(self):\n",
    "        self.assertEqual((5,False),analyzeLoop(p_ex1))"
   ]
  },
  {
   "cell_type": "code",
   "execution_count": 9,
   "metadata": {},
   "outputs": [
    {
     "output_type": "stream",
     "name": "stderr",
     "text": [
      "test_examples (__main__.PartOneTests) ... ok\n",
      "\n",
      "----------------------------------------------------------------------\n",
      "Ran 1 test in 0.002s\n",
      "\n",
      "OK\n"
     ]
    },
    {
     "output_type": "execute_result",
     "data": {
      "text/plain": [
       "<unittest.main.TestProgram at 0x188deef1160>"
      ]
     },
     "metadata": {},
     "execution_count": 9
    }
   ],
   "source": [
    "unittest.main(argv=[''], verbosity=3, exit=False)"
   ]
  },
  {
   "cell_type": "code",
   "execution_count": 10,
   "metadata": {},
   "outputs": [
    {
     "output_type": "execute_result",
     "data": {
      "text/plain": [
       "(1859, False)"
      ]
     },
     "metadata": {},
     "execution_count": 10
    }
   ],
   "source": [
    "analyzeLoop(p)"
   ]
  },
  {
   "cell_type": "code",
   "execution_count": 11,
   "metadata": {},
   "outputs": [],
   "source": [
    "def findBug(input):\n",
    "    for x in range(0,len(input)):        \n",
    "        modified = input[:]\n",
    "        cmd = input[x]\n",
    "        if cmd[0] == \"jmp\":\n",
    "            modified[x] = (\"nop\",cmd[1])\n",
    "        elif cmd[0] == \"nop\":\n",
    "            modified[x] = (\"jmp\",cmd[1])       \n",
    "        a = analyzeLoop(modified)\n",
    "        if a[1]:\n",
    "            return a[0]"
   ]
  },
  {
   "cell_type": "code",
   "execution_count": 12,
   "metadata": {},
   "outputs": [
    {
     "output_type": "execute_result",
     "data": {
      "text/plain": [
       "8"
      ]
     },
     "metadata": {},
     "execution_count": 12
    }
   ],
   "source": [
    "findBug(p_ex1)"
   ]
  },
  {
   "cell_type": "code",
   "execution_count": 13,
   "metadata": {},
   "outputs": [
    {
     "output_type": "execute_result",
     "data": {
      "text/plain": [
       "1235"
      ]
     },
     "metadata": {},
     "execution_count": 13
    }
   ],
   "source": [
    "findBug(p)"
   ]
  }
 ]
}