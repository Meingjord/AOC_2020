{
 "metadata": {
  "language_info": {
   "codemirror_mode": {
    "name": "ipython",
    "version": 3
   },
   "file_extension": ".py",
   "mimetype": "text/x-python",
   "name": "python",
   "nbconvert_exporter": "python",
   "pygments_lexer": "ipython3",
   "version": "3.6.2-final"
  },
  "orig_nbformat": 2,
  "kernelspec": {
   "name": "python3",
   "display_name": "Python 3",
   "language": "python"
  }
 },
 "nbformat": 4,
 "nbformat_minor": 2,
 "cells": [
  {
   "source": [
    "import pandas as pd\n",
    "import os\n",
    "pd.set_option('display.max_rows', 10)"
   ],
   "cell_type": "code",
   "metadata": {},
   "execution_count": 1,
   "outputs": []
  },
  {
   "cell_type": "code",
   "execution_count": 2,
   "metadata": {},
   "outputs": [
    {
     "output_type": "execute_result",
     "data": {
      "text/plain": [
       "0                       4-5 r: rrrjr\n",
       "1             9-10 x: pxcbpxxwkqjttx\n",
       "2             8-13 b: rjbbbbvgrbrfjx\n",
       "3         3-5 d: dtddsdddddsddddddwd\n",
       "4            3-11 q: qbqsqqzqqxkmbqx\n",
       "                   ...              \n",
       "995    10-14 r: qskrrvvzclrrvztrdkrh\n",
       "996         4-13 c: wccwcccbccccrccc\n",
       "997       11-14 l: wlqzllcljjtqglbhl\n",
       "998     17-19 b: bbbbbbbbbbbbbbbbbbq\n",
       "999                     3-5 x: xxqxm\n",
       "Name: 0, Length: 1000, dtype: object"
      ]
     },
     "metadata": {},
     "execution_count": 2
    }
   ],
   "source": [
    "trainFile = \"F:/Code/AOC/2020/inputs/2020_day2_input.txt\"\n",
    "pwd = os.getcwd()\n",
    "os.chdir(os.path.dirname(trainFile))\n",
    "trainData = pd.read_csv(os.path.basename(trainFile),header=None)\n",
    "os.chdir(pwd)\n",
    "s = trainData.iloc[:,0]\n",
    "s"
   ]
  },
  {
   "cell_type": "code",
   "execution_count": 3,
   "metadata": {},
   "outputs": [],
   "source": [
    "def check_password(input):\n",
    "    parts = input.split(\":\")\n",
    "    rule = parts[0].strip()\n",
    "    ruleParts = rule.split(\" \")\n",
    "    countParts = ruleParts[0].split(\"-\")\n",
    "    minCount = int(countParts[0])\n",
    "    maxCount = int(countParts[1])\n",
    "    letter = ruleParts[1]\n",
    "    word = parts[1].strip()\n",
    "    occurrences = word.count(letter)\n",
    "    return minCount <= occurrences and occurrences <= maxCount"
   ]
  },
  {
   "cell_type": "code",
   "execution_count": 4,
   "metadata": {
    "tags": []
   },
   "outputs": [
    {
     "output_type": "stream",
     "name": "stdout",
     "text": [
      "Count of correct passwords in list :  398\n"
     ]
    }
   ],
   "source": [
    "# Count valid pwds in the list\n",
    "count = sum(map(check_password, s))\n",
    "print('Count of correct passwords in list : ', count)"
   ]
  },
  {
   "cell_type": "code",
   "execution_count": 5,
   "metadata": {},
   "outputs": [],
   "source": [
    "def check_password_part2(input):\n",
    "    parts = input.split(\":\")\n",
    "    rule = parts[0].strip()\n",
    "    ruleParts = rule.split(\" \")\n",
    "    countParts = ruleParts[0].split(\"-\")\n",
    "    minCount = int(countParts[0])\n",
    "    maxCount = int(countParts[1])\n",
    "    letter = ruleParts[1]\n",
    "    word = parts[1].strip()\n",
    "    \n",
    "    return bool(word[minCount-1]==letter) ^ bool(word[maxCount-1]==letter)"
   ]
  },
  {
   "cell_type": "code",
   "execution_count": 6,
   "metadata": {},
   "outputs": [
    {
     "output_type": "stream",
     "name": "stdout",
     "text": [
      "Count of correct passwords in list :  562\n"
     ]
    }
   ],
   "source": [
    "# Count valid pwds in the list\n",
    "count = sum(map(check_password_part2, s))\n",
    "print('Count of correct passwords in list : ', count)"
   ]
  }
 ]
}