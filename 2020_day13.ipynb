{
 "metadata": {
  "language_info": {
   "codemirror_mode": {
    "name": "ipython",
    "version": 3
   },
   "file_extension": ".py",
   "mimetype": "text/x-python",
   "name": "python",
   "nbconvert_exporter": "python",
   "pygments_lexer": "ipython3",
   "version": "3.6.2-final"
  },
  "orig_nbformat": 2,
  "kernelspec": {
   "name": "python3",
   "display_name": "Python 3",
   "language": "python"
  }
 },
 "nbformat": 4,
 "nbformat_minor": 2,
 "cells": [
  {
   "source": [
    "import pandas as pd\n",
    "import os\n",
    "import unittest\n",
    "import string\n",
    "import re\n",
    "pd.set_option('display.max_rows', 10)"
   ],
   "cell_type": "code",
   "metadata": {},
   "execution_count": 1,
   "outputs": []
  },
  {
   "cell_type": "code",
   "execution_count": 2,
   "metadata": {},
   "outputs": [
    {
     "output_type": "execute_result",
     "data": {
      "text/plain": [
       "0                                              1014511\n",
       "1    17,x,x,x,x,x,x,41,x,x,x,x,x,x,x,x,x,643,x,x,x,...\n",
       "dtype: object"
      ]
     },
     "metadata": {},
     "execution_count": 2
    }
   ],
   "source": [
    "trainFile = \"F:/Code/AOC/2020/inputs/2020_day13_input.txt\"\n",
    "pwd = os.getcwd()\n",
    "os.chdir(os.path.dirname(trainFile))\n",
    "file1 = open(trainFile, 'r') \n",
    "s = file1.read().splitlines()\n",
    "pd.Series(s)"
   ]
  },
  {
   "cell_type": "code",
   "execution_count": 3,
   "metadata": {},
   "outputs": [
    {
     "output_type": "execute_result",
     "data": {
      "text/plain": [
       "0                    939\n",
       "1    7,13,x,x,59,x,31,19\n",
       "dtype: object"
      ]
     },
     "metadata": {},
     "execution_count": 3
    }
   ],
   "source": [
    "trainFile = \"F:/Code/AOC/2020/inputs/2020_day13_example1.txt\"\n",
    "pwd = os.getcwd()\n",
    "os.chdir(os.path.dirname(trainFile))\n",
    "file1 = open(trainFile, 'r') \n",
    "s_ex1 = file1.read().splitlines()\n",
    "pd.Series(s_ex1)"
   ]
  },
  {
   "cell_type": "code",
   "execution_count": 4,
   "metadata": {},
   "outputs": [],
   "source": [
    "def parse(input):\n",
    "    parts = input[1].split(\",\")\n",
    "    intParts = []\n",
    "    allParts = []\n",
    "    for i in parts:\n",
    "        if i != \"x\":\n",
    "            intParts.append(int(i))\n",
    "            allParts.append(int(i))\n",
    "        else:\n",
    "            allParts.append(None)\n",
    "    return (int(input[0]),intParts, allParts)"
   ]
  },
  {
   "cell_type": "code",
   "execution_count": 5,
   "metadata": {},
   "outputs": [
    {
     "output_type": "execute_result",
     "data": {
      "text/plain": [
       "(939, [7, 13, 59, 31, 19], [7, 13, None, None, 59, None, 31, 19])"
      ]
     },
     "metadata": {},
     "execution_count": 5
    }
   ],
   "source": [
    "p = parse(s)\n",
    "p_ex1 = parse(s_ex1)\n",
    "p_ex1"
   ]
  },
  {
   "cell_type": "code",
   "execution_count": 6,
   "metadata": {},
   "outputs": [],
   "source": [
    "def solvePartOne(input):\n",
    "    currentTimestamp = input[0]\n",
    "    busses = input[1]\n",
    "    minTime = max(busses)\n",
    "    best = (minTime,0,0)\n",
    "    for b in busses:\n",
    "        time = b - currentTimestamp % b\n",
    "        #print(time, b)\n",
    "        if time < minTime:\n",
    "            minTime = time\n",
    "            best = (time, b, time*b)\n",
    "    return best  "
   ]
  },
  {
   "cell_type": "code",
   "execution_count": 7,
   "metadata": {},
   "outputs": [
    {
     "output_type": "execute_result",
     "data": {
      "text/plain": [
       "(5, 59, 295)"
      ]
     },
     "metadata": {},
     "execution_count": 7
    }
   ],
   "source": [
    "solvePartOne(p_ex1)"
   ]
  },
  {
   "cell_type": "code",
   "execution_count": 8,
   "metadata": {},
   "outputs": [
    {
     "output_type": "execute_result",
     "data": {
      "text/plain": [
       "(8, 433, 3464)"
      ]
     },
     "metadata": {},
     "execution_count": 8
    }
   ],
   "source": [
    "solvePartOne(p)"
   ]
  },
  {
   "cell_type": "code",
   "execution_count": 9,
   "metadata": {},
   "outputs": [],
   "source": [
    "def solvePartTwo(input):\n",
    "    base = 0\n",
    "    multiplier = 1\n",
    "    for o in range(0,len(input)):\n",
    "        bus = input[o]\n",
    "        if bus == None:\n",
    "            continue        \n",
    "        i = base\n",
    "        while (i+o) % bus != 0:\n",
    "            #print(bus, multiplier, \"checking\", i, o,(i+o) % bus )\n",
    "            i += multiplier            \n",
    "        #print(bus, multiplier, \"found\", i, o,(i+o) % bus )\n",
    "        base = i\n",
    "        multiplier *= bus\n",
    "        #print(\"new base and multiplier\",base,multiplier)        \n",
    "    return base    "
   ]
  },
  {
   "cell_type": "code",
   "execution_count": 10,
   "metadata": {},
   "outputs": [],
   "source": [
    "def parseAndSolvePartTwo(line):\n",
    "    input = [0,line]\n",
    "    part2parsed = parse(input)\n",
    "    solution = solvePartTwo(part2parsed[2])\n",
    "    return solution"
   ]
  },
  {
   "cell_type": "code",
   "execution_count": 11,
   "metadata": {},
   "outputs": [
    {
     "output_type": "execute_result",
     "data": {
      "text/plain": [
       "8"
      ]
     },
     "metadata": {},
     "execution_count": 11
    }
   ],
   "source": [
    "parseAndSolvePartTwo(\"2,3,5\")"
   ]
  },
  {
   "cell_type": "code",
   "execution_count": 12,
   "metadata": {},
   "outputs": [],
   "source": [
    "def checkSolution(line,value):\n",
    "    input = [0,line]\n",
    "    part2parsed = parse(input)\n",
    "    busses = part2parsed[2]\n",
    "    for o in range(0,len(busses)):\n",
    "        bus = busses[o]\n",
    "        #print(\"checking\", bus, o, value)        \n",
    "        if bus == None:\n",
    "            continue\n",
    "        print(value, bus, (value+o), (value+o)%bus, (value+o)%bus == 0)"
   ]
  },
  {
   "cell_type": "code",
   "execution_count": 13,
   "metadata": {},
   "outputs": [
    {
     "output_type": "stream",
     "name": "stdout",
     "text": [
      "1068781 7 1068781 0 True\n1068781 13 1068782 0 True\n1068781 59 1068785 0 True\n1068781 31 1068787 0 True\n1068781 19 1068788 0 True\n"
     ]
    }
   ],
   "source": [
    "checkSolution(\"7,13,x,x,59,x,31,19\",1068781)"
   ]
  },
  {
   "cell_type": "code",
   "execution_count": 14,
   "metadata": {},
   "outputs": [
    {
     "output_type": "execute_result",
     "data": {
      "text/plain": [
       "1068781"
      ]
     },
     "metadata": {},
     "execution_count": 14
    }
   ],
   "source": [
    "parseAndSolvePartTwo(\"7,13,x,x,59,x,31,19\")"
   ]
  },
  {
   "cell_type": "code",
   "execution_count": 15,
   "metadata": {},
   "outputs": [],
   "source": [
    "class PartTwoTests(unittest.TestCase):\n",
    "    def setUp(self):\n",
    "        pass\n",
    "    def tearDown(self):\n",
    "        pass\n",
    "    def test_simple(self):\n",
    "        self.assertEqual(8, parseAndSolvePartTwo(\"2,3,5\"))\n",
    "    def test_first_example(self):\n",
    "        self.assertEqual(1068781, parseAndSolvePartTwo(\"7,13,x,x,59,x,31,19\"))        \n",
    "    def test_example(self):\n",
    "        self.assertEqual(3417, parseAndSolvePartTwo(\"17,x,13,19\"))\n",
    "        self.assertEqual(754018, parseAndSolvePartTwo(\"67,7,59,61\"))\n",
    "        self.assertEqual(779210, parseAndSolvePartTwo(\"67,x,7,59,61\"))\n",
    "        self.assertEqual(1261476, parseAndSolvePartTwo(\"67,7,x,59,61 \"))\n",
    "        self.assertEqual(1202161486, parseAndSolvePartTwo(\"1789,37,47,1889\"))"
   ]
  },
  {
   "cell_type": "code",
   "execution_count": 16,
   "metadata": {},
   "outputs": [
    {
     "output_type": "stream",
     "name": "stderr",
     "text": [
      "test_example (__main__.PartTwoTests) ... ok\n",
      "test_first_example (__main__.PartTwoTests) ... ok\n",
      "test_simple (__main__.PartTwoTests) ... ok\n",
      "\n",
      "----------------------------------------------------------------------\n",
      "Ran 3 tests in 0.004s\n",
      "\n",
      "OK\n"
     ]
    },
    {
     "output_type": "execute_result",
     "data": {
      "text/plain": [
       "<unittest.main.TestProgram at 0x1fd121edc88>"
      ]
     },
     "metadata": {},
     "execution_count": 16
    }
   ],
   "source": [
    "unittest.main(argv=[''], verbosity=3, exit=False)"
   ]
  },
  {
   "cell_type": "code",
   "execution_count": 17,
   "metadata": {},
   "outputs": [
    {
     "output_type": "execute_result",
     "data": {
      "text/plain": [
       "760171380521445"
      ]
     },
     "metadata": {},
     "execution_count": 17
    }
   ],
   "source": [
    "solvePartTwo(p[2])"
   ]
  }
 ]
}